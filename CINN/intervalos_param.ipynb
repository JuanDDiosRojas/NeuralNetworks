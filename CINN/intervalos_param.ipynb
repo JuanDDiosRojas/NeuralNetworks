{
 "cells": [
  {
   "cell_type": "code",
   "execution_count": 1,
   "id": "5badbb76",
   "metadata": {},
   "outputs": [],
   "source": [
    "import matplotlib.pyplot as plt\n",
    "from neurodiffeq.solvers import BundleSolver1D\n",
    "from neurodiffeq.conditions import BundleIVP\n",
    "from neurodiffeq import diff  # the differentiation operation\n",
    "import torch"
   ]
  },
  {
   "cell_type": "markdown",
   "id": "fe6fc7af",
   "metadata": {},
   "source": [
    "Lets train a model for the integral:\n",
    "\n",
    "$$\\int \\sin(x)dx$$"
   ]
  },
  {
   "cell_type": "code",
   "execution_count": 2,
   "id": "7ed854fb",
   "metadata": {},
   "outputs": [],
   "source": [
    "#set the training intervals in a range:\n",
    "ti = 0.0\n",
    "tf = 10\n",
    "\n",
    "#interval for the initial condition\n",
    "ai = -0.1\n",
    "af = 0.6"
   ]
  },
  {
   "cell_type": "code",
   "execution_count": 3,
   "id": "c2d25901",
   "metadata": {},
   "outputs": [],
   "source": [
    "#We define the DE\n",
    "system = lambda u,x:[diff(u,x, order=1)-torch.sin(x)]"
   ]
  },
  {
   "cell_type": "code",
   "execution_count": 6,
   "id": "c8bf7471",
   "metadata": {},
   "outputs": [],
   "source": [
    "# Define the initial condition, this must be a <BundleIVP> condition\n",
    "condition = [BundleIVP(t_0=ti, bundle_conditions={'u_0': 0}), ]"
   ]
  },
  {
   "cell_type": "code",
   "execution_count": 10,
   "id": "85b200f6",
   "metadata": {},
   "outputs": [
    {
     "data": {
      "application/vnd.jupyter.widget-view+json": {
       "model_id": "53085e4b3f004e17996625012932962e",
       "version_major": 2,
       "version_minor": 0
      },
      "text/plain": [
       "Training Progress:   0%|                                                                       | 0/500 [00:00<…"
      ]
     },
     "metadata": {},
     "output_type": "display_data"
    },
    {
     "ename": "TypeError",
     "evalue": "meshgrid() got an unexpected keyword argument 'indexing'",
     "output_type": "error",
     "traceback": [
      "\u001b[1;31m---------------------------------------------------------------------------\u001b[0m",
      "\u001b[1;31mTypeError\u001b[0m                                 Traceback (most recent call last)",
      "Cell \u001b[1;32mIn[10], line 13\u001b[0m\n\u001b[0;32m      5\u001b[0m solver \u001b[38;5;241m=\u001b[39m BundleSolver1D(ode_system\u001b[38;5;241m=\u001b[39msystem,\n\u001b[0;32m      6\u001b[0m                         conditions\u001b[38;5;241m=\u001b[39mcondition,\n\u001b[0;32m      7\u001b[0m                         t_min\u001b[38;5;241m=\u001b[39mti, t_max\u001b[38;5;241m=\u001b[39mtf,\n\u001b[0;32m      8\u001b[0m                         theta_min\u001b[38;5;241m=\u001b[39mai,\n\u001b[0;32m      9\u001b[0m                         theta_max\u001b[38;5;241m=\u001b[39maf)\u001b[38;5;66;03m#,\u001b[39;00m\n\u001b[0;32m     10\u001b[0m                         \u001b[38;5;66;03m#loss_fn=weighted_loss_LCDM,)\u001b[39;00m\n\u001b[0;32m     11\u001b[0m     \n\u001b[0;32m     12\u001b[0m \u001b[38;5;66;03m# Start training:\u001b[39;00m\n\u001b[1;32m---> 13\u001b[0m \u001b[43msolver\u001b[49m\u001b[38;5;241;43m.\u001b[39;49m\u001b[43mfit\u001b[49m\u001b[43m(\u001b[49m\u001b[43mepochs\u001b[49m\u001b[43m)\u001b[49m\n",
      "File \u001b[1;32mD:\\Programas\\Anaconda2\\lib\\site-packages\\neurodiffeq\\solvers.py:483\u001b[0m, in \u001b[0;36mBaseSolver.fit\u001b[1;34m(self, max_epochs, callbacks, tqdm_file, **kwargs)\u001b[0m\n\u001b[0;32m    481\u001b[0m \u001b[38;5;66;03m# register local epoch (starting from 1 instead of 0) so it can be accessed by callbacks\u001b[39;00m\n\u001b[0;32m    482\u001b[0m \u001b[38;5;28mself\u001b[39m\u001b[38;5;241m.\u001b[39mlocal_epoch \u001b[38;5;241m=\u001b[39m local_epoch \u001b[38;5;241m+\u001b[39m \u001b[38;5;241m1\u001b[39m\n\u001b[1;32m--> 483\u001b[0m \u001b[38;5;28;43mself\u001b[39;49m\u001b[38;5;241;43m.\u001b[39;49m\u001b[43mrun_train_epoch\u001b[49m\u001b[43m(\u001b[49m\u001b[43m)\u001b[49m\n\u001b[0;32m    484\u001b[0m \u001b[38;5;28mself\u001b[39m\u001b[38;5;241m.\u001b[39mrun_valid_epoch()\n\u001b[0;32m    486\u001b[0m \u001b[38;5;28;01mfor\u001b[39;00m cb \u001b[38;5;129;01min\u001b[39;00m callbacks:\n",
      "File \u001b[1;32mD:\\Programas\\Anaconda2\\lib\\site-packages\\neurodiffeq\\solvers.py:418\u001b[0m, in \u001b[0;36mBaseSolver.run_train_epoch\u001b[1;34m(self)\u001b[0m\n\u001b[0;32m    416\u001b[0m \u001b[38;5;28;01mdef\u001b[39;00m \u001b[38;5;21mrun_train_epoch\u001b[39m(\u001b[38;5;28mself\u001b[39m):\n\u001b[0;32m    417\u001b[0m \u001b[38;5;250m    \u001b[39m\u001b[38;5;124mr\u001b[39m\u001b[38;5;124;03m\"\"\"Run a training epoch, update history, and perform gradient descent.\"\"\"\u001b[39;00m\n\u001b[1;32m--> 418\u001b[0m     \u001b[38;5;28;43mself\u001b[39;49m\u001b[38;5;241;43m.\u001b[39;49m\u001b[43m_run_epoch\u001b[49m\u001b[43m(\u001b[49m\u001b[38;5;124;43m'\u001b[39;49m\u001b[38;5;124;43mtrain\u001b[39;49m\u001b[38;5;124;43m'\u001b[39;49m\u001b[43m)\u001b[49m\n",
      "File \u001b[1;32mD:\\Programas\\Anaconda2\\lib\\site-packages\\neurodiffeq\\solvers.py:360\u001b[0m, in \u001b[0;36mBaseSolver._run_epoch\u001b[1;34m(self, key)\u001b[0m\n\u001b[0;32m    357\u001b[0m \u001b[38;5;66;03m# perform forward pass for all batches: a single graph is created and release in every iteration\u001b[39;00m\n\u001b[0;32m    358\u001b[0m \u001b[38;5;66;03m# see https://discuss.pytorch.org/t/why-do-we-need-to-set-the-gradients-manually-to-zero-in-pytorch/4903/17\u001b[39;00m\n\u001b[0;32m    359\u001b[0m \u001b[38;5;28;01mfor\u001b[39;00m batch_id \u001b[38;5;129;01min\u001b[39;00m \u001b[38;5;28mrange\u001b[39m(\u001b[38;5;28mself\u001b[39m\u001b[38;5;241m.\u001b[39mn_batches[key]):\n\u001b[1;32m--> 360\u001b[0m     batch \u001b[38;5;241m=\u001b[39m \u001b[38;5;28;43mself\u001b[39;49m\u001b[38;5;241;43m.\u001b[39;49m\u001b[43m_generate_batch\u001b[49m\u001b[43m(\u001b[49m\u001b[43mkey\u001b[49m\u001b[43m)\u001b[49m\n\u001b[0;32m    362\u001b[0m     \u001b[38;5;28;01mdef\u001b[39;00m \u001b[38;5;21mclosure\u001b[39m(zero_grad\u001b[38;5;241m=\u001b[39m\u001b[38;5;28;01mTrue\u001b[39;00m):\n\u001b[0;32m    363\u001b[0m         \u001b[38;5;28;01mnonlocal\u001b[39;00m batch_loss\n",
      "File \u001b[1;32mD:\\Programas\\Anaconda2\\lib\\site-packages\\neurodiffeq\\solvers.py:313\u001b[0m, in \u001b[0;36mBaseSolver._generate_batch\u001b[1;34m(self, key)\u001b[0m\n\u001b[0;32m    310\u001b[0m \u001b[38;5;66;03m# the following side effects are helpful for future extension,\u001b[39;00m\n\u001b[0;32m    311\u001b[0m \u001b[38;5;66;03m# especially for additional loss term that depends on the coordinates\u001b[39;00m\n\u001b[0;32m    312\u001b[0m \u001b[38;5;28mself\u001b[39m\u001b[38;5;241m.\u001b[39m_phase \u001b[38;5;241m=\u001b[39m key\n\u001b[1;32m--> 313\u001b[0m \u001b[38;5;28mself\u001b[39m\u001b[38;5;241m.\u001b[39m_batch[key] \u001b[38;5;241m=\u001b[39m [v\u001b[38;5;241m.\u001b[39mreshape(\u001b[38;5;241m-\u001b[39m\u001b[38;5;241m1\u001b[39m, \u001b[38;5;241m1\u001b[39m) \u001b[38;5;28;01mfor\u001b[39;00m v \u001b[38;5;129;01min\u001b[39;00m \u001b[38;5;28;43mself\u001b[39;49m\u001b[38;5;241;43m.\u001b[39;49m\u001b[43mgenerator\u001b[49m\u001b[43m[\u001b[49m\u001b[43mkey\u001b[49m\u001b[43m]\u001b[49m\u001b[38;5;241;43m.\u001b[39;49m\u001b[43mget_examples\u001b[49m\u001b[43m(\u001b[49m\u001b[43m)\u001b[49m]\n\u001b[0;32m    314\u001b[0m \u001b[38;5;28;01mreturn\u001b[39;00m \u001b[38;5;28mself\u001b[39m\u001b[38;5;241m.\u001b[39m_batch[key]\n",
      "File \u001b[1;32mD:\\Programas\\Anaconda2\\lib\\site-packages\\neurodiffeq\\generators.py:1007\u001b[0m, in \u001b[0;36mSamplerGenerator.get_examples\u001b[1;34m(self)\u001b[0m\n\u001b[0;32m   1006\u001b[0m \u001b[38;5;28;01mdef\u001b[39;00m \u001b[38;5;21mget_examples\u001b[39m(\u001b[38;5;28mself\u001b[39m) \u001b[38;5;241m-\u001b[39m\u001b[38;5;241m>\u001b[39m List[torch\u001b[38;5;241m.\u001b[39mTensor]:\n\u001b[1;32m-> 1007\u001b[0m     samples \u001b[38;5;241m=\u001b[39m \u001b[38;5;28;43mself\u001b[39;49m\u001b[38;5;241;43m.\u001b[39;49m\u001b[43mgenerator\u001b[49m\u001b[38;5;241;43m.\u001b[39;49m\u001b[43mget_examples\u001b[49m\u001b[43m(\u001b[49m\u001b[43m)\u001b[49m\n\u001b[0;32m   1008\u001b[0m     \u001b[38;5;28;01mif\u001b[39;00m \u001b[38;5;28misinstance\u001b[39m(samples, torch\u001b[38;5;241m.\u001b[39mTensor):\n\u001b[0;32m   1009\u001b[0m         samples \u001b[38;5;241m=\u001b[39m [samples]\n",
      "File \u001b[1;32mD:\\Programas\\Anaconda2\\lib\\site-packages\\neurodiffeq\\generators.py:844\u001b[0m, in \u001b[0;36mMeshGenerator.get_examples\u001b[1;34m(self)\u001b[0m\n\u001b[0;32m    842\u001b[0m     \u001b[38;5;28;01mreturn\u001b[39;00m ret[\u001b[38;5;241m0\u001b[39m]\n\u001b[0;32m    843\u001b[0m \u001b[38;5;28;01melse\u001b[39;00m:\n\u001b[1;32m--> 844\u001b[0m     ret \u001b[38;5;241m=\u001b[39m \u001b[43mtorch\u001b[49m\u001b[38;5;241;43m.\u001b[39;49m\u001b[43mmeshgrid\u001b[49m\u001b[43m(\u001b[49m\u001b[43mret\u001b[49m\u001b[43m,\u001b[49m\u001b[43m \u001b[49m\u001b[43mindexing\u001b[49m\u001b[38;5;241;43m=\u001b[39;49m\u001b[38;5;124;43m'\u001b[39;49m\u001b[38;5;124;43mij\u001b[39;49m\u001b[38;5;124;43m'\u001b[39;49m\u001b[43m)\u001b[49m\n\u001b[0;32m    845\u001b[0m     ret_f \u001b[38;5;241m=\u001b[39m \u001b[38;5;28mtuple\u001b[39m()\n\u001b[0;32m    846\u001b[0m     \u001b[38;5;28;01mfor\u001b[39;00m r \u001b[38;5;129;01min\u001b[39;00m ret:\n",
      "\u001b[1;31mTypeError\u001b[0m: meshgrid() got an unexpected keyword argument 'indexing'"
     ]
    }
   ],
   "source": [
    "#epochs\n",
    "epochs = 500\n",
    "\n",
    "# Define the solver:\n",
    "solver = BundleSolver1D(ode_system=system,\n",
    "                        conditions=condition,\n",
    "                        t_min=ti, t_max=tf,\n",
    "                        theta_min=ai,\n",
    "                        theta_max=af)#,\n",
    "                        #loss_fn=weighted_loss_LCDM,)\n",
    "    \n",
    "# Start training:\n",
    "solver.fit(epochs)"
   ]
  },
  {
   "cell_type": "code",
   "execution_count": null,
   "id": "60143467",
   "metadata": {},
   "outputs": [],
   "source": []
  },
  {
   "cell_type": "code",
   "execution_count": null,
   "id": "14cb34b5",
   "metadata": {},
   "outputs": [],
   "source": []
  },
  {
   "cell_type": "code",
   "execution_count": null,
   "id": "cf2b96e0",
   "metadata": {},
   "outputs": [],
   "source": []
  },
  {
   "cell_type": "code",
   "execution_count": null,
   "id": "ac66b409",
   "metadata": {},
   "outputs": [],
   "source": []
  },
  {
   "cell_type": "code",
   "execution_count": null,
   "id": "a32344aa",
   "metadata": {},
   "outputs": [],
   "source": []
  },
  {
   "cell_type": "code",
   "execution_count": null,
   "id": "fb7c92b1",
   "metadata": {},
   "outputs": [],
   "source": []
  },
  {
   "cell_type": "code",
   "execution_count": null,
   "id": "2d118fa2",
   "metadata": {},
   "outputs": [],
   "source": []
  },
  {
   "cell_type": "code",
   "execution_count": null,
   "id": "3a7103ec",
   "metadata": {},
   "outputs": [],
   "source": []
  },
  {
   "cell_type": "code",
   "execution_count": null,
   "id": "61e565c3",
   "metadata": {},
   "outputs": [],
   "source": []
  }
 ],
 "metadata": {
  "kernelspec": {
   "display_name": "Python 3 (ipykernel)",
   "language": "python",
   "name": "python3"
  },
  "language_info": {
   "codemirror_mode": {
    "name": "ipython",
    "version": 3
   },
   "file_extension": ".py",
   "mimetype": "text/x-python",
   "name": "python",
   "nbconvert_exporter": "python",
   "pygments_lexer": "ipython3",
   "version": "3.8.10"
  }
 },
 "nbformat": 4,
 "nbformat_minor": 5
}
