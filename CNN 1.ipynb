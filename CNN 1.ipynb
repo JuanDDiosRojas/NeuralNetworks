{
 "cells": [
  {
   "cell_type": "markdown",
   "id": "fd118988",
   "metadata": {},
   "source": [
    "# Introducción y principios de las redes neuronales convolucionales\n"
   ]
  },
  {
   "cell_type": "markdown",
   "id": "044e8d0a",
   "metadata": {},
   "source": [
    "Para las etapas de convolución son importantes tres cosas:\n",
    "\n",
    "1. El $\\textbf{padding}$\n",
    "\n",
    "Que consiste en 'rellenar' la imagen para que el filtro pueda analizar de buena manera su contorno sin perder información.\n",
    "\n",
    "\n",
    "2. el $\\textbf{stride}$\n",
    "\n",
    "Que es simplemente cuántas casillas avanza el kernel en cada movimiento \n",
    "\n",
    "\n",
    "3. la $\\textbf{convolución}$\n",
    "\n",
    "Resulta al hacer el mapeo del kernel sobre todo la imagen de entrada"
   ]
  },
  {
   "cell_type": "markdown",
   "id": "67aaed17",
   "metadata": {},
   "source": [
    "Dada una matriz $M_{nm}$ y un kernel de tamaño $k$, las dimensiones de la matriz resultante de aplicar el kernel a M serán:\n",
    "$$m'=\\frac{m-k+p}{s}+1$$\n",
    "$$n'=\\frac{n-k+p}{s}+1$$\n",
    "\n",
    "donde $p$ es el tamaño del padding (por ahora cero), y $s$ es el tamaño del stride"
   ]
  },
  {
   "cell_type": "code",
   "execution_count": 63,
   "id": "53309179",
   "metadata": {},
   "outputs": [],
   "source": [
    "import numpy as np\n",
    "import matplotlib.pyplot as plt\n",
    "import seaborn as sb\n",
    "\n",
    "def relu(x):\n",
    "    return x * (x > 0)\n",
    "\n",
    "def sigmoid(X):\n",
    "    return 1/(1+np.exp(-X))\n",
    "def dsigmoid(X):\n",
    "    return sigmoid(X)*(1-sigmoid(X))"
   ]
  },
  {
   "cell_type": "code",
   "execution_count": 2,
   "id": "7b7185cd",
   "metadata": {},
   "outputs": [],
   "source": [
    "#definimos la convolución como \n",
    "def conv(M,K,stride):\n",
    "    #n2=int((len(M)-len(K))/stride +1) #filas del mapeo\n",
    "    n2=int((np.shape(M)[0]-np.shape(K)[0])/stride + 1)\n",
    "    #m2=int((len(M[0])-len(K))/stride +1) #columnas del mapeo\n",
    "    m2=int((np.shape(M)[1]-np.shape(K)[1])/stride + 1)\n",
    "    k=len(K)\n",
    "    M2=np.zeros((n2,m2))\n",
    "    \n",
    "    for i in range(n2):\n",
    "        for j in range(m2):\n",
    "            M2[i,j] = np.sum(M[i:i+k,j:j+k] * K)\n",
    "    return M2\n",
    "    \n",
    "    \n",
    "    "
   ]
  },
  {
   "cell_type": "code",
   "execution_count": 39,
   "id": "4bbbaa6f",
   "metadata": {},
   "outputs": [
    {
     "data": {
      "text/plain": [
       "<AxesSubplot:>"
      ]
     },
     "execution_count": 39,
     "metadata": {},
     "output_type": "execute_result"
    },
    {
     "data": {
      "image/png": "[encoded data removed]",
      "text/plain": [
       "<Figure size 432x288 with 1 Axes>"
      ]
     },
     "metadata": {},
     "output_type": "display_data"
    }
   ],
   "source": [
    "#ejemplo, una imagen de 3x3\n",
    "#I=np.arange(1,10)\n",
    "#I=I.reshape((3,3))\n",
    "I=np.array([[0,0,1,0,0],\n",
    "            [0,1,1,1,0],\n",
    "            [0,0,1,0,0],\n",
    "            [0,0,0,0,0],\n",
    "            [0,0,0,0,0]])\n",
    "sb.heatmap(I,cbar=False,yticklabels=False,xticklabels=False)"
   ]
  },
  {
   "cell_type": "code",
   "execution_count": 40,
   "id": "3ccfade5",
   "metadata": {},
   "outputs": [
    {
     "data": {
      "text/plain": [
       "<AxesSubplot:>"
      ]
     },
     "execution_count": 40,
     "metadata": {},
     "output_type": "execute_result"
    },
    {
     "data": {
      "image/png": "[encoded data removed]",
      "text/plain": [
       "<Figure size 432x288 with 1 Axes>"
      ]
     },
     "metadata": {},
     "output_type": "display_data"
    }
   ],
   "source": [
    "#un filtro de 2x2\n",
    "K=np.array([[0,1,0],\n",
    "            [1,1,1],\n",
    "            [0,1,0]])\n",
    "sb.heatmap(K,cbar=False,yticklabels=False,xticklabels=False)"
   ]
  },
  {
   "cell_type": "code",
   "execution_count": 41,
   "id": "3c256a88",
   "metadata": {},
   "outputs": [
    {
     "data": {
      "text/plain": [
       "<AxesSubplot:>"
      ]
     },
     "execution_count": 41,
     "metadata": {},
     "output_type": "execute_result"
    },
    {
     "data": {
      "image/png": "[encoded data removed]",
      "text/plain": [
       "<Figure size 432x288 with 1 Axes>"
      ]
     },
     "metadata": {},
     "output_type": "display_data"
    }
   ],
   "source": [
    "#Hacemos la convolución con stride=1\n",
    "c=conv(I,K,1)\n",
    "sb.heatmap(c,cbar=False,yticklabels=False,xticklabels=False)"
   ]
  },
  {
   "cell_type": "code",
   "execution_count": 56,
   "id": "9706e200",
   "metadata": {},
   "outputs": [
    {
     "data": {
      "text/plain": [
       "<AxesSubplot:>"
      ]
     },
     "execution_count": 56,
     "metadata": {},
     "output_type": "execute_result"
    },
    {
     "data": {
      "image/png": "[encoded data removed]",
      "text/plain": [
       "<Figure size 432x288 with 1 Axes>"
      ]
     },
     "metadata": {},
     "output_type": "display_data"
    }
   ],
   "source": [
    "#más grande\n",
    "I=np.random.random((30,30))\n",
    "I[2,1:4]=2\n",
    "I[1:4,2]=2\n",
    "sb.heatmap(I,cbar=False,yticklabels=False,xticklabels=False)"
   ]
  },
  {
   "cell_type": "code",
   "execution_count": 54,
   "id": "26670365",
   "metadata": {},
   "outputs": [
    {
     "data": {
      "text/plain": [
       "<AxesSubplot:>"
      ]
     },
     "execution_count": 54,
     "metadata": {},
     "output_type": "execute_result"
    },
    {
     "data": {
      "image/png": "[encoded data removed]",
      "text/plain": [
       "<Figure size 432x288 with 1 Axes>"
      ]
     },
     "metadata": {},
     "output_type": "display_data"
    }
   ],
   "source": [
    "I=np.random.random((30,30))\n",
    "I[1,0:3]=2\n",
    "I[0:3,1]=2\n",
    "sb.heatmap(I,cbar=False,yticklabels=False,xticklabels=False)"
   ]
  },
  {
   "cell_type": "code",
   "execution_count": 61,
   "id": "a4f5a93d",
   "metadata": {},
   "outputs": [
    {
     "data": {
      "text/plain": [
       "<AxesSubplot:>"
      ]
     },
     "execution_count": 61,
     "metadata": {},
     "output_type": "execute_result"
    },
    {
     "data": {
      "image/png": "[encoded data removed]",
      "text/plain": [
       "<Figure size 432x288 with 1 Axes>"
      ]
     },
     "metadata": {},
     "output_type": "display_data"
    }
   ],
   "source": [
    "c=conv(I,K,1)\n",
    "sb.heatmap(c,cbar=False,yticklabels=False,xticklabels=False)"
   ]
  },
  {
   "cell_type": "code",
   "execution_count": 65,
   "id": "a843aaa0",
   "metadata": {},
   "outputs": [
    {
     "data": {
      "text/plain": [
       "<AxesSubplot:>"
      ]
     },
     "execution_count": 65,
     "metadata": {},
     "output_type": "execute_result"
    },
    {
     "data": {
      "image/png": "[encoded data removed]",
      "text/plain": [
       "<Figure size 432x288 with 1 Axes>"
      ]
     },
     "metadata": {},
     "output_type": "display_data"
    }
   ],
   "source": [
    "c=conv(I,K,1)\n",
    "c=sigmoid(c)\n",
    "sb.heatmap(c,cbar=False,yticklabels=False,xticklabels=False)"
   ]
  },
  {
   "cell_type": "code",
   "execution_count": null,
   "id": "65e5d3a8",
   "metadata": {},
   "outputs": [],
   "source": []
  },
  {
   "cell_type": "markdown",
   "id": "50528ff1",
   "metadata": {},
   "source": [
    "### Pooling o agrupamiento\n",
    "Se trata del proceso en el que reducimos la dimensión de la figura. Se hace al pasar una ventana sobre la figura y aplicando alguna función. Por ejemplo: asignar a esa ventana la media o el valor máximo.\n",
    "\n",
    "Tomamos de nuevo a I, y pasamos a través de él una ventana de dimensiones $k_1$ x $k_2$. Las dimensiones resultantes son las mismas que en si se estuviera aplicando una convolución."
   ]
  },
  {
   "cell_type": "code",
   "execution_count": 66,
   "id": "7bb3a534",
   "metadata": {},
   "outputs": [],
   "source": [
    "def pooling(X,k1,k2):\n",
    "    n2=int(np.shape(X)[0]-k1 + 1)\n",
    "    #m2=int((len(M[0])-len(K))/stride +1) #columnas del mapeo\n",
    "    m2=int(np.shape(X)[1]-k2 + 1)\n",
    "    M2=np.zeros((n2,m2))\n",
    "    \n",
    "    for i in range(n2):\n",
    "        for j in range(m2):\n",
    "            M2[i,j] = 1/(k1*k2)*np.sum(X[i:i+k1,j:j+k2])\n",
    "    return M2\n",
    "    "
   ]
  },
  {
   "cell_type": "code",
   "execution_count": 68,
   "id": "3cc59a5c",
   "metadata": {},
   "outputs": [
    {
     "data": {
      "text/plain": [
       "<AxesSubplot:>"
      ]
     },
     "execution_count": 68,
     "metadata": {},
     "output_type": "execute_result"
    },
    {
     "data": {
      "image/png": "[encoded data removed]",
      "text/plain": [
       "<Figure size 432x288 with 1 Axes>"
      ]
     },
     "metadata": {},
     "output_type": "display_data"
    }
   ],
   "source": [
    "p=pooling(c,2,2)\n",
    "sb.heatmap(p,cbar=False,yticklabels=False,xticklabels=False)"
   ]
  },
  {
   "cell_type": "code",
   "execution_count": 19,
   "id": "a9817181",
   "metadata": {},
   "outputs": [
    {
     "data": {
      "text/plain": [
       "array([[1, 2, 3],\n",
       "       [4, 5, 6],\n",
       "       [7, 8, 9]])"
      ]
     },
     "execution_count": 19,
     "metadata": {},
     "output_type": "execute_result"
    }
   ],
   "source": [
    "I"
   ]
  },
  {
   "cell_type": "code",
   "execution_count": null,
   "id": "bbcc0ef5",
   "metadata": {},
   "outputs": [],
   "source": []
  },
  {
   "cell_type": "code",
   "execution_count": 20,
   "id": "6ed56307",
   "metadata": {},
   "outputs": [
    {
     "data": {
      "text/plain": [
       "array([[3., 4.],\n",
       "       [6., 7.]])"
      ]
     },
     "execution_count": 20,
     "metadata": {},
     "output_type": "execute_result"
    }
   ],
   "source": [
    "pooling(I,2,2)"
   ]
  },
  {
   "attachments": {
    "convolution.png": {
     "image/png": "[encoded data removed]"
    }
   },
   "cell_type": "markdown",
   "id": "1394e4d4",
   "metadata": {},
   "source": [
    "# Convolución de un lote de imágenes \n",
    "![convolution.png](attachment:convolution.png)"
   ]
  },
  {
   "cell_type": "markdown",
   "id": "94ba6d8a",
   "metadata": {},
   "source": [
    "Cuando hacemos la convolución de un lote de imágenes, a cada imagen le corresponde un kernel particular. Cada kernel recorre la imagen de igual manera.(es decir que recorren las imágenes al mismo tiempo).\n",
    "\n",
    "Añadido a esto, podríamos aplicar más de un filtro a la vez, (o lote de filtros mejor dicho) lo que nos generará como salida un lote de imágenes nuevas"
   ]
  },
  {
   "cell_type": "code",
   "execution_count": 3,
   "id": "90850e1d",
   "metadata": {},
   "outputs": [
    {
     "data": {
      "text/plain": [
       "array([[[0.95475577, 0.83550548, 0.86030088, 0.6585898 , 0.48542593],\n",
       "        [0.49028739, 0.08442068, 0.74959021, 0.7606863 , 0.16734063],\n",
       "        [0.22563262, 0.97330508, 0.70170929, 0.57599969, 0.7881301 ],\n",
       "        [0.32723914, 0.96314512, 0.27031018, 0.05686699, 0.13694277],\n",
       "        [0.54969154, 0.44151635, 0.42815716, 0.73702083, 0.76916234]],\n",
       "\n",
       "       [[0.8011873 , 0.18381339, 0.85344298, 0.97660003, 0.82810751],\n",
       "        [0.30130464, 0.79059089, 0.99736556, 0.55442191, 0.95886616],\n",
       "        [0.96433615, 0.26978443, 0.31555562, 0.23319262, 0.87819296],\n",
       "        [0.24214508, 0.25681137, 0.09868966, 0.16627284, 0.62832714],\n",
       "        [0.29534969, 0.88294668, 0.05063997, 0.09639304, 0.69010341]],\n",
       "\n",
       "       [[0.28837971, 0.39233849, 0.26215331, 0.04116071, 0.04465247],\n",
       "        [0.0491789 , 0.55419317, 0.34307733, 0.01985895, 0.13177301],\n",
       "        [0.42623073, 0.29310161, 0.029313  , 0.31593681, 0.82496482],\n",
       "        [0.18805958, 0.59150493, 0.92530726, 0.84778912, 0.61756983],\n",
       "        [0.57083111, 0.19952449, 0.32156849, 0.64605638, 0.15391897]]])"
      ]
     },
     "execution_count": 3,
     "metadata": {},
     "output_type": "execute_result"
    }
   ],
   "source": [
    "#por ejemplo este es un lote de 3 imágenes de tamaño 5*5\n",
    "#(imagenes,filas,columnas)\n",
    "\n",
    "I=np.random.rand(3,5,5)\n",
    "I"
   ]
  },
  {
   "cell_type": "code",
   "execution_count": 4,
   "id": "e00a6b89",
   "metadata": {
    "scrolled": true
   },
   "outputs": [
    {
     "data": {
      "text/plain": [
       "array([[[[0.51637814, 0.41100024, 0.5576977 ],\n",
       "         [0.36251486, 0.55742777, 0.15199144],\n",
       "         [0.71615588, 0.53077797, 0.18905366]],\n",
       "\n",
       "        [[0.6591364 , 0.30418856, 0.62817302],\n",
       "         [0.11570571, 0.75714088, 0.62255678],\n",
       "         [0.36163008, 0.10817482, 0.48597034]],\n",
       "\n",
       "        [[0.35919253, 0.84724722, 0.8971727 ],\n",
       "         [0.13350637, 0.42664763, 0.17145986],\n",
       "         [0.29589717, 0.98029844, 0.05919248]]],\n",
       "\n",
       "\n",
       "       [[[0.63772289, 0.20753089, 0.54704033],\n",
       "         [0.87436034, 0.3657975 , 0.84609667],\n",
       "         [0.09466009, 0.40585775, 0.29500351]],\n",
       "\n",
       "        [[0.00173267, 0.65390885, 0.32274513],\n",
       "         [0.04329263, 0.86979005, 0.52440697],\n",
       "         [0.53699358, 0.91916984, 0.24667551]],\n",
       "\n",
       "        [[0.97307539, 0.43574947, 0.58076176],\n",
       "         [0.15737743, 0.88348461, 0.02855499],\n",
       "         [0.87290283, 0.62569551, 0.00688978]]],\n",
       "\n",
       "\n",
       "       [[[0.82599989, 0.1660975 , 0.39549121],\n",
       "         [0.11923962, 0.30370101, 0.24337557],\n",
       "         [0.54106492, 0.14669848, 0.84156346]],\n",
       "\n",
       "        [[0.90331003, 0.50536427, 0.48948114],\n",
       "         [0.34680822, 0.61326572, 0.9954742 ],\n",
       "         [0.18019983, 0.59792254, 0.51741748]],\n",
       "\n",
       "        [[0.33924452, 0.07108254, 0.67210844],\n",
       "         [0.20875606, 0.12609276, 0.20666226],\n",
       "         [0.38454415, 0.99227396, 0.61754137]]],\n",
       "\n",
       "\n",
       "       [[[0.57785639, 0.90285139, 0.14860429],\n",
       "         [0.97950044, 0.47480967, 0.31246663],\n",
       "         [0.4173831 , 0.25089433, 0.63408053]],\n",
       "\n",
       "        [[0.26561003, 0.78359123, 0.42469175],\n",
       "         [0.44241315, 0.02620244, 0.41743377],\n",
       "         [0.46018834, 0.00695366, 0.5159627 ]],\n",
       "\n",
       "        [[0.93573396, 0.76158041, 0.72181943],\n",
       "         [0.86389633, 0.13050065, 0.57110051],\n",
       "         [0.84846341, 0.27986826, 0.82235172]]],\n",
       "\n",
       "\n",
       "       [[[0.10203057, 0.87599548, 0.17428285],\n",
       "         [0.50220662, 0.9187802 , 0.67424253],\n",
       "         [0.28874544, 0.67629074, 0.3965399 ]],\n",
       "\n",
       "        [[0.98172549, 0.19352603, 0.30379919],\n",
       "         [0.69291717, 0.26331621, 0.62452571],\n",
       "         [0.17619743, 0.89117218, 0.46931277]],\n",
       "\n",
       "        [[0.79593638, 0.74101736, 0.96033586],\n",
       "         [0.19299103, 0.37347984, 0.63711785],\n",
       "         [0.11310976, 0.30304447, 0.54938548]]],\n",
       "\n",
       "\n",
       "       [[[0.06085299, 0.87568536, 0.96323426],\n",
       "         [0.51911884, 0.8808166 , 0.53199164],\n",
       "         [0.69206072, 0.22861257, 0.51696327]],\n",
       "\n",
       "        [[0.52425366, 0.73156776, 0.07079803],\n",
       "         [0.79277983, 0.32434417, 0.85418642],\n",
       "         [0.38020703, 0.95889486, 0.81208442]],\n",
       "\n",
       "        [[0.24170485, 0.1960736 , 0.05891251],\n",
       "         [0.75315843, 0.48147621, 0.35103771],\n",
       "         [0.28858938, 0.6281503 , 0.48203866]]]])"
      ]
     },
     "execution_count": 4,
     "metadata": {},
     "output_type": "execute_result"
    }
   ],
   "source": [
    "#El lote de filtros se define de igual manera, debe ser igual al número de imágenes, pero puede haber un número\n",
    "#cualquiera de estos lotes\n",
    "\n",
    "#(lotes, filtros=número de imágenes, k1, k2)\n",
    "K=np.random.rand(6,3,3,3)\n",
    "K\n",
    "#por ejemplo este es una capa con 6 lotes de filtros, cada lote se puede aplicar a las imágenes generando una salida."
   ]
  },
  {
   "cell_type": "markdown",
   "id": "edc4a41d",
   "metadata": {},
   "source": [
    "Ahora aplicamos este lote de filtros a cada lote de imágenes, que sería la convolución entre estos dos arreglos.\n",
    "\n",
    "I*K\n",
    "\n",
    "Para eso vamos a implificar la función $\\textbf{conv}$, para que pueda aplicar un kernel con varios filtros a un lote de imágenes.\n"
   ]
  },
  {
   "cell_type": "code",
   "execution_count": 5,
   "id": "eea8a557",
   "metadata": {},
   "outputs": [],
   "source": [
    "#para cuando tenemos imágenes en 3 canales\n",
    "\n",
    "def convolution(M,K,stride):\n",
    "    m2=int((np.shape(M)[1]-np.shape(K)[1])/stride + 1)#filas del lote de imágenes\n",
    "    n2=int((np.shape(M)[2]-np.shape(K)[2])/stride + 1)#columnas del lote de imágenes\n",
    "    num_imagenes=np.shape(M)[0] #número de canales o de imágenes\n",
    "    \n",
    "    k1=np.shape(K)[2]#filas de cada filtro\n",
    "    k2=np.shape(K)[3]#columnas de cada filtro\n",
    "    k=np.shape(K)[1]#número de filtros por lote = número de imágenes\n",
    "    num_ker=np.shape(K)[0] #cuántos lotes habrá por capa.\n",
    "    \n",
    "    M2=np.zeros((num_ker,m2,n2)) #dimensiones del lote de imágenes que generará esta convolución\n",
    "    \n",
    "    for l in range(num_ker):\n",
    "        for i in range(m2):\n",
    "            for j in range(n2):\n",
    "                a=0\n",
    "                for r in range(num_imagenes):\n",
    "                    a=a+np.sum(M[r,i:i+k1,j:j+k2] * K[l])\n",
    "                M2[l,i,j] = a\n",
    "    return M2\n",
    "    "
   ]
  },
  {
   "cell_type": "code",
   "execution_count": 6,
   "id": "6bc8fee0",
   "metadata": {},
   "outputs": [
    {
     "data": {
      "text/plain": [
       "array([[[19.91504561, 19.15297756, 18.36250695],\n",
       "        [17.45459314, 17.4366534 , 17.39728196],\n",
       "        [16.90290045, 15.18712335, 17.19776217]],\n",
       "\n",
       "       [[20.8528407 , 20.0742269 , 19.30267413],\n",
       "        [18.08169023, 18.23334503, 18.71652457],\n",
       "        [18.12291023, 16.32102508, 17.3315193 ]],\n",
       "\n",
       "       [[19.95690667, 17.81203992, 20.10369052],\n",
       "        [16.80270924, 16.70956073, 18.77895473],\n",
       "        [16.17964848, 15.82679946, 17.51208709]],\n",
       "\n",
       "       [[20.87549975, 21.27677745, 23.96060318],\n",
       "        [18.56181968, 20.95929996, 20.49720769],\n",
       "        [17.39279648, 19.08264306, 18.63567192]],\n",
       "\n",
       "       [[21.96597626, 20.89962016, 22.3512756 ],\n",
       "        [19.49149821, 19.31310594, 20.88937975],\n",
       "        [18.50141119, 17.47378652, 19.24048048]],\n",
       "\n",
       "       [[21.05718042, 21.38663371, 22.87317932],\n",
       "        [19.96731425, 20.05655593, 20.10742957],\n",
       "        [18.26170283, 18.37796618, 19.19552728]]])"
      ]
     },
     "execution_count": 6,
     "metadata": {},
     "output_type": "execute_result"
    }
   ],
   "source": [
    "convolution(I,K,stride=1)"
   ]
  },
  {
   "cell_type": "markdown",
   "id": "b814088c",
   "metadata": {},
   "source": [
    "# Funciones de activación para los tensores"
   ]
  },
  {
   "cell_type": "code",
   "execution_count": 2,
   "id": "875dc6d3",
   "metadata": {},
   "outputs": [],
   "source": [
    "# RELU\n",
    "def relu(x):\n",
    "    return x * (x > 0)\n",
    "\n",
    "def drelu(x):\n",
    "    return 1. * (x > 0)\n",
    "\n",
    "#IDENTIDAD\n",
    "def iden(X):\n",
    "    return X\n",
    "def diden(X):\n",
    "    return 1\n",
    "\n",
    "#SIGMOIDE\n",
    "def sigmoid(X):\n",
    "    return 1/(1+np.exp(-X))\n",
    "def dsigmoid(X):\n",
    "    return sigmoid(X)*(1-sigmoid(X))\n",
    "\n",
    "#TANGENTE HIPORBÓLICA\n",
    "def tanh(X):\n",
    "    return np.tanh(X)\n",
    "def dtanh(X):\n",
    "    return 1-tanh(X)**2"
   ]
  },
  {
   "cell_type": "code",
   "execution_count": 3,
   "id": "96ac6f39",
   "metadata": {},
   "outputs": [],
   "source": [
    "import matplotlib.pyplot as plt"
   ]
  },
  {
   "cell_type": "code",
   "execution_count": 4,
   "id": "3564fafe",
   "metadata": {},
   "outputs": [
    {
     "data": {
      "text/plain": [
       "[<matplotlib.lines.Line2D at 0x1fd3c4009a0>]"
      ]
     },
     "execution_count": 4,
     "metadata": {},
     "output_type": "execute_result"
    },
    {
     "data": {
      "image/png": "[encoded data removed]",
      "text/plain": [
       "<Figure size 432x288 with 1 Axes>"
      ]
     },
     "metadata": {
      "needs_background": "light"
     },
     "output_type": "display_data"
    }
   ],
   "source": [
    "x=np.arange(-10,10)\n",
    "plt.plot(x,relu(x))"
   ]
  },
  {
   "cell_type": "code",
   "execution_count": null,
   "id": "ee317924",
   "metadata": {},
   "outputs": [],
   "source": []
  },
  {
   "cell_type": "code",
   "execution_count": null,
   "id": "68cb2af0",
   "metadata": {},
   "outputs": [],
   "source": []
  },
  {
   "cell_type": "code",
   "execution_count": null,
   "id": "7a9bc078",
   "metadata": {},
   "outputs": [],
   "source": []
  }
 ],
 "metadata": {
  "kernelspec": {
   "display_name": "Python 3",
   "language": "python",
   "name": "python3"
  },
  "language_info": {
   "codemirror_mode": {
    "name": "ipython",
    "version": 3
   },
   "file_extension": ".py",
   "mimetype": "text/x-python",
   "name": "python",
   "nbconvert_exporter": "python",
   "pygments_lexer": "ipython3",
   "version": "3.8.10"
  }
 },
 "nbformat": 4,
 "nbformat_minor": 5
}
