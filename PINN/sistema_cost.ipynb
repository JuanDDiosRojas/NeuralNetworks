{
 "cells": [
  {
   "cell_type": "code",
   "execution_count": 340,
   "metadata": {},
   "outputs": [],
   "source": [
    "import torch\n",
    "import torch.nn as nn\n",
    "import matplotlib.pyplot as plt\n",
    "import numpy as np\n",
    "from scipy.integrate import odeint\n",
    "import mplcyberpunk\n",
    "import tqdm\n",
    "#from functions import nth_derivative"
   ]
  },
  {
   "cell_type": "code",
   "execution_count": 341,
   "metadata": {},
   "outputs": [],
   "source": [
    "plt.style.use('cyberpunk')\n",
    "# mplcyberpunk.make_lines_glow()"
   ]
  },
  {
   "cell_type": "code",
   "execution_count": 342,
   "metadata": {},
   "outputs": [],
   "source": [
    "#real solutions\n",
    "\n",
    "def Omegas(Y,t,gamma_r,gamma_m,gamma_l):\n",
    "  Or,Om,Ol=Y\n",
    "  gr,gm,gl = gamma_r,gamma_m,gamma_l\n",
    "  #queremos el arreglo [y,F]\n",
    "  #y=dx\n",
    "  pi=gr*Or + gl*Ol + gm*Om\n",
    "\n",
    "  return [3*(pi-gr)*Or,3*(pi-gm)*Om ,3*(pi-gl)*Ol]\n",
    "\n",
    "# #Condiciones del sistema:\n",
    "# y0=[0,1] #[x0,y0]\n",
    "# delta,omega = 0.8,5 #parametros libres\n",
    "# t = np.linspace(0, 10, 100) #tiempo\n",
    "\n",
    "#la función sol del sistema\n",
    "def sol_Omegas(y0, N, gamma_r,gamma_m,gamma_l):\n",
    "   return odeint(Omegas, y0, N, args=(gamma_r,gamma_m,gamma_l))"
   ]
  },
  {
   "cell_type": "code",
   "execution_count": 343,
   "metadata": {},
   "outputs": [],
   "source": [
    "N=np.linspace(0,-12,30)\n",
    "O=sol_Omegas([0.0005,0.3,0.7],N,4.0/3.0,1.0,0.0)"
   ]
  },
  {
   "cell_type": "code",
   "execution_count": 344,
   "metadata": {},
   "outputs": [],
   "source": [
    "# plt.plot(N,O[:,0])\n",
    "# plt.plot(N,O[:,1])\n",
    "# plt.plot(N,O[:,2])\n",
    "# mplcyberpunk.make_lines_glow()"
   ]
  },
  {
   "cell_type": "markdown",
   "metadata": {},
   "source": [
    "---"
   ]
  },
  {
   "cell_type": "code",
   "execution_count": 345,
   "metadata": {},
   "outputs": [],
   "source": [
    "def nth_derivative(net, x:torch.Tensor, j:int, i:int ,n:int) -> torch.Tensor:\n",
    "    \"\"\"\n",
    "    Esta función está creada para regresar la n-derivada de la componente j de la\n",
    "    función ann respecto de la variable i. \n",
    "    \n",
    "    ann(x)=(ann_0(x), ann_1(x)...,ann_j(x)...).\n",
    "    \n",
    "    Con x=(x_0,x_1,...,x_i,...)\n",
    "    \n",
    "    x debe ser un tensor: torch.Size([n, m])\n",
    "\n",
    "    Para el buen funcionamiento: net(x)[0].shape = torch.Size([1])\n",
    "    \"\"\"\n",
    "    x.requires_grad=True\n",
    "    # Initialize the gradient tensor to 1.0, as the 0th derivative is the function itself.\n",
    "    ann=net(x)[:,j].view(-1,1)\n",
    "    grad_tensor = torch.ones(ann.size(), dtype=torch.float32, requires_grad=True)\n",
    "    for _ in range(n):\n",
    "        Dann=torch.autograd.grad(ann, x, grad_outputs=grad_tensor, create_graph=True)[0][:,i]\n",
    "        Dann=Dann.reshape(ann.shape)\n",
    "        ann=Dann\n",
    "    return ann"
   ]
  },
  {
   "cell_type": "code",
   "execution_count": 346,
   "metadata": {},
   "outputs": [],
   "source": [
    "# Definición de la función F(t)\n",
    "def F(t):\n",
    "  \"\"\"\n",
    "  Función vectorial F(t) = (t^2, 2t).\n",
    "\n",
    "  Args:\n",
    "    t: Tensor de PyTorch que representa el tiempo.\n",
    "\n",
    "  Returns:\n",
    "    Tensor de PyTorch que representa la función F(t).\n",
    "  \"\"\"\n",
    "  t_squared = torch.pow(t, 2)\n",
    "  two_t = 2 * t\n",
    "  return torch.stack((t_squared, two_t), dim=1)\n",
    "\n",
    "# Ejemplo de uso\n",
    "t = torch.linspace(0.0, 1.0, 100)\n",
    "f_t = F(t)"
   ]
  },
  {
   "cell_type": "code",
   "execution_count": 347,
   "metadata": {},
   "outputs": [
    {
     "data": {
      "text/plain": [
       "tensor([[9, 6]])"
      ]
     },
     "execution_count": 347,
     "metadata": {},
     "output_type": "execute_result"
    }
   ],
   "source": [
    "F(torch.tensor([3]))"
   ]
  },
  {
   "cell_type": "code",
   "execution_count": 348,
   "metadata": {},
   "outputs": [
    {
     "data": {
      "text/plain": [
       "tensor([[2.]], grad_fn=<ViewBackward0>)"
      ]
     },
     "execution_count": 348,
     "metadata": {},
     "output_type": "execute_result"
    }
   ],
   "source": [
    "nth_derivative(F,torch.tensor([[3.0]]), 1, 0,1)"
   ]
  },
  {
   "cell_type": "markdown",
   "metadata": {},
   "source": [
    "Lets solve the ODE system:\n",
    "\n",
    "\\begin{align} \n",
    "x' =& 2x + y \\\\\n",
    "y' =& -x + 3y\n",
    "\\end{align}\n",
    "\n",
    "with $x(0) = 1$, $y(0) = 2$\n",
    "\n",
    "\\begin{align} \n",
    "x(t) =& \\frac{1}{3}e^t + \\frac{2}{3}e^{4t} \\\\\n",
    "y(t) =& \\frac{1}{3}e^t + \\frac{2}{3}e^{4t}\n",
    "\\end{align}"
   ]
  },
  {
   "cell_type": "markdown",
   "metadata": {},
   "source": [
    "## System of Ordinary Differential Equations\n",
    "A number of coupled differential equations form a system of equations. Let $t \\in \\mathcal{R}$ \n",
    "be the independent variable and $$\\bar{x}(t) : \\mathcal{R}\\longrightarrow \\mathcal{R}^m$$\n",
    "be a function of $t$. A system of ordinary differential equations of order $n$ takes the form:\n",
    "\n",
    "$$F(t, \\vec{x}, \\frac{d\\vec{x}}{dt}, \\frac{d^2\\vec{x}}{dt^2}, \\ldots, \\frac{d^n\\vec{x}}{dt^n}) = \\vec{0},\n",
    "$$\n",
    "\n",
    "\\\\\n",
    "\n",
    "\n",
    "\\\\\n",
    "\n",
    "\n",
    "$$\n",
    "\\begin{split}\\begin{pmatrix}\n",
    "f_0(t, \\vec{x}, \\displaystyle\\frac{d\\vec{x}}{dt}, \\displaystyle\\frac{d^2\\vec{x}}{dt^2}, \\ldots, \\displaystyle\\frac{d^n\\vec{x}}{dt^n}) \\\\\n",
    "f_1(t, \\vec{x}, \\displaystyle\\frac{d\\vec{x}}{dt}, \\displaystyle\\frac{d^2\\vec{x}}{dt^2}, \\ldots, \\displaystyle\\frac{d^n\\vec{x}}{dt^n}) \\\\\n",
    "\\vdots \\\\\n",
    "f_{m-1}(t, \\vec{x}, \\displaystyle\\frac{d\\vec{x}}{dt}, \\displaystyle\\frac{d^2\\vec{x}}{dt^2}, \\ldots, \\displaystyle\\frac{d^n\\vec{x}}{dt^n})\n",
    "\\end{pmatrix}\n",
    "=\n",
    "\\begin{pmatrix}\n",
    "0 \\\\\n",
    "0 \\\\\n",
    "\\vdots \\\\\n",
    "0\n",
    "\\end{pmatrix}\\end{split}\n",
    "$$"
   ]
  },
  {
   "cell_type": "markdown",
   "metadata": {},
   "source": [
    "\\begin{equation}\n",
    "\n",
    "    \\Omega_i' = 3(\\Pi - \\gamma_i)\\Omega_i,\n",
    "\\end{equation}\n",
    "\n",
    "con $\\Pi = \\sum_i \\gamma_i \\Omega_i$\n",
    "\n",
    "$\\Omega_r, \\gamma_r = 4/3$\n",
    "\n",
    "$\\Omega_m, \\gamma_m = 1$\n",
    "\n",
    "$\\Omega_\\Lambda, \\gamma_\\Lambda = 0$\n",
    "\n"
   ]
  },
  {
   "cell_type": "code",
   "execution_count": 349,
   "metadata": {},
   "outputs": [
    {
     "name": "stdout",
     "output_type": "stream",
     "text": [
      "Sequential(\n",
      "  (0): Linear(in_features=1, out_features=35, bias=True)\n",
      "  (1): Tanh()\n",
      "  (2): Linear(in_features=35, out_features=35, bias=True)\n",
      "  (3): Tanh()\n",
      "  (4): Linear(in_features=35, out_features=3, bias=True)\n",
      ")\n"
     ]
    }
   ],
   "source": [
    "nodos=35\n",
    "ANN = nn.Sequential(nn.Linear(1, nodos), nn.Tanh(), nn.Linear(nodos,nodos),\n",
    "                    #nn.Tanh(), nn.Linear(nodos,nodos),\n",
    "                    #nn.Tanh(), nn.Linear(nodos,nodos),\n",
    "                    #nn.Tanh(), nn.Linear(nodos,nodos),\n",
    "                    # nn.Tanh(), nn.Linear(nodos,nodos),\n",
    "                    nn.Tanh(),nn.Linear(nodos,3))\n",
    "print(ANN)"
   ]
  },
  {
   "cell_type": "code",
   "execution_count": 350,
   "metadata": {},
   "outputs": [],
   "source": [
    "#The domain and the batch for the training\n",
    "ti=-12.0\n",
    "tf=0.0\n",
    "\n",
    "t=torch.linspace(ti,tf,500).view(-1,1)"
   ]
  },
  {
   "cell_type": "code",
   "execution_count": 351,
   "metadata": {},
   "outputs": [],
   "source": [
    "#t.cuda()"
   ]
  },
  {
   "cell_type": "code",
   "execution_count": 352,
   "metadata": {},
   "outputs": [
    {
     "data": {
      "text/plain": [
       "torch.Size([500, 1])"
      ]
     },
     "execution_count": 352,
     "metadata": {},
     "output_type": "execute_result"
    }
   ],
   "source": [
    "t.shape"
   ]
  },
  {
   "cell_type": "code",
   "execution_count": 353,
   "metadata": {},
   "outputs": [],
   "source": [
    "# #reparam of the solution to meet the initial conditions\n",
    "# init_conditions=torch.tensor([[0.0005,0.3,0.7]])\n",
    "\n",
    "# def Param(t,x0=init_conditions,net=ANN):\n",
    "#     #out = net(T)\n",
    "#     #b=1-torch.exp(ti-T[:,0])\n",
    "#     #return torch.reshape(T[:,1],out.size()) + b*out\n",
    "#     #return T[:,1].view(-1,1) + a.view(-1,1) +b.view(-1,1)**2 * out\n",
    "#     return x0 + (1.0-torch.exp(t))*net(t)\n",
    "#     #return x0 + b.view(-1,1) * out}"
   ]
  },
  {
   "cell_type": "markdown",
   "metadata": {},
   "source": [
    "\\begin{align} \n",
    "x' =& 2x + y \\\\\n",
    "y' =& -x + 3y\n",
    "\\end{align}"
   ]
  },
  {
   "cell_type": "markdown",
   "metadata": {},
   "source": [
    "\\begin{equation}\n",
    "\n",
    "    \\Omega_i' = 3(\\Pi - \\gamma_i)\\Omega_i,\n",
    "\\end{equation}\n",
    "\n",
    "con $\\Pi = \\sum_i \\gamma_i \\Omega_i$\n",
    "\n",
    "$\\Omega_r, \\gamma_r = 4/3$\n",
    "\n",
    "$\\Omega_m, \\gamma_m = 1$\n",
    "\n",
    "$\\Omega_\\Lambda, \\gamma_\\Lambda = 0$\n",
    "\n"
   ]
  },
  {
   "cell_type": "code",
   "execution_count": 354,
   "metadata": {},
   "outputs": [],
   "source": [
    "g_r = 4.0/3.0\n",
    "g_m = 1.0\n",
    "g_l = 0.0\n",
    "\n",
    "def cost(t):\n",
    "    t0=torch.tensor([0.0], requires_grad=True)\n",
    "    t.requires_grad=True\n",
    "\n",
    "    Or=ANN(t)[:,0].view(-1,1)\n",
    "    Om=ANN(t)[:,1].view(-1,1)\n",
    "    Ol=ANN(t)[:,2].view(-1,1)\n",
    "\n",
    "    D_Or = nth_derivative(ANN,t, 0, 0,1)\n",
    "    D_Om = nth_derivative(ANN,t, 1, 0,1)\n",
    "    D_Ol = nth_derivative(ANN,t, 2, 0,1)\n",
    "\n",
    "    pi = g_l*Ol + g_r*Or + g_m*Om\n",
    "\n",
    "    a=torch.mean((D_Ol - 3*(pi - g_l)*Ol)**2)\n",
    "    b=torch.mean((D_Or - 3*(pi - g_r)*Or )**2)\n",
    "    c=torch.mean((D_Om - 3*(pi - g_m)*Om )**2)\n",
    "\n",
    "    # a=torch.linalg.norm(D_Ol - 3*(pi - g_l)*Ol )**2\n",
    "    # b=torch.linalg.norm(D_Or - 3*(pi - g_r)*Or )**2\n",
    "    # c=torch.linalg.norm(D_Om - 3*(pi - g_m)*Om )**2\n",
    "\n",
    "    x0 = torch.abs(ANN(t0) - torch.tensor([0.0005,0.3,0.7]))\n",
    "    \n",
    "    return  a + b + c + torch.linalg.norm(x0)**2"
   ]
  },
  {
   "cell_type": "code",
   "execution_count": null,
   "metadata": {},
   "outputs": [],
   "source": []
  },
  {
   "cell_type": "code",
   "execution_count": 355,
   "metadata": {},
   "outputs": [],
   "source": [
    "# t0=torch.tensor([[0.0]], requires_grad=True)\n",
    "# t.requires_grad=True\n",
    "\n",
    "# Or=ANN(t)[:,0].view(-1,1)\n",
    "# Om=ANN(t)[:,1].view(-1,1)\n",
    "# Ol=ANN(t)[:,2].view(-1,1)\n",
    "\n",
    "# D_Or = nth_derivative(ANN,t, 0, 0,1)\n",
    "# D_Om = nth_derivative(ANN,t, 1, 0,1)\n",
    "# D_Ol = nth_derivative(ANN,t, 2, 0,1)\n",
    "\n",
    "# # pi = g_l*Ol + g_r*Or + g_m*Om\n",
    "\n",
    "# # # a=torch.mean((D_Ol - 3*(pi - g_l)*Ol )**2)\n",
    "# # # b=torch.mean((D_Or - 3*(pi - g_r)*Or )**2)\n",
    "# # # c=torch.mean((D_Om - 3*(pi - g_m)*Om )**2)\n",
    "\n",
    "# # a=torch.linalg.norm(D_Ol - 3*(pi - g_l)*Ol )**2\n",
    "# # b=torch.linalg.norm(D_Or - 3*(pi - g_r)*Or )**2\n",
    "# # c=torch.linalg.norm(D_Om - 3*(pi - g_m)*Om )**2\n",
    "\n",
    "# # x0 = ANN(t0) - torch.tensor([[0.0005,0.3,0.7]])\n",
    "\n",
    "# # return  a + b + c + torch.mean(x0**2) "
   ]
  },
  {
   "cell_type": "code",
   "execution_count": 356,
   "metadata": {},
   "outputs": [
    {
     "data": {
      "text/plain": [
       "False"
      ]
     },
     "execution_count": 356,
     "metadata": {},
     "output_type": "execute_result"
    }
   ],
   "source": [
    "D_Ol.shape==Ol.shape==t.shape"
   ]
  },
  {
   "cell_type": "code",
   "execution_count": 357,
   "metadata": {},
   "outputs": [],
   "source": [
    "# x0 = 0.0\n",
    "# y0 = 0.0\n",
    "\n",
    "# def cost(t):\n",
    "#     t0=torch.tensor([[0.0]], requires_grad=True)\n",
    "#     t.requires_grad=True\n",
    "\n",
    "#     x=ANN(t)[:,0].view(-1,1)\n",
    "#     y=ANN(t)[:,1].view(-1,1)\n",
    "#     #Ol=ANN(t)[:,2].view(-1,1)\n",
    "\n",
    "#     Dx = nth_derivative(ANN,t, 0, 0,1)\n",
    "#     Dy = nth_derivative(ANN,t, 1, 0,1)\n",
    "#     # D_Ol = nth_derivative(ANN,t, 2, 0,1)\n",
    "\n",
    "#     #pi = g_l*Ol + g_r*Or + g_m*Om\n",
    "\n",
    "#     a=torch.mean((Dx - torch.sin(y))**2)\n",
    "#     b=torch.mean((Dy - 4.0)**2)\n",
    "#     #c=torch.mean((D_Om - 3*(pi - g_m)*Om )**2)\n",
    "\n",
    "#     # a=torch.linalg.norm(D_Ol - 3*(pi - g_l)*Ol )**2\n",
    "#     # b=torch.linalg.norm(D_Or - 3*(pi - g_r)*Or )**2\n",
    "#     # c=torch.linalg.norm(D_Om - 3*(pi - g_m)*Om )**2\n",
    "\n",
    "#     condiciones = ANN(t0) - torch.tensor([x0, y0])\n",
    "    \n",
    "#     return  a + b + torch.mean((condiciones)**2)"
   ]
  },
  {
   "cell_type": "code",
   "execution_count": 372,
   "metadata": {},
   "outputs": [
    {
     "data": {
      "text/plain": [
       "tensor(6.0979e-06, grad_fn=<AddBackward0>)"
      ]
     },
     "execution_count": 372,
     "metadata": {},
     "output_type": "execute_result"
    }
   ],
   "source": [
    "cost(t)"
   ]
  },
  {
   "cell_type": "code",
   "execution_count": 366,
   "metadata": {},
   "outputs": [],
   "source": [
    "learning_rate=0.01\n",
    "epocas=3000\n",
    "\n",
    "\n",
    "optimizer = torch.optim.Adam(ANN.parameters(), lr=learning_rate)"
   ]
  },
  {
   "cell_type": "code",
   "execution_count": 367,
   "metadata": {},
   "outputs": [],
   "source": [
    "t.cuda();"
   ]
  },
  {
   "cell_type": "code",
   "execution_count": 368,
   "metadata": {},
   "outputs": [
    {
     "name": "stderr",
     "output_type": "stream",
     "text": [
      "Training: 100%|\u001b[36m███████████████████████████████████\u001b[0m| 3000/3000 [00:30<00:00, 98.26it/s, loss=6.11e-6]\u001b[0m\n"
     ]
    },
    {
     "data": {
      "image/png": "[encoded data removed]",
      "text/plain": [
       "<Figure size 640x480 with 1 Axes>"
      ]
     },
     "metadata": {},
     "output_type": "display_data"
    }
   ],
   "source": [
    "#loop de entrenamiendo \n",
    "pbar = tqdm.tqdm(range(epocas), desc=\"Training\",  colour='cyan', ncols=100)\n",
    "\n",
    "errores=[]\n",
    "for i in pbar:\n",
    "    l=cost(t) #coste\n",
    "    #l=torch.nn.MSELoss(Param(T))\n",
    "    l.backward() #gradiente\n",
    "    optimizer.step() #se actualizan los parámetros\n",
    "    optimizer.zero_grad() #vacíamos el gradiente\n",
    "    #print('época=%.2f , loss=%.2f'%(i,l))\n",
    "    errores.append(float(l))\n",
    "    #tqdm.set_description('época: %d , loss: %.2f' % (i, l.item()))\n",
    "    pbar.set_postfix({'loss': l.item()})\n",
    "    #pbar.set_refresh(50)\n",
    "    #tqdm.set_description(\"Training\")\n",
    "    #print('época=%.2f , loss=%.2f'%(i,l))\n",
    "\n",
    "plt.plot(range(epocas),errores)\n",
    "plt.yscale('log')"
   ]
  },
  {
   "cell_type": "code",
   "execution_count": 370,
   "metadata": {},
   "outputs": [
    {
     "data": {
      "text/plain": [
       "<matplotlib.legend.Legend at 0x7f135f22f700>"
      ]
     },
     "execution_count": 370,
     "metadata": {},
     "output_type": "execute_result"
    },
    {
     "data": {
      "image/png": "[encoded data removed]",
      "text/plain": [
       "<Figure size 640x480 with 1 Axes>"
      ]
     },
     "metadata": {},
     "output_type": "display_data"
    }
   ],
   "source": [
    "plt.plot(N,O[:,0])\n",
    "plt.plot(N,O[:,1])\n",
    "plt.plot(N,O[:,2])\n",
    "# mplcyberpunk.make_lines_glow()\n",
    "dom=torch.linspace(-12,0,100).view(-1,1)\n",
    "\n",
    "# plt.plot(dom.detach(),dom.detach()**2, label='real')\n",
    "#plt.plot(dom.detach(),-1/4*torch.cos(4*dom.detach())+0.25, label='real')\n",
    "\n",
    "plt.plot(dom.detach(),ANN(dom).detach()[:,0],'--', label='$\\Omega_r$', color='cyan')\n",
    "plt.plot(dom.detach(),ANN(dom).detach()[:,1], '--',label='$\\Omega_m$', color='pink')\n",
    "plt.plot(dom.detach(),ANN(dom).detach()[:,2], '--',label='$\\Omega_\\Lambda$', color='yellow')\n",
    "plt.legend()\n",
    "#plt.plot(t.detach(),1/3 * torch.exp(t.detach()) + 2/3*torch.exp(4.0*t.detach()))\n",
    "         \n",
    "#y(t) =& \\frac{1}{3}e^t + \\frac{2}{3}e^{4t})\n",
    "#mplcyberpunk.make_lines_glow()"
   ]
  },
  {
   "cell_type": "code",
   "execution_count": 371,
   "metadata": {},
   "outputs": [
    {
     "data": {
      "text/plain": [
       "tensor([2.4937e-04, 3.0003e-01, 6.9999e-01], grad_fn=<ViewBackward0>)"
      ]
     },
     "execution_count": 371,
     "metadata": {},
     "output_type": "execute_result"
    }
   ],
   "source": [
    "ANN(torch.tensor([0.0]))"
   ]
  },
  {
   "cell_type": "code",
   "execution_count": null,
   "metadata": {},
   "outputs": [],
   "source": []
  },
  {
   "cell_type": "markdown",
   "metadata": {},
   "source": [
    "# Parámetros del modelo\n",
    "a = 1.0\n",
    "b = 1.0\n",
    "c = 1.0\n",
    "d = 1.0\n",
    "\n",
    "# Ecuaciones de Lotka-Volterra\n",
    "def dxdt(x, y):\n",
    "  return a * x - b * x * y\n",
    "\n",
    "def dydt(x, y):\n",
    "  return c * x * y - d * y\n",
    "\n",
    "# Solución numérica de las ecuaciones\n",
    "t = np.linspace(0,26, 100)\n",
    "x = np.zeros(len(t))\n",
    "y = np.zeros(len(t))\n",
    "\n",
    "x[0] = 1.5\n",
    "y[0] = 1.0\n",
    "\n",
    "for i in range(1, len(t)):\n",
    "  x[i] = x[i - 1] + dxdt(x[i - 1], y[i - 1]) * (t[i] - t[i - 1])\n",
    "  y[i] = y[i - 1] + dydt(x[i - 1], y[i - 1]) * (t[i] - t[i - 1])\n",
    "\n",
    "# Gráfica de las poblaciones\n",
    "plt.plot(t, x, label=\"Presa\")\n",
    "plt.plot(t, y, label=\"Depredador\")\n",
    "plt.xlabel(\"Tiempo\")\n",
    "plt.ylabel(\"Población\")\n",
    "plt.legend()\n",
    "plt.show()"
   ]
  },
  {
   "cell_type": "markdown",
   "metadata": {},
   "source": []
  }
 ],
 "metadata": {
  "kernelspec": {
   "display_name": "Python 3",
   "language": "python",
   "name": "python3"
  },
  "language_info": {
   "codemirror_mode": {
    "name": "ipython",
    "version": 3
   },
   "file_extension": ".py",
   "mimetype": "text/x-python",
   "name": "python",
   "nbconvert_exporter": "python",
   "pygments_lexer": "ipython3",
   "version": "3.10.12"
  }
 },
 "nbformat": 4,
 "nbformat_minor": 2
}
