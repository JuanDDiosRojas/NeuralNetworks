{
 "cells": [
  {
   "cell_type": "code",
   "execution_count": 1,
   "id": "c71eb4cc-9e64-4b96-aabc-0ddb75e8e2ef",
   "metadata": {},
   "outputs": [],
   "source": [
    "import numpy as np\n",
    "from scipy.integrate import solve_ivp\n",
    "import matplotlib.pyplot as plt\n"
   ]
  },
  {
   "cell_type": "code",
   "execution_count": null,
   "id": "2e3e1be7-019d-442b-bc9f-f02087e7a6d0",
   "metadata": {},
   "outputs": [],
   "source": [
    "# Define la ecuación diferencial F(x, x', t)\n",
    "def F(t, y):\n",
    "    x, x_prime = y\n",
    "    dydt = x*(x_prime-1)*(1+2/c*np.sqrt(x) + b2)\n",
    "    return dydt\n",
    "\n",
    "# Condiciones iniciales\n",
    "initial_conditions = [0.0, 1.0]\n",
    "\n",
    "# Intervalo de tiempo\n",
    "t_span = (0.1, 5.0)\n",
    "\n",
    "# Resuelve la ecuación diferencial\n",
    "sol = solve_ivp(F, t_span, initial_conditions, t_eval=np.linspace(0.1, 5.0, 100))\n",
    "\n",
    "# Grafica la solución\n",
    "plt.plot(sol.t, sol.y[0])\n",
    "plt.xlabel('t')\n",
    "plt.ylabel('x(t)')\n",
    "plt.title('Solución de la Ecuación Diferencial')\n",
    "plt.show()\n"
   ]
  }
 ],
 "metadata": {
  "kernelspec": {
   "display_name": "Python 3 (ipykernel)",
   "language": "python",
   "name": "python3"
  },
  "language_info": {
   "codemirror_mode": {
    "name": "ipython",
    "version": 3
   },
   "file_extension": ".py",
   "mimetype": "text/x-python",
   "name": "python",
   "nbconvert_exporter": "python",
   "pygments_lexer": "ipython3",
   "version": "3.10.12"
  }
 },
 "nbformat": 4,
 "nbformat_minor": 5
}
