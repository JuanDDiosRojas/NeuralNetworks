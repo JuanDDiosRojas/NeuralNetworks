{
 "cells": [
  {
   "cell_type": "code",
   "execution_count": 184,
   "metadata": {},
   "outputs": [],
   "source": [
    "import torch\n",
    "import torch.nn as nn\n",
    "import matplotlib.pyplot as plt\n",
    "import numpy as np\n",
    "#from scipy.integrate import odeint\n",
    "import mplcyberpunk\n",
    "import tqdm\n",
    "#from functions import nth_derivative"
   ]
  },
  {
   "cell_type": "code",
   "execution_count": 185,
   "metadata": {},
   "outputs": [],
   "source": [
    "plt.style.use('cyberpunk')\n",
    "#mplcyberpunk.make_lines_glow()"
   ]
  },
  {
   "cell_type": "code",
   "execution_count": 186,
   "metadata": {},
   "outputs": [],
   "source": [
    "def nth_derivative(net, x:torch.Tensor, j:int, i:int ,n:int) -> torch.Tensor:\n",
    "    \"\"\"\n",
    "    Esta función está creada para regresar la n-derivada de la componente j de la\n",
    "    función ann respecto de la variable i. \n",
    "    \n",
    "    ann(x)=(ann_0(x), ann_1(x)...,ann_j(x)...).\n",
    "    \n",
    "    Con x=(x_0,x_1,...,x_i,...)\n",
    "    \n",
    "    x debe ser un tensor: torch.Size([n, m])\n",
    "\n",
    "    Para el buen funcionamiento: net(x)[0].shape = torch.Size([1])\n",
    "    \"\"\"\n",
    "    x.requires_grad=True\n",
    "    # Initialize the gradient tensor to 1.0, as the 0th derivative is the function itself.\n",
    "    ann=net(x)[:,j].view(-1,1)\n",
    "    grad_tensor = torch.ones(ann.size(), dtype=torch.float32, requires_grad=True)\n",
    "    for _ in range(n):\n",
    "        Dann=torch.autograd.grad(ann, x, grad_outputs=grad_tensor, create_graph=True)[0][:,i]\n",
    "        Dann=Dann.reshape(ann.shape)\n",
    "        ann=Dann\n",
    "    return ann"
   ]
  },
  {
   "cell_type": "code",
   "execution_count": 245,
   "metadata": {},
   "outputs": [],
   "source": [
    "# Definición de la función F(t)\n",
    "def F(t):\n",
    "  \"\"\"\n",
    "  Función vectorial F(t) = (t^2, 2t).\n",
    "\n",
    "  Args:\n",
    "    t: Tensor de PyTorch que representa el tiempo.\n",
    "\n",
    "  Returns:\n",
    "    Tensor de PyTorch que representa la función F(t).\n",
    "  \"\"\"\n",
    "  t_squared = torch.pow(t, 2)\n",
    "  two_t = 2 * t\n",
    "  return torch.stack((t_squared, two_t), dim=1)\n",
    "\n",
    "# Ejemplo de uso\n",
    "t = torch.linspace(0.0, 1.0, 100)\n",
    "f_t = F(t)"
   ]
  },
  {
   "cell_type": "code",
   "execution_count": 250,
   "metadata": {},
   "outputs": [
    {
     "data": {
      "text/plain": [
       "tensor([[9, 6]])"
      ]
     },
     "execution_count": 250,
     "metadata": {},
     "output_type": "execute_result"
    }
   ],
   "source": [
    "F(torch.tensor([3]))"
   ]
  },
  {
   "cell_type": "code",
   "execution_count": 256,
   "metadata": {},
   "outputs": [
    {
     "data": {
      "text/plain": [
       "tensor([[2.]], grad_fn=<ViewBackward0>)"
      ]
     },
     "execution_count": 256,
     "metadata": {},
     "output_type": "execute_result"
    }
   ],
   "source": [
    "nth_derivative(F,torch.tensor([[3.0]]), 1, 0,1)"
   ]
  },
  {
   "cell_type": "markdown",
   "metadata": {},
   "source": [
    "Lets solve the ODE system:\n",
    "\n",
    "\\begin{align} \n",
    "x' =& 2x + y \\\\\n",
    "y' =& -x + 3y\n",
    "\\end{align}\n",
    "\n",
    "with $x(0) = 1$, $y(0) = 2$\n",
    "\n",
    "\\begin{align} \n",
    "x(t) =& \\frac{1}{3}e^t + \\frac{2}{3}e^{4t} \\\\\n",
    "y(t) =& \\frac{1}{3}e^t + \\frac{2}{3}e^{4t}\n",
    "\\end{align}"
   ]
  },
  {
   "cell_type": "markdown",
   "metadata": {},
   "source": [
    "## System of Ordinary Differential Equations\n",
    "A number of coupled differential equations form a system of equations. Let $t \\in \\mathcal{R}$ \n",
    "be the independent variable and $$\\bar{x}(t) : \\mathcal{R}\\longrightarrow \\mathcal{R}^m$$\n",
    "be a function of $t$. A system of ordinary differential equations of order $n$ takes the form:\n",
    "\n",
    "$$F(t, \\vec{x}, \\frac{d\\vec{x}}{dt}, \\frac{d^2\\vec{x}}{dt^2}, \\ldots, \\frac{d^n\\vec{x}}{dt^n}) = \\vec{0},\n",
    "$$\n",
    "\n",
    "\\\\\n",
    "\n",
    "\n",
    "\\\\\n",
    "\n",
    "\n",
    "$$\n",
    "\\begin{split}\\begin{pmatrix}\n",
    "f_0(t, \\vec{x}, \\displaystyle\\frac{d\\vec{x}}{dt}, \\displaystyle\\frac{d^2\\vec{x}}{dt^2}, \\ldots, \\displaystyle\\frac{d^n\\vec{x}}{dt^n}) \\\\\n",
    "f_1(t, \\vec{x}, \\displaystyle\\frac{d\\vec{x}}{dt}, \\displaystyle\\frac{d^2\\vec{x}}{dt^2}, \\ldots, \\displaystyle\\frac{d^n\\vec{x}}{dt^n}) \\\\\n",
    "\\vdots \\\\\n",
    "f_{m-1}(t, \\vec{x}, \\displaystyle\\frac{d\\vec{x}}{dt}, \\displaystyle\\frac{d^2\\vec{x}}{dt^2}, \\ldots, \\displaystyle\\frac{d^n\\vec{x}}{dt^n})\n",
    "\\end{pmatrix}\n",
    "=\n",
    "\\begin{pmatrix}\n",
    "0 \\\\\n",
    "0 \\\\\n",
    "\\vdots \\\\\n",
    "0\n",
    "\\end{pmatrix}\\end{split}\n",
    "$$"
   ]
  },
  {
   "cell_type": "code",
   "execution_count": 289,
   "metadata": {},
   "outputs": [
    {
     "name": "stdout",
     "output_type": "stream",
     "text": [
      "Sequential(\n",
      "  (0): Linear(in_features=1, out_features=35, bias=True)\n",
      "  (1): Tanh()\n",
      "  (2): Linear(in_features=35, out_features=35, bias=True)\n",
      "  (3): Tanh()\n",
      "  (4): Linear(in_features=35, out_features=2, bias=True)\n",
      ")\n"
     ]
    }
   ],
   "source": [
    "nodos=35\n",
    "ANN = nn.Sequential(nn.Linear(1, nodos), nn.Tanh(), nn.Linear(nodos,nodos),\n",
    "                    #nn.Tanh(), nn.Linear(nodos,nodos),\n",
    "                    #nn.Tanh(), nn.Linear(nodos,nodos),\n",
    "                    #nn.Tanh(), nn.Linear(nodos,nodos),\n",
    "                    # nn.Tanh(), nn.Linear(nodos,nodos),\n",
    "                    nn.Tanh(),nn.Linear(nodos,2))\n",
    "print(ANN)"
   ]
  },
  {
   "cell_type": "code",
   "execution_count": 260,
   "metadata": {},
   "outputs": [],
   "source": [
    "#The domain and the batch for the training\n",
    "ti=0.0\n",
    "tf=10.0\n",
    "\n",
    "t=torch.linspace(ti,tf,30).view(-1,1)"
   ]
  },
  {
   "cell_type": "code",
   "execution_count": 214,
   "metadata": {},
   "outputs": [
    {
     "data": {
      "text/plain": [
       "torch.Size([30, 1])"
      ]
     },
     "execution_count": 214,
     "metadata": {},
     "output_type": "execute_result"
    }
   ],
   "source": [
    "t.shape"
   ]
  },
  {
   "cell_type": "code",
   "execution_count": 215,
   "metadata": {},
   "outputs": [
    {
     "data": {
      "text/plain": [
       "tensor([[-0.0186],\n",
       "        [-0.0386],\n",
       "        [-0.0457],\n",
       "        [-0.0306],\n",
       "        [-0.0189],\n",
       "        [-0.0237],\n",
       "        [-0.0337],\n",
       "        [-0.0383],\n",
       "        [-0.0366],\n",
       "        [-0.0313],\n",
       "        [-0.0246],\n",
       "        [-0.0181],\n",
       "        [-0.0123],\n",
       "        [-0.0075],\n",
       "        [-0.0037],\n",
       "        [-0.0007],\n",
       "        [ 0.0014],\n",
       "        [ 0.0029],\n",
       "        [ 0.0039],\n",
       "        [ 0.0045],\n",
       "        [ 0.0048],\n",
       "        [ 0.0049],\n",
       "        [ 0.0048],\n",
       "        [ 0.0046],\n",
       "        [ 0.0044],\n",
       "        [ 0.0040],\n",
       "        [ 0.0037],\n",
       "        [ 0.0034],\n",
       "        [ 0.0030],\n",
       "        [ 0.0027]], grad_fn=<ViewBackward0>)"
      ]
     },
     "execution_count": 215,
     "metadata": {},
     "output_type": "execute_result"
    }
   ],
   "source": [
    "nth_derivative(ANN,t, 0, 0,2)"
   ]
  },
  {
   "cell_type": "code",
   "execution_count": 315,
   "metadata": {},
   "outputs": [],
   "source": [
    "#reparam of the solution to meet the initial conditions\n",
    "init_conditions=torch.tensor([[1.5,1.0]])\n",
    "\n",
    "def Param(t,x0=init_conditions,net=ANN):\n",
    "    #out = net(T)\n",
    "    #b=1-torch.exp(ti-T[:,0])\n",
    "    #return torch.reshape(T[:,1],out.size()) + b*out\n",
    "    #return T[:,1].view(-1,1) + a.view(-1,1) +b.view(-1,1)**2 * out\n",
    "    return x0 + (1.0-torch.exp(ti-t))*net(t)\n",
    "    #return x0 + b.view(-1,1) * out"
   ]
  },
  {
   "cell_type": "code",
   "execution_count": 313,
   "metadata": {},
   "outputs": [
    {
     "data": {
      "text/plain": [
       "tensor([-0.0001,  0.0002], grad_fn=<MulBackward0>)"
      ]
     },
     "execution_count": 313,
     "metadata": {},
     "output_type": "execute_result"
    }
   ],
   "source": [
    "ANN(t)[1]*(1-torch.exp(ti-t))[1]"
   ]
  },
  {
   "cell_type": "code",
   "execution_count": 316,
   "metadata": {},
   "outputs": [
    {
     "ename": "RuntimeError",
     "evalue": "mat1 and mat2 shapes cannot be multiplied (1x2 and 1x35)",
     "output_type": "error",
     "traceback": [
      "\u001b[0;31m---------------------------------------------------------------------------\u001b[0m",
      "\u001b[0;31mRuntimeError\u001b[0m                              Traceback (most recent call last)",
      "Cell \u001b[0;32mIn[316], line 1\u001b[0m\n\u001b[0;32m----> 1\u001b[0m \u001b[43mANN\u001b[49m\u001b[43m(\u001b[49m\u001b[43minit_conditions\u001b[49m\u001b[43m)\u001b[49m\n",
      "File \u001b[0;32m~/.local/lib/python3.10/site-packages/torch/nn/modules/module.py:1518\u001b[0m, in \u001b[0;36mModule._wrapped_call_impl\u001b[0;34m(self, *args, **kwargs)\u001b[0m\n\u001b[1;32m   1516\u001b[0m     \u001b[38;5;28;01mreturn\u001b[39;00m \u001b[38;5;28mself\u001b[39m\u001b[38;5;241m.\u001b[39m_compiled_call_impl(\u001b[38;5;241m*\u001b[39margs, \u001b[38;5;241m*\u001b[39m\u001b[38;5;241m*\u001b[39mkwargs)  \u001b[38;5;66;03m# type: ignore[misc]\u001b[39;00m\n\u001b[1;32m   1517\u001b[0m \u001b[38;5;28;01melse\u001b[39;00m:\n\u001b[0;32m-> 1518\u001b[0m     \u001b[38;5;28;01mreturn\u001b[39;00m \u001b[38;5;28;43mself\u001b[39;49m\u001b[38;5;241;43m.\u001b[39;49m\u001b[43m_call_impl\u001b[49m\u001b[43m(\u001b[49m\u001b[38;5;241;43m*\u001b[39;49m\u001b[43margs\u001b[49m\u001b[43m,\u001b[49m\u001b[43m \u001b[49m\u001b[38;5;241;43m*\u001b[39;49m\u001b[38;5;241;43m*\u001b[39;49m\u001b[43mkwargs\u001b[49m\u001b[43m)\u001b[49m\n",
      "File \u001b[0;32m~/.local/lib/python3.10/site-packages/torch/nn/modules/module.py:1527\u001b[0m, in \u001b[0;36mModule._call_impl\u001b[0;34m(self, *args, **kwargs)\u001b[0m\n\u001b[1;32m   1522\u001b[0m \u001b[38;5;66;03m# If we don't have any hooks, we want to skip the rest of the logic in\u001b[39;00m\n\u001b[1;32m   1523\u001b[0m \u001b[38;5;66;03m# this function, and just call forward.\u001b[39;00m\n\u001b[1;32m   1524\u001b[0m \u001b[38;5;28;01mif\u001b[39;00m \u001b[38;5;129;01mnot\u001b[39;00m (\u001b[38;5;28mself\u001b[39m\u001b[38;5;241m.\u001b[39m_backward_hooks \u001b[38;5;129;01mor\u001b[39;00m \u001b[38;5;28mself\u001b[39m\u001b[38;5;241m.\u001b[39m_backward_pre_hooks \u001b[38;5;129;01mor\u001b[39;00m \u001b[38;5;28mself\u001b[39m\u001b[38;5;241m.\u001b[39m_forward_hooks \u001b[38;5;129;01mor\u001b[39;00m \u001b[38;5;28mself\u001b[39m\u001b[38;5;241m.\u001b[39m_forward_pre_hooks\n\u001b[1;32m   1525\u001b[0m         \u001b[38;5;129;01mor\u001b[39;00m _global_backward_pre_hooks \u001b[38;5;129;01mor\u001b[39;00m _global_backward_hooks\n\u001b[1;32m   1526\u001b[0m         \u001b[38;5;129;01mor\u001b[39;00m _global_forward_hooks \u001b[38;5;129;01mor\u001b[39;00m _global_forward_pre_hooks):\n\u001b[0;32m-> 1527\u001b[0m     \u001b[38;5;28;01mreturn\u001b[39;00m \u001b[43mforward_call\u001b[49m\u001b[43m(\u001b[49m\u001b[38;5;241;43m*\u001b[39;49m\u001b[43margs\u001b[49m\u001b[43m,\u001b[49m\u001b[43m \u001b[49m\u001b[38;5;241;43m*\u001b[39;49m\u001b[38;5;241;43m*\u001b[39;49m\u001b[43mkwargs\u001b[49m\u001b[43m)\u001b[49m\n\u001b[1;32m   1529\u001b[0m \u001b[38;5;28;01mtry\u001b[39;00m:\n\u001b[1;32m   1530\u001b[0m     result \u001b[38;5;241m=\u001b[39m \u001b[38;5;28;01mNone\u001b[39;00m\n",
      "File \u001b[0;32m~/.local/lib/python3.10/site-packages/torch/nn/modules/container.py:215\u001b[0m, in \u001b[0;36mSequential.forward\u001b[0;34m(self, input)\u001b[0m\n\u001b[1;32m    213\u001b[0m \u001b[38;5;28;01mdef\u001b[39;00m \u001b[38;5;21mforward\u001b[39m(\u001b[38;5;28mself\u001b[39m, \u001b[38;5;28minput\u001b[39m):\n\u001b[1;32m    214\u001b[0m     \u001b[38;5;28;01mfor\u001b[39;00m module \u001b[38;5;129;01min\u001b[39;00m \u001b[38;5;28mself\u001b[39m:\n\u001b[0;32m--> 215\u001b[0m         \u001b[38;5;28minput\u001b[39m \u001b[38;5;241m=\u001b[39m \u001b[43mmodule\u001b[49m\u001b[43m(\u001b[49m\u001b[38;5;28;43minput\u001b[39;49m\u001b[43m)\u001b[49m\n\u001b[1;32m    216\u001b[0m     \u001b[38;5;28;01mreturn\u001b[39;00m \u001b[38;5;28minput\u001b[39m\n",
      "File \u001b[0;32m~/.local/lib/python3.10/site-packages/torch/nn/modules/module.py:1518\u001b[0m, in \u001b[0;36mModule._wrapped_call_impl\u001b[0;34m(self, *args, **kwargs)\u001b[0m\n\u001b[1;32m   1516\u001b[0m     \u001b[38;5;28;01mreturn\u001b[39;00m \u001b[38;5;28mself\u001b[39m\u001b[38;5;241m.\u001b[39m_compiled_call_impl(\u001b[38;5;241m*\u001b[39margs, \u001b[38;5;241m*\u001b[39m\u001b[38;5;241m*\u001b[39mkwargs)  \u001b[38;5;66;03m# type: ignore[misc]\u001b[39;00m\n\u001b[1;32m   1517\u001b[0m \u001b[38;5;28;01melse\u001b[39;00m:\n\u001b[0;32m-> 1518\u001b[0m     \u001b[38;5;28;01mreturn\u001b[39;00m \u001b[38;5;28;43mself\u001b[39;49m\u001b[38;5;241;43m.\u001b[39;49m\u001b[43m_call_impl\u001b[49m\u001b[43m(\u001b[49m\u001b[38;5;241;43m*\u001b[39;49m\u001b[43margs\u001b[49m\u001b[43m,\u001b[49m\u001b[43m \u001b[49m\u001b[38;5;241;43m*\u001b[39;49m\u001b[38;5;241;43m*\u001b[39;49m\u001b[43mkwargs\u001b[49m\u001b[43m)\u001b[49m\n",
      "File \u001b[0;32m~/.local/lib/python3.10/site-packages/torch/nn/modules/module.py:1527\u001b[0m, in \u001b[0;36mModule._call_impl\u001b[0;34m(self, *args, **kwargs)\u001b[0m\n\u001b[1;32m   1522\u001b[0m \u001b[38;5;66;03m# If we don't have any hooks, we want to skip the rest of the logic in\u001b[39;00m\n\u001b[1;32m   1523\u001b[0m \u001b[38;5;66;03m# this function, and just call forward.\u001b[39;00m\n\u001b[1;32m   1524\u001b[0m \u001b[38;5;28;01mif\u001b[39;00m \u001b[38;5;129;01mnot\u001b[39;00m (\u001b[38;5;28mself\u001b[39m\u001b[38;5;241m.\u001b[39m_backward_hooks \u001b[38;5;129;01mor\u001b[39;00m \u001b[38;5;28mself\u001b[39m\u001b[38;5;241m.\u001b[39m_backward_pre_hooks \u001b[38;5;129;01mor\u001b[39;00m \u001b[38;5;28mself\u001b[39m\u001b[38;5;241m.\u001b[39m_forward_hooks \u001b[38;5;129;01mor\u001b[39;00m \u001b[38;5;28mself\u001b[39m\u001b[38;5;241m.\u001b[39m_forward_pre_hooks\n\u001b[1;32m   1525\u001b[0m         \u001b[38;5;129;01mor\u001b[39;00m _global_backward_pre_hooks \u001b[38;5;129;01mor\u001b[39;00m _global_backward_hooks\n\u001b[1;32m   1526\u001b[0m         \u001b[38;5;129;01mor\u001b[39;00m _global_forward_hooks \u001b[38;5;129;01mor\u001b[39;00m _global_forward_pre_hooks):\n\u001b[0;32m-> 1527\u001b[0m     \u001b[38;5;28;01mreturn\u001b[39;00m \u001b[43mforward_call\u001b[49m\u001b[43m(\u001b[49m\u001b[38;5;241;43m*\u001b[39;49m\u001b[43margs\u001b[49m\u001b[43m,\u001b[49m\u001b[43m \u001b[49m\u001b[38;5;241;43m*\u001b[39;49m\u001b[38;5;241;43m*\u001b[39;49m\u001b[43mkwargs\u001b[49m\u001b[43m)\u001b[49m\n\u001b[1;32m   1529\u001b[0m \u001b[38;5;28;01mtry\u001b[39;00m:\n\u001b[1;32m   1530\u001b[0m     result \u001b[38;5;241m=\u001b[39m \u001b[38;5;28;01mNone\u001b[39;00m\n",
      "File \u001b[0;32m~/.local/lib/python3.10/site-packages/torch/nn/modules/linear.py:114\u001b[0m, in \u001b[0;36mLinear.forward\u001b[0;34m(self, input)\u001b[0m\n\u001b[1;32m    113\u001b[0m \u001b[38;5;28;01mdef\u001b[39;00m \u001b[38;5;21mforward\u001b[39m(\u001b[38;5;28mself\u001b[39m, \u001b[38;5;28minput\u001b[39m: Tensor) \u001b[38;5;241m-\u001b[39m\u001b[38;5;241m>\u001b[39m Tensor:\n\u001b[0;32m--> 114\u001b[0m     \u001b[38;5;28;01mreturn\u001b[39;00m \u001b[43mF\u001b[49m\u001b[38;5;241;43m.\u001b[39;49m\u001b[43mlinear\u001b[49m\u001b[43m(\u001b[49m\u001b[38;5;28;43minput\u001b[39;49m\u001b[43m,\u001b[49m\u001b[43m \u001b[49m\u001b[38;5;28;43mself\u001b[39;49m\u001b[38;5;241;43m.\u001b[39;49m\u001b[43mweight\u001b[49m\u001b[43m,\u001b[49m\u001b[43m \u001b[49m\u001b[38;5;28;43mself\u001b[39;49m\u001b[38;5;241;43m.\u001b[39;49m\u001b[43mbias\u001b[49m\u001b[43m)\u001b[49m\n",
      "\u001b[0;31mRuntimeError\u001b[0m: mat1 and mat2 shapes cannot be multiplied (1x2 and 1x35)"
     ]
    }
   ],
   "source": [
    "ANN(init_conditions)"
   ]
  },
  {
   "cell_type": "code",
   "execution_count": 242,
   "metadata": {},
   "outputs": [
    {
     "data": {
      "text/plain": [
       "tensor([[0.0000],\n",
       "        [0.2917],\n",
       "        [0.4983],\n",
       "        [0.6446],\n",
       "        [0.7482],\n",
       "        [0.8217],\n",
       "        [0.8737],\n",
       "        [0.9105],\n",
       "        [0.9366],\n",
       "        [0.9551],\n",
       "        [0.9682],\n",
       "        [0.9775],\n",
       "        [0.9840],\n",
       "        [0.9887],\n",
       "        [0.9920],\n",
       "        [0.9943],\n",
       "        [0.9960],\n",
       "        [0.9972],\n",
       "        [0.9980],\n",
       "        [0.9986],\n",
       "        [0.9990],\n",
       "        [0.9993],\n",
       "        [0.9995],\n",
       "        [0.9996],\n",
       "        [0.9997],\n",
       "        [0.9998],\n",
       "        [0.9999],\n",
       "        [0.9999],\n",
       "        [0.9999],\n",
       "        [1.0000]], grad_fn=<RsubBackward1>)"
      ]
     },
     "execution_count": 242,
     "metadata": {},
     "output_type": "execute_result"
    }
   ],
   "source": [
    "1-torch.exp(ti-t)"
   ]
  },
  {
   "cell_type": "code",
   "execution_count": 240,
   "metadata": {},
   "outputs": [
    {
     "data": {
      "text/plain": [
       "tensor([[-0.0000e+00,  0.0000e+00],\n",
       "        [-7.8359e-02,  1.5176e-01],\n",
       "        [-2.0956e-01,  2.5065e-01],\n",
       "        [-3.4861e-01,  2.9938e-01],\n",
       "        [-4.6528e-01,  3.0382e-01],\n",
       "        [-5.4814e-01,  2.7494e-01],\n",
       "        [-5.9889e-01,  2.2619e-01],\n",
       "        [-6.2475e-01,  1.6999e-01],\n",
       "        [-6.3360e-01,  1.1542e-01],\n",
       "        [-6.3178e-01,  6.7811e-02],\n",
       "        [-6.2378e-01,  2.9327e-02],\n",
       "        [-6.1250e-01,  7.1487e-05],\n",
       "        [-5.9972e-01, -2.0962e-02],\n",
       "        [-5.8648e-01, -3.5206e-02],\n",
       "        [-5.7337e-01, -4.4120e-02],\n",
       "        [-5.6074e-01, -4.9002e-02],\n",
       "        [-5.4875e-01, -5.0925e-02],\n",
       "        [-5.3750e-01, -5.0733e-02],\n",
       "        [-5.2700e-01, -4.9076e-02],\n",
       "        [-5.1727e-01, -4.6441e-02],\n",
       "        [-5.0828e-01, -4.3187e-02],\n",
       "        [-5.0000e-01, -3.9576e-02],\n",
       "        [-4.9239e-01, -3.5799e-02],\n",
       "        [-4.8542e-01, -3.1989e-02],\n",
       "        [-4.7904e-01, -2.8240e-02],\n",
       "        [-4.7321e-01, -2.4615e-02],\n",
       "        [-4.6790e-01, -2.1154e-02],\n",
       "        [-4.6306e-01, -1.7884e-02],\n",
       "        [-4.5865e-01, -1.4816e-02],\n",
       "        [-4.5465e-01, -1.1958e-02]], grad_fn=<MulBackward0>)"
      ]
     },
     "execution_count": 240,
     "metadata": {},
     "output_type": "execute_result"
    }
   ],
   "source": [
    "(1-torch.exp(ti-t))*ANN(t)"
   ]
  },
  {
   "cell_type": "code",
   "execution_count": 227,
   "metadata": {},
   "outputs": [
    {
     "data": {
      "text/plain": [
       "tensor([[1.5000, 1.0000],\n",
       "        [1.4216, 1.1518],\n",
       "        [1.2904, 1.2507],\n",
       "        [1.1514, 1.2994],\n",
       "        [1.0347, 1.3038],\n",
       "        [0.9519, 1.2749],\n",
       "        [0.9011, 1.2262],\n",
       "        [0.8752, 1.1700],\n",
       "        [0.8664, 1.1154],\n",
       "        [0.8682, 1.0678],\n",
       "        [0.8762, 1.0293],\n",
       "        [0.8875, 1.0001],\n",
       "        [0.9003, 0.9790],\n",
       "        [0.9135, 0.9648],\n",
       "        [0.9266, 0.9559],\n",
       "        [0.9393, 0.9510],\n",
       "        [0.9512, 0.9491],\n",
       "        [0.9625, 0.9493],\n",
       "        [0.9730, 0.9509],\n",
       "        [0.9827, 0.9536],\n",
       "        [0.9917, 0.9568],\n",
       "        [1.0000, 0.9604],\n",
       "        [1.0076, 0.9642],\n",
       "        [1.0146, 0.9680],\n",
       "        [1.0210, 0.9718],\n",
       "        [1.0268, 0.9754],\n",
       "        [1.0321, 0.9788],\n",
       "        [1.0369, 0.9821],\n",
       "        [1.0413, 0.9852],\n",
       "        [1.0454, 0.9880]], grad_fn=<AddBackward0>)"
      ]
     },
     "execution_count": 227,
     "metadata": {},
     "output_type": "execute_result"
    }
   ],
   "source": [
    "Param(t)"
   ]
  },
  {
   "cell_type": "code",
   "execution_count": 218,
   "metadata": {},
   "outputs": [
    {
     "data": {
      "text/plain": [
       "tensor([[ 0.0558],\n",
       "        [-0.0125],\n",
       "        [-0.0558],\n",
       "        [-0.0628],\n",
       "        [-0.0549],\n",
       "        [-0.0548],\n",
       "        [-0.0594],\n",
       "        [-0.0598],\n",
       "        [-0.0543],\n",
       "        [-0.0453],\n",
       "        [-0.0355],\n",
       "        [-0.0263],\n",
       "        [-0.0184],\n",
       "        [-0.0119],\n",
       "        [-0.0068],\n",
       "        [-0.0029],\n",
       "        [-0.0001],\n",
       "        [ 0.0018],\n",
       "        [ 0.0032],\n",
       "        [ 0.0040],\n",
       "        [ 0.0045],\n",
       "        [ 0.0046],\n",
       "        [ 0.0046],\n",
       "        [ 0.0045],\n",
       "        [ 0.0043],\n",
       "        [ 0.0040],\n",
       "        [ 0.0037],\n",
       "        [ 0.0033],\n",
       "        [ 0.0030],\n",
       "        [ 0.0027]], grad_fn=<ViewBackward0>)"
      ]
     },
     "execution_count": 218,
     "metadata": {},
     "output_type": "execute_result"
    }
   ],
   "source": [
    "nth_derivative(Param,t, 0, 0,2)"
   ]
  },
  {
   "cell_type": "markdown",
   "metadata": {},
   "source": [
    "\\begin{align} \n",
    "x' =& 2x + y \\\\\n",
    "y' =& -x + 3y\n",
    "\\end{align}"
   ]
  },
  {
   "cell_type": "code",
   "execution_count": null,
   "metadata": {},
   "outputs": [],
   "source": []
  },
  {
   "cell_type": "code",
   "execution_count": 219,
   "metadata": {},
   "outputs": [
    {
     "data": {
      "text/plain": [
       "tensor([[-1.3270],\n",
       "        [-1.3816],\n",
       "        [-1.4546],\n",
       "        [-1.5300],\n",
       "        [-1.5970],\n",
       "        [-1.6557],\n",
       "        [-1.7089],\n",
       "        [-1.7561],\n",
       "        [-1.7954],\n",
       "        [-1.8257],\n",
       "        [-1.8473],\n",
       "        [-1.8613],\n",
       "        [-1.8693],\n",
       "        [-1.8725],\n",
       "        [-1.8724],\n",
       "        [-1.8699],\n",
       "        [-1.8659],\n",
       "        [-1.8610],\n",
       "        [-1.8558],\n",
       "        [-1.8506],\n",
       "        [-1.8456],\n",
       "        [-1.8411],\n",
       "        [-1.8371],\n",
       "        [-1.8337],\n",
       "        [-1.8308],\n",
       "        [-1.8286],\n",
       "        [-1.8269],\n",
       "        [-1.8258],\n",
       "        [-1.8252],\n",
       "        [-1.8251]], grad_fn=<SubBackward0>)"
      ]
     },
     "execution_count": 219,
     "metadata": {},
     "output_type": "execute_result"
    }
   ],
   "source": [
    "nth_derivative(Param,t, 0, 0,1) - Param(t)[:,0].view(-1,1)"
   ]
  },
  {
   "cell_type": "code",
   "execution_count": 344,
   "metadata": {},
   "outputs": [],
   "source": [
    "# def cost(t):\n",
    "#     x=Param(t)[:,0].view(-1,1)\n",
    "#     y=Param(t)[:,1].view(-1,1)\n",
    "#     Dt_x = nth_derivative(Param,t, 0, 0,1)\n",
    "#     Dt_y = nth_derivative(Param,t, 1, 0,1)\n",
    "    \n",
    "#     #x0=ANN(torch.tensor([[0.0]]))+torch.tensor([[1.5,1.0]])\n",
    "\n",
    "#     return torch.linalg.norm(Dt_x - x + x*y)**2 + torch.linalg.norm(Dt_y - x*y +y)**2 #+ torch.linalg.norm(x0)**2\n",
    "\n",
    "def cost(t):\n",
    "    x=ANN(t)[:,0].view(-1,1)\n",
    "    y=ANN(t)[:,1].view(-1,1)\n",
    "    Dt_x = nth_derivative(ANN,t, 0, 0,1)\n",
    "    Dt_y = nth_derivative(ANN,t, 1, 0,1)\n",
    "    x0=ANN(torch.tensor([0])-torch.zeros_like(t))\n",
    "    return torch.linalg.norm(Dt_x - x - x*y)**2 + torch.linalg.norm(Dt_y - x*y -y)**2 + torch.linalg.norm(ANN(torch.tensor([0.0]))-init_conditions)\n"
   ]
  },
  {
   "cell_type": "code",
   "execution_count": 345,
   "metadata": {},
   "outputs": [
    {
     "data": {
      "text/plain": [
       "tensor([[-1.2834, -0.7833]], grad_fn=<SubBackward0>)"
      ]
     },
     "execution_count": 345,
     "metadata": {},
     "output_type": "execute_result"
    }
   ],
   "source": [
    "ANN(torch.tensor([0.0]))-init_conditions\n"
   ]
  },
  {
   "cell_type": "code",
   "execution_count": 346,
   "metadata": {},
   "outputs": [],
   "source": [
    "x=ANN(t)[:,0].view(-1,1)\n",
    "y=ANN(t)[:,1].view(-1,1)\n",
    "Dt_x = nth_derivative(ANN,t, 0, 0,1)\n",
    "Dt_y = nth_derivative(ANN,t, 1, 0,1)\n",
    "#x0=ANN(torch.tensor([[0.0]]))+torch.tensor([[1.5,1.0]])\n",
    "\n",
    "\n"
   ]
  },
  {
   "cell_type": "code",
   "execution_count": 347,
   "metadata": {},
   "outputs": [
    {
     "data": {
      "text/plain": [
       "tensor([[-3.7485e-01],\n",
       "        [-3.2638e-01],\n",
       "        [-2.6810e-01],\n",
       "        [-2.0716e-01],\n",
       "        [-1.5127e-01],\n",
       "        [-1.0539e-01],\n",
       "        [-7.0801e-02],\n",
       "        [-4.6293e-02],\n",
       "        [-2.9654e-02],\n",
       "        [-1.8684e-02],\n",
       "        [-1.1594e-02],\n",
       "        [-7.0776e-03],\n",
       "        [-4.2337e-03],\n",
       "        [-2.4629e-03],\n",
       "        [-1.3747e-03],\n",
       "        [-7.1794e-04],\n",
       "        [-3.3275e-04],\n",
       "        [-1.1764e-04],\n",
       "        [-8.3772e-06],\n",
       "        [ 3.5415e-05],\n",
       "        [ 3.9260e-05],\n",
       "        [ 1.9174e-05],\n",
       "        [-1.4825e-05],\n",
       "        [-5.6428e-05],\n",
       "        [-1.0172e-04],\n",
       "        [-1.4827e-04],\n",
       "        [-1.9456e-04],\n",
       "        [-2.3980e-04],\n",
       "        [-2.8337e-04],\n",
       "        [-3.2502e-04]], grad_fn=<SubBackward0>)"
      ]
     },
     "execution_count": 347,
     "metadata": {},
     "output_type": "execute_result"
    }
   ],
   "source": [
    "Dt_x - x - x*y"
   ]
  },
  {
   "cell_type": "code",
   "execution_count": 348,
   "metadata": {},
   "outputs": [
    {
     "data": {
      "text/plain": [
       "tensor(1.5035, grad_fn=<LinalgVectorNormBackward0>)"
      ]
     },
     "execution_count": 348,
     "metadata": {},
     "output_type": "execute_result"
    }
   ],
   "source": [
    "torch.linalg.norm(ANN(torch.tensor([[0.0]]))-torch.tensor([[1.5,1.0]]))"
   ]
  },
  {
   "cell_type": "code",
   "execution_count": 349,
   "metadata": {},
   "outputs": [
    {
     "data": {
      "text/plain": [
       "tensor(2.3125, grad_fn=<AddBackward0>)"
      ]
     },
     "execution_count": 349,
     "metadata": {},
     "output_type": "execute_result"
    }
   ],
   "source": [
    "cost(t)"
   ]
  },
  {
   "cell_type": "code",
   "execution_count": 350,
   "metadata": {},
   "outputs": [],
   "source": [
    "learning_rate=0.01\n",
    "epocas=300\n",
    "\n",
    "optimizer = torch.optim.Adam(ANN.parameters(), lr=learning_rate, weight_decay=0.1)\n"
   ]
  },
  {
   "cell_type": "code",
   "execution_count": 351,
   "metadata": {},
   "outputs": [
    {
     "name": "stderr",
     "output_type": "stream",
     "text": [
      "Training: 100%|\u001b[36m███████████████████████████████████████\u001b[0m| 300/300 [00:02<00:00, 138.50it/s, loss=1.77]\u001b[0m\n"
     ]
    },
    {
     "data": {
      "text/plain": [
       "[<matplotlib.lines.Line2D at 0x7fd274205f60>]"
      ]
     },
     "execution_count": 351,
     "metadata": {},
     "output_type": "execute_result"
    },
    {
     "data": {
      "image/png": "[encoded data removed]",
      "text/plain": [
       "<Figure size 640x480 with 1 Axes>"
      ]
     },
     "metadata": {},
     "output_type": "display_data"
    }
   ],
   "source": [
    "#loop de entrenamiendo \n",
    "pbar = tqdm.tqdm(range(epocas), desc=\"Training\",  colour='cyan', ncols=100)\n",
    "\n",
    "errores=[]\n",
    "for i in pbar:\n",
    "    l=cost(t) #coste\n",
    "    #l=torch.nn.MSELoss(Param(T))\n",
    "    l.backward() #gradiente\n",
    "    optimizer.step() #se actualizan los parámetros\n",
    "    optimizer.zero_grad() #vacíamos el gradiente\n",
    "    #print('época=%.2f , loss=%.2f'%(i,l))\n",
    "    errores.append(float(l))\n",
    "    #tqdm.set_description('época: %d , loss: %.2f' % (i, l.item()))\n",
    "    pbar.set_postfix({'loss': l.item()})\n",
    "    #pbar.set_refresh(50)\n",
    "    #tqdm.set_description(\"Training\")\n",
    "    #print('época=%.2f , loss=%.2f'%(i,l))\n",
    "\n",
    "plt.plot(range(epocas),errores)"
   ]
  },
  {
   "cell_type": "code",
   "execution_count": 353,
   "metadata": {},
   "outputs": [
    {
     "data": {
      "text/plain": [
       "[<matplotlib.lines.Line2D at 0x7fd2744e8580>]"
      ]
     },
     "execution_count": 353,
     "metadata": {},
     "output_type": "execute_result"
    },
    {
     "data": {
      "image/png": "[encoded data removed]",
      "text/plain": [
       "<Figure size 640x480 with 1 Axes>"
      ]
     },
     "metadata": {},
     "output_type": "display_data"
    }
   ],
   "source": [
    "plt.plot(t.detach(),ANN(t).detach()[:,0])\n",
    "plt.plot(t.detach(),ANN(t).detach()[:,1])\n",
    "\n",
    "#plt.plot(t.detach(),1/3 * torch.exp(t.detach()) + 2/3*torch.exp(4.0*t.detach()))\n",
    "         \n",
    "#y(t) =& \\frac{1}{3}e^t + \\frac{2}{3}e^{4t})"
   ]
  },
  {
   "cell_type": "code",
   "execution_count": 340,
   "metadata": {},
   "outputs": [
    {
     "data": {
      "text/plain": [
       "tensor([[1.5000, 1.0000]], grad_fn=<AddBackward0>)"
      ]
     },
     "execution_count": 340,
     "metadata": {},
     "output_type": "execute_result"
    }
   ],
   "source": [
    "Param(torch.tensor([0.0]))"
   ]
  },
  {
   "cell_type": "code",
   "execution_count": 108,
   "metadata": {},
   "outputs": [
    {
     "data": {
      "text/plain": [
       "tensor(3.2931, grad_fn=<PowBackward0>)"
      ]
     },
     "execution_count": 108,
     "metadata": {},
     "output_type": "execute_result"
    }
   ],
   "source": [
    "torch.linalg.norm(ANN(torch.tensor([0.0]))-torch.tensor([[1.5,1.0]]))**2"
   ]
  },
  {
   "cell_type": "code",
   "execution_count": 211,
   "metadata": {},
   "outputs": [
    {
     "data": {
      "image/png": "[encoded data removed]",
      "text/plain": [
       "<Figure size 640x480 with 1 Axes>"
      ]
     },
     "metadata": {},
     "output_type": "display_data"
    }
   ],
   "source": [
    "# Parámetros del modelo\n",
    "a = 1.0\n",
    "b = 1.0\n",
    "c = 1.0\n",
    "d = 1.0\n",
    "\n",
    "# Ecuaciones de Lotka-Volterra\n",
    "def dxdt(x, y):\n",
    "  return a * x - b * x * y\n",
    "\n",
    "def dydt(x, y):\n",
    "  return c * x * y - d * y\n",
    "\n",
    "# Solución numérica de las ecuaciones\n",
    "t = np.linspace(0,26, 100)\n",
    "x = np.zeros(len(t))\n",
    "y = np.zeros(len(t))\n",
    "\n",
    "x[0] = 1.5\n",
    "y[0] = 1.0\n",
    "\n",
    "for i in range(1, len(t)):\n",
    "  x[i] = x[i - 1] + dxdt(x[i - 1], y[i - 1]) * (t[i] - t[i - 1])\n",
    "  y[i] = y[i - 1] + dydt(x[i - 1], y[i - 1]) * (t[i] - t[i - 1])\n",
    "\n",
    "# Gráfica de las poblaciones\n",
    "plt.plot(t, x, label=\"Presa\")\n",
    "plt.plot(t, y, label=\"Depredador\")\n",
    "plt.xlabel(\"Tiempo\")\n",
    "plt.ylabel(\"Población\")\n",
    "plt.legend()\n",
    "plt.show()"
   ]
  },
  {
   "cell_type": "markdown",
   "metadata": {},
   "source": []
  }
 ],
 "metadata": {
  "kernelspec": {
   "display_name": "Python 3",
   "language": "python",
   "name": "python3"
  },
  "language_info": {
   "codemirror_mode": {
    "name": "ipython",
    "version": 3
   },
   "file_extension": ".py",
   "mimetype": "text/x-python",
   "name": "python",
   "nbconvert_exporter": "python",
   "pygments_lexer": "ipython3",
   "version": "3.10.12"
  }
 },
 "nbformat": 4,
 "nbformat_minor": 2
}
