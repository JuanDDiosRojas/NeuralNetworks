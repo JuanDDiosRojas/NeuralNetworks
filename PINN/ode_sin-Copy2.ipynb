{
 "cells": [
  {
   "cell_type": "code",
   "execution_count": 1,
   "id": "07b0dc54-1352-4ab2-9ac9-837ba9d858a0",
   "metadata": {},
   "outputs": [],
   "source": [
    "import torch\n",
    "import torch.nn as nn\n",
    "import matplotlib.pyplot as plt\n",
    "import numpy as np\n",
    "from scipy.integrate import odeint\n",
    "import mplcyberpunk"
   ]
  },
  {
   "cell_type": "code",
   "execution_count": 2,
   "id": "f522a9a4-4230-46bb-b4fd-c0d4ed39465f",
   "metadata": {},
   "outputs": [],
   "source": [
    "plt.style.use('cyberpunk')\n",
    "#mplcyberpunk.make_lines_glow()"
   ]
  },
  {
   "cell_type": "markdown",
   "id": "5356d693-0fb6-4ca0-b6c0-35c881b4ff3d",
   "metadata": {},
   "source": [
    "$$\\frac{dx}{dt} = \\sin(x)$$\n",
    "\n",
    "$$x(0) = 0$$"
   ]
  },
  {
   "cell_type": "markdown",
   "id": "c53bdc67-91d0-488a-8574-4a1d3ca3041b",
   "metadata": {},
   "source": [
    "The reparametrization fos this initial value problem is:\n",
    "\n",
    "$$\\hat{x} = x_0 + (1-e^{-(t-t_0)})ANN$$"
   ]
  },
  {
   "cell_type": "markdown",
   "id": "3e382dd4-1dc3-400e-b029-d04ba1fd0249",
   "metadata": {},
   "source": [
    "### \n",
    "Pytorch is numpy with automatic derivative"
   ]
  },
  {
   "cell_type": "code",
   "execution_count": null,
   "id": "6e0f9320-4ab6-45f8-a80d-c0bf1d760657",
   "metadata": {},
   "outputs": [],
   "source": []
  },
  {
   "cell_type": "code",
   "execution_count": 3,
   "id": "ca5eb0c1-b7ec-496c-ad54-53a16655550e",
   "metadata": {},
   "outputs": [],
   "source": [
    "x0=1\n",
    "\n",
    "ti=0\n",
    "tf=10"
   ]
  },
  {
   "cell_type": "code",
   "execution_count": 4,
   "id": "435b2c1b-87ab-45b7-a845-a3f8ff478d95",
   "metadata": {},
   "outputs": [],
   "source": [
    "#i) A function to get the derivative of the neural network\n",
    "def nth_derivative(net, x, n):\n",
    "    # Initialize the gradient tensor to 1.0, as the 0th derivative is the function itself.\n",
    "    grad_tensor = torch.ones_like(x, requires_grad=True)\n",
    "\n",
    "    for _ in range(n):\n",
    "        # Compute the gradient of the network's output with respect to the input.\n",
    "        grad_tensor = torch.autograd.grad(net(x), x, grad_outputs=grad_tensor, create_graph=True)[0]\n",
    "\n",
    "    return grad_tensor"
   ]
  },
  {
   "cell_type": "markdown",
   "id": "39740d34-64db-4b44-b9e7-d3c8e6ee73ff",
   "metadata": {},
   "source": [
    "#### Differential equation"
   ]
  },
  {
   "cell_type": "code",
   "execution_count": 5,
   "id": "ecb675cf-e394-41d9-9be3-7c215c706245",
   "metadata": {},
   "outputs": [],
   "source": [
    "#1 Define the fucntion that describes the differential equation F(t;x,x',...)=0\n",
    "def oscilador(net,t):\n",
    "    return nth_derivative(net, t, 1) - torch.sin(t)"
   ]
  },
  {
   "cell_type": "markdown",
   "id": "0e478fa5-3a4d-469f-a593-0ae5e4147431",
   "metadata": {},
   "source": [
    "#### Architecture "
   ]
  },
  {
   "cell_type": "code",
   "execution_count": 6,
   "id": "250f91c5-a564-45b0-8e02-d71085d8eec7",
   "metadata": {},
   "outputs": [
    {
     "name": "stdout",
     "output_type": "stream",
     "text": [
      "Sequential(\n",
      "  (0): Linear(in_features=1, out_features=40, bias=True)\n",
      "  (1): Tanh()\n",
      "  (2): Linear(in_features=40, out_features=40, bias=True)\n",
      "  (3): Tanh()\n",
      "  (4): Linear(in_features=40, out_features=1, bias=True)\n",
      ")\n"
     ]
    }
   ],
   "source": [
    "nodos=40\n",
    "ANN = nn.Sequential(nn.Linear(1, nodos), nn.Tanh(), nn.Linear(nodos,nodos),\n",
    "                    # nn.Tanh(), nn.Linear(nodos,nodos),\n",
    "                    # nn.Tanh(), nn.Linear(nodos,nodos),\n",
    "                    # nn.Tanh(), nn.Linear(nodos,nodos),\n",
    "                    # nn.Tanh(), nn.Linear(nodos,nodos),\n",
    "                    nn.Tanh(),nn.Linear(nodos,1))\n",
    "print(ANN)"
   ]
  },
  {
   "cell_type": "markdown",
   "id": "6f2277b9-371c-4a1e-9819-37405a7325c9",
   "metadata": {},
   "source": [
    "#### Reparametrization"
   ]
  },
  {
   "cell_type": "code",
   "execution_count": 7,
   "id": "b42ae317-5bb9-40e3-8c29-8738f4f38246",
   "metadata": {},
   "outputs": [],
   "source": [
    "# Now the re-parametrization of the network, depends on the initial conditions\n",
    "def ReParam(t,net=ANN):\n",
    "    #a=(t-ti)*v0\n",
    "    b=(1-torch.exp(ti-t))\n",
    "    return x0 + b*net(t)"
   ]
  },
  {
   "cell_type": "markdown",
   "id": "ff4dbfb7-e2eb-496c-8b0f-f343edc8a962",
   "metadata": {},
   "source": [
    "#### Cost function\n"
   ]
  },
  {
   "cell_type": "code",
   "execution_count": 8,
   "id": "a7961343-242b-4d47-8b62-76aa7c62d8be",
   "metadata": {},
   "outputs": [],
   "source": [
    "#Now the cost function\n",
    "def cost(t):\n",
    "    t.requires_grad=True\n",
    "    #calculamos una salida de la red\n",
    "    return torch.linalg.norm(oscilador(ReParam,t))"
   ]
  },
  {
   "cell_type": "code",
   "execution_count": 9,
   "id": "5c565b6d-0fa4-4e88-87e9-c9d5ffea385d",
   "metadata": {},
   "outputs": [],
   "source": [
    "#5 el intervalo que queremos para x\n",
    "puntos=40\n",
    "x = torch.linspace(0,10,puntos)\n",
    "x=x.reshape(puntos,1)"
   ]
  },
  {
   "cell_type": "code",
   "execution_count": 10,
   "id": "32aa239d-82ac-4945-b6f9-6bd6958bb729",
   "metadata": {},
   "outputs": [],
   "source": [
    "#4 Error and optimizer\n",
    "learning_rate=0.001\n",
    "epocas=1000\n",
    "\n",
    "#optimizer=torch.optim.SGD(ANN.parameters(),lr=learning_rate,momentum=0.9)\n",
    "optimizer=optimizer = torch.optim.Adam(ANN.parameters(), lr=learning_rate)\n",
    "#optimizer = torch.optim.Adadelta(ANN.parameters(), lr=learning_rate)"
   ]
  },
  {
   "cell_type": "code",
   "execution_count": 11,
   "id": "b4d95c12-3fc1-48c3-8651-0bd8a69dd7ca",
   "metadata": {},
   "outputs": [
    {
     "name": "stdout",
     "output_type": "stream",
     "text": [
      "época=999.00 , loss=0.02\n"
     ]
    },
    {
     "data": {
      "text/plain": [
       "[<matplotlib.lines.Line2D at 0x7f11e3173700>]"
      ]
     },
     "execution_count": 11,
     "metadata": {},
     "output_type": "execute_result"
    },
    {
     "data": {
      "image/png": "[encoded data removed]",
      "text/plain": [
       "<Figure size 640x480 with 1 Axes>"
      ]
     },
     "metadata": {},
     "output_type": "display_data"
    }
   ],
   "source": [
    "#loop de entrenamiendo \n",
    "errores=[]\n",
    "for i in range(epocas):\n",
    "    l=cost(x) #coste\n",
    "    l.backward() #gradiente\n",
    "    optimizer.step() #se actualizan los parámetros\n",
    "    optimizer.zero_grad() #vacíamos el gradiente\n",
    "    #print('época=%.2f , loss=%.2f'%(i,l))\n",
    "    errores.append(float(l))\n",
    "print('época=%.2f , loss=%.2f'%(i,l))\n",
    "plt.plot(range(epocas),errores)\n"
   ]
  },
  {
   "cell_type": "code",
   "execution_count": 12,
   "id": "a85d2e78-8472-468a-8682-15290de5b6d2",
   "metadata": {},
   "outputs": [
    {
     "data": {
      "text/plain": [
       "<matplotlib.legend.Legend at 0x7f11e1631900>"
      ]
     },
     "execution_count": 12,
     "metadata": {},
     "output_type": "execute_result"
    },
    {
     "data": {
      "image/png": "[encoded data removed]",
      "text/plain": [
       "<Figure size 640x480 with 1 Axes>"
      ]
     },
     "metadata": {},
     "output_type": "display_data"
    }
   ],
   "source": [
    "x = torch.linspace(0,10,100)\n",
    "x=x.reshape(100,1)\n",
    "\n",
    "#plt.plot(x,x**2,'ro')\n",
    "plt.plot(x,2-torch.cos(x),label='Analitic solution')\n",
    "plt.plot(x,ReParam(x,net=ANN).detach().numpy(),'--r', label='PINN')\n",
    "plt.legend()\n",
    "#mplcyberpunk.make_lines_glow()"
   ]
  },
  {
   "cell_type": "code",
   "execution_count": 18,
   "id": "8debeb0f-d4af-4bff-b060-dcf974bd8c05",
   "metadata": {
    "scrolled": true
   },
   "outputs": [
    {
     "data": {
      "text/plain": [
       "tensor([[-0.0024],\n",
       "        [ 0.0921],\n",
       "        [ 0.1933],\n",
       "        [ 0.2946],\n",
       "        [ 0.3922],\n",
       "        [ 0.4838],\n",
       "        [ 0.5689],\n",
       "        [ 0.6472],\n",
       "        [ 0.7188],\n",
       "        [ 0.7836],\n",
       "        [ 0.8413],\n",
       "        [ 0.8913],\n",
       "        [ 0.9329],\n",
       "        [ 0.9650],\n",
       "        [ 0.9869],\n",
       "        [ 0.9979],\n",
       "        [ 0.9977],\n",
       "        [ 0.9867],\n",
       "        [ 0.9656],\n",
       "        [ 0.9351],\n",
       "        [ 0.8962],\n",
       "        [ 0.8490],\n",
       "        [ 0.7936],\n",
       "        [ 0.7297],\n",
       "        [ 0.6574],\n",
       "        [ 0.5772],\n",
       "        [ 0.4907],\n",
       "        [ 0.3995],\n",
       "        [ 0.3052],\n",
       "        [ 0.2088],\n",
       "        [ 0.1107],\n",
       "        [ 0.0112],\n",
       "        [-0.0893],\n",
       "        [-0.1896],\n",
       "        [-0.2886],\n",
       "        [-0.3846],\n",
       "        [-0.4764],\n",
       "        [-0.5627],\n",
       "        [-0.6428],\n",
       "        [-0.7160],\n",
       "        [-0.7820],\n",
       "        [-0.8402],\n",
       "        [-0.8903],\n",
       "        [-0.9316],\n",
       "        [-0.9637],\n",
       "        [-0.9860],\n",
       "        [-0.9982],\n",
       "        [-1.0001],\n",
       "        [-0.9915],\n",
       "        [-0.9725],\n",
       "        [-0.9434],\n",
       "        [-0.9047],\n",
       "        [-0.8566],\n",
       "        [-0.7998],\n",
       "        [-0.7349],\n",
       "        [-0.6627],\n",
       "        [-0.5837],\n",
       "        [-0.4990],\n",
       "        [-0.4093],\n",
       "        [-0.3155],\n",
       "        [-0.2185],\n",
       "        [-0.1193],\n",
       "        [-0.0189],\n",
       "        [ 0.0818],\n",
       "        [ 0.1818],\n",
       "        [ 0.2801],\n",
       "        [ 0.3758],\n",
       "        [ 0.4678],\n",
       "        [ 0.5553],\n",
       "        [ 0.6371],\n",
       "        [ 0.7125],\n",
       "        [ 0.7806],\n",
       "        [ 0.8406],\n",
       "        [ 0.8919],\n",
       "        [ 0.9339],\n",
       "        [ 0.9663],\n",
       "        [ 0.9887],\n",
       "        [ 1.0009],\n",
       "        [ 1.0031],\n",
       "        [ 0.9952],\n",
       "        [ 0.9774],\n",
       "        [ 0.9499],\n",
       "        [ 0.9131],\n",
       "        [ 0.8673],\n",
       "        [ 0.8128],\n",
       "        [ 0.7501],\n",
       "        [ 0.6796],\n",
       "        [ 0.6019],\n",
       "        [ 0.5178],\n",
       "        [ 0.4280],\n",
       "        [ 0.3335],\n",
       "        [ 0.2353],\n",
       "        [ 0.1346],\n",
       "        [ 0.0327],\n",
       "        [-0.0691],\n",
       "        [-0.1697],\n",
       "        [-0.2677],\n",
       "        [-0.3621],\n",
       "        [-0.4520],\n",
       "        [-0.5366]], grad_fn=<AddBackward0>)"
      ]
     },
     "execution_count": 18,
     "metadata": {},
     "output_type": "execute_result"
    }
   ],
   "source": [
    "nth_derivative(ReParam, x, 1)"
   ]
  },
  {
   "cell_type": "code",
   "execution_count": null,
   "id": "c0c755c1-8f32-4091-8b73-5bdaef5ee1ed",
   "metadata": {},
   "outputs": [],
   "source": []
  },
  {
   "cell_type": "code",
   "execution_count": null,
   "id": "2ec51772-5f07-4e4e-95df-763d1b8740d5",
   "metadata": {},
   "outputs": [],
   "source": []
  },
  {
   "cell_type": "code",
   "execution_count": null,
   "id": "5c95806b-6cf3-4537-aa1c-ee8fc251cafc",
   "metadata": {},
   "outputs": [],
   "source": []
  }
 ],
 "metadata": {
  "kernelspec": {
   "display_name": "Python 3 (ipykernel)",
   "language": "python",
   "name": "python3"
  },
  "language_info": {
   "codemirror_mode": {
    "name": "ipython",
    "version": 3
   },
   "file_extension": ".py",
   "mimetype": "text/x-python",
   "name": "python",
   "nbconvert_exporter": "python",
   "pygments_lexer": "ipython3",
   "version": "3.10.12"
  }
 },
 "nbformat": 4,
 "nbformat_minor": 5
}
