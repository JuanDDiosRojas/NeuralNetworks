{
 "cells": [
  {
   "cell_type": "code",
   "execution_count": 199,
   "metadata": {},
   "outputs": [],
   "source": [
    "import torch\n",
    "import torch.nn as nn\n",
    "import matplotlib.pyplot as plt\n",
    "import numpy as np\n",
    "from scipy.integrate import odeint\n",
    "import mplcyberpunk\n",
    "import tqdm\n",
    "from functions import nth_derivative, oscilador,sol_x"
   ]
  },
  {
   "cell_type": "code",
   "execution_count": 200,
   "metadata": {},
   "outputs": [],
   "source": [
    "plt.style.use('cyberpunk')\n",
    "#mplcyberpunk.make_lines_glow()"
   ]
  },
  {
   "cell_type": "code",
   "execution_count": 251,
   "metadata": {},
   "outputs": [],
   "source": [
    "#5 el intervalo que queremos para x\n",
    "ti=0.0\n",
    "tf=10.0\n",
    "#t=torch.linspace(ti,tf,60).view(-1,1)\n",
    "\n",
    "x0_i=-0.5\n",
    "x0_f=0.6\n",
    "\n",
    "# v0_i=0.0\n",
    "# v0_f=0.6\n",
    "\n",
    "# delta_i=0.0\n",
    "# delta_f=0.3\n",
    "\n",
    "# omega_i=0.0\n",
    "# omega_f=0.3\n",
    "\n",
    "T=torch.cartesian_prod(torch.linspace(ti,tf,100),\n",
    "                       torch.arange(x0_i,x0_f,0.1))\n",
    "                     #   torch.arange(x0_i,x0_f,0.1))\n",
    "                    #    torch.linspace(delta_i,delta_f,8),\n",
    "                    #    torch.linspace(omega_i,omega_f,8))\n",
    "\n",
    "T=T[torch.randperm(T.shape[0])]"
   ]
  },
  {
   "cell_type": "code",
   "execution_count": 252,
   "metadata": {},
   "outputs": [
    {
     "data": {
      "text/plain": [
       "tensor([[ 8.2828e+00, -1.0000e-01],\n",
       "        [ 3.4343e+00,  1.0000e-01],\n",
       "        [ 3.7374e+00, -2.0000e-01],\n",
       "        ...,\n",
       "        [ 6.0606e+00, -2.0000e-01],\n",
       "        [ 9.3939e+00, -5.0000e-01],\n",
       "        [ 6.4646e+00,  2.7756e-17]], device='cuda:0')"
      ]
     },
     "execution_count": 252,
     "metadata": {},
     "output_type": "execute_result"
    }
   ],
   "source": [
    "#T.cuda()\n",
    "T.cuda()"
   ]
  },
  {
   "cell_type": "code",
   "execution_count": 253,
   "metadata": {},
   "outputs": [
    {
     "data": {
      "text/plain": [
       "torch.Size([1100, 2])"
      ]
     },
     "execution_count": 253,
     "metadata": {},
     "output_type": "execute_result"
    }
   ],
   "source": [
    "T.shape"
   ]
  },
  {
   "cell_type": "code",
   "execution_count": 254,
   "metadata": {},
   "outputs": [
    {
     "name": "stdout",
     "output_type": "stream",
     "text": [
      "Sequential(\n",
      "  (0): Linear(in_features=2, out_features=16, bias=True)\n",
      "  (1): Tanh()\n",
      "  (2): Linear(in_features=16, out_features=16, bias=True)\n",
      "  (3): Tanh()\n",
      "  (4): Linear(in_features=16, out_features=1, bias=True)\n",
      ")\n"
     ]
    }
   ],
   "source": [
    "nodos=16\n",
    "ANN = nn.Sequential(nn.Linear(2, nodos), nn.Tanh(), nn.Linear(nodos,nodos),\n",
    "                    #nn.Tanh(), nn.Linear(nodos,nodos),\n",
    "                    #nn.Tanh(), nn.Linear(nodos,nodos),\n",
    "                    #nn.Tanh(), nn.Linear(nodos,nodos),\n",
    "                    # nn.Tanh(), nn.Linear(nodos,nodos),\n",
    "                    nn.Tanh(),nn.Linear(nodos,1))\n",
    "print(ANN)\n"
   ]
  },
  {
   "cell_type": "code",
   "execution_count": 255,
   "metadata": {},
   "outputs": [
    {
     "data": {
      "text/plain": [
       "tensor([[0.0050],\n",
       "        [0.0212],\n",
       "        [0.0201],\n",
       "        ...,\n",
       "        [0.0122],\n",
       "        [0.0037],\n",
       "        [0.0102]], grad_fn=<ReshapeAliasBackward0>)"
      ]
     },
     "execution_count": 255,
     "metadata": {},
     "output_type": "execute_result"
    }
   ],
   "source": [
    "nth_derivative(ANN, T,2)"
   ]
  },
  {
   "cell_type": "code",
   "execution_count": 256,
   "metadata": {},
   "outputs": [],
   "source": [
    "# def Param(T,net=ANN):\n",
    "#     out = net(T)\n",
    "#     b=1-torch.exp(ti-T)\n",
    "\n",
    "#     #return torch.reshape(T[:,1],out.size()) + b*out\n",
    "#     return 2.0 +() +b.reshape(out.shape)**2 * out\n",
    "\n",
    "# def Param(T,net=ANN):\n",
    "#     #T=[t,x0,v0]\n",
    "#     b=1-torch.exp(ti-T[:,0])\n",
    "#     a=(T[:,0]-ti)*T[:,2]\n",
    "#     #return torch.reshape(T[:,1],out.size()) + b*out\n",
    "#     return T[:,1].view(-1,1) + a.view(-1,1) + b.view(-1,1)**2*net(T)\n",
    "\n",
    "def Param(T,net=ANN):\n",
    "    out = net(T)\n",
    "    a=(T[:,0]-ti)*1.0\n",
    "    b=1-torch.exp(ti-T[:,0])\n",
    "    #return torch.reshape(T[:,1],out.size()) + b*out\n",
    "    return T[:,1].view(-1,1) +a.view(-1,1) +b.view(-1,1)**2 * out\n"
   ]
  },
  {
   "cell_type": "code",
   "execution_count": 257,
   "metadata": {},
   "outputs": [
    {
     "data": {
      "text/plain": [
       "tensor([[7.9091],\n",
       "        [3.4380],\n",
       "        [3.4313],\n",
       "        ...,\n",
       "        [5.6356],\n",
       "        [8.6129],\n",
       "        [6.2229]], grad_fn=<AddBackward0>)"
      ]
     },
     "execution_count": 257,
     "metadata": {},
     "output_type": "execute_result"
    }
   ],
   "source": [
    "Param(T)"
   ]
  },
  {
   "cell_type": "code",
   "execution_count": 245,
   "metadata": {},
   "outputs": [],
   "source": [
    "# def cost(t):\n",
    "#     #Dt = nth_derivative(Param, t,1)\n",
    "#     DDt = nth_derivative(Param, t,2) #las derivadas de orden sup sólo respecto a t\n",
    "#     #delta = T[:, 3]\n",
    "#     #delta = delta.view(-1, 1)\n",
    "#     #omega = T[:, 4]\n",
    "\n",
    "#     osc = DDt - torch.sin(T[:,0]).view(-1,1)\n",
    "\n",
    "#     return torch.linalg.norm(osc)\n",
    "n=len(T)\n",
    "\n",
    "def cost(t):\n",
    "    Dt = nth_derivative(Param, t,1)\n",
    "    DDt = nth_derivative(Param, t,2) #las derivadas de orden sup sólo respecto a t\n",
    "    #delta = T[:, 3]\n",
    "    #delta = delta.view(-1, 1)\n",
    "    #omega = T[:, 4]\n",
    "\n",
    "    osc = DDt + 1.5*Dt + 9.0*Param(t)\n",
    "    #osc = DDt + t[:,3].view(-1,1)*Dt + t[:,4].view(-1,1)*Param(t)\n",
    "    return torch.linalg.norm(osc)**2\n",
    "    #return torch.sum(torch.pow(osc, 2))"
   ]
  },
  {
   "cell_type": "code",
   "execution_count": 258,
   "metadata": {},
   "outputs": [
    {
     "data": {
      "text/plain": [
       "tensor(2946723., grad_fn=<PowBackward0>)"
      ]
     },
     "execution_count": 258,
     "metadata": {},
     "output_type": "execute_result"
    }
   ],
   "source": [
    "cost(T)"
   ]
  },
  {
   "cell_type": "code",
   "execution_count": 269,
   "metadata": {},
   "outputs": [],
   "source": [
    "#4 Error and optimizer\n",
    "learning_rate=0.01\n",
    "epocas=5000\n",
    "\n",
    "#optimizer=torch.optim.SGD(ANN.parameters(),lr=learning_rate,momentum=0.9)\n",
    "optimizer = torch.optim.Adam(ANN.parameters(), lr=learning_rate, weight_decay=0.1)\n",
    "#optimizer = torch.optim.Adadelta(ANN.parameters(), lr=learning_rate)"
   ]
  },
  {
   "cell_type": "code",
   "execution_count": 270,
   "metadata": {},
   "outputs": [
    {
     "name": "stderr",
     "output_type": "stream",
     "text": [
      "Training: 100%|\u001b[36m██████████████████████████████████████\u001b[0m| 5000/5000 [00:48<00:00, 103.87it/s, loss=577]\u001b[0m\n"
     ]
    },
    {
     "data": {
      "text/plain": [
       "[<matplotlib.lines.Line2D at 0x7f4a1e4fefb0>]"
      ]
     },
     "execution_count": 270,
     "metadata": {},
     "output_type": "execute_result"
    },
    {
     "data": {
      "image/png": "[encoded data removed]",
      "text/plain": [
       "<Figure size 640x480 with 1 Axes>"
      ]
     },
     "metadata": {},
     "output_type": "display_data"
    }
   ],
   "source": [
    "#loop de entrenamiendo \n",
    "pbar = tqdm.tqdm(range(epocas), desc=\"Training\",  colour='cyan', ncols=100)\n",
    "\n",
    "errores=[]\n",
    "for i in pbar:\n",
    "    l=cost(T) #coste\n",
    "    #l=torch.nn.MSELoss(Param(T))\n",
    "    l.backward() #gradiente\n",
    "    optimizer.step() #se actualizan los parámetros\n",
    "    optimizer.zero_grad() #vacíamos el gradiente\n",
    "    #print('época=%.2f , loss=%.2f'%(i,l))\n",
    "    errores.append(float(l))\n",
    "    #tqdm.set_description('época: %d , loss: %.2f' % (i, l.item()))\n",
    "    pbar.set_postfix({'loss': l.item()})\n",
    "    #pbar.set_refresh(50)\n",
    "    #tqdm.set_description(\"Training\")\n",
    "    #print('época=%.2f , loss=%.2f'%(i,l))\n",
    "\n",
    "plt.plot(range(epocas),errores)"
   ]
  },
  {
   "cell_type": "code",
   "execution_count": 268,
   "metadata": {},
   "outputs": [
    {
     "data": {
      "text/plain": [
       "<matplotlib.legend.Legend at 0x7f4a1dc32800>"
      ]
     },
     "execution_count": 268,
     "metadata": {},
     "output_type": "execute_result"
    },
    {
     "data": {
      "image/png": "[encoded data removed]",
      "text/plain": [
       "<Figure size 640x480 with 1 Axes>"
      ]
     },
     "metadata": {},
     "output_type": "display_data"
    }
   ],
   "source": [
    "pos_ini=0.4\n",
    "vel_ini=1.0\n",
    "d=1.5\n",
    "omega=3\n",
    "\n",
    "t0 = torch.linspace(ti,tf,60)\n",
    "x0 = pos_ini*torch.ones([t0.shape[0],1])\n",
    "#v0 = vel_ini*torch.ones([t0.shape[0],1])\n",
    "# delta0 = d*torch.ones([t0.shape[0],1])\n",
    "# omega0 = omega*torch.ones([t0.shape[0],1])\n",
    "\n",
    "X=torch.cat((t0.view(-1,1),x0),1)\n",
    "X.cuda()\n",
    "#plt.plot(t0, -torch.sin(t0)+2*t0+pos_ini, label='solución real')\n",
    "plt.plot(t0.detach(), sol_x([pos_ini,vel_ini], t0, d, omega), label='solución real')\n",
    "plt.plot(X[:,0],Param(X).detach().numpy(),'--r', label='PINN')\n",
    "#plt.plot(t0.view(-1,1),Param(t0.view(-1,1)).detach().numpy(),'--r', label='PINN')\n",
    "plt.legend()"
   ]
  },
  {
   "cell_type": "code",
   "execution_count": 263,
   "metadata": {},
   "outputs": [
    {
     "name": "stdout",
     "output_type": "stream",
     "text": [
      "253 µs ± 26.1 µs per loop (mean ± std. dev. of 7 runs, 1,000 loops each)\n"
     ]
    }
   ],
   "source": [
    "%timeit Param(X).detach().numpy()"
   ]
  },
  {
   "cell_type": "code",
   "execution_count": 264,
   "metadata": {},
   "outputs": [
    {
     "name": "stdout",
     "output_type": "stream",
     "text": [
      "1.15 ms ± 32.7 µs per loop (mean ± std. dev. of 7 runs, 1,000 loops each)\n"
     ]
    }
   ],
   "source": [
    "%timeit sol_x([pos_ini,vel_ini], t0, d, omega) #odeint"
   ]
  },
  {
   "cell_type": "code",
   "execution_count": 165,
   "metadata": {},
   "outputs": [
    {
     "data": {
      "text/plain": [
       "tensor([[ 0.0000, -0.1000],\n",
       "        [ 0.1695, -0.1000],\n",
       "        [ 0.3390, -0.1000],\n",
       "        [ 0.5085, -0.1000],\n",
       "        [ 0.6780, -0.1000],\n",
       "        [ 0.8475, -0.1000],\n",
       "        [ 1.0169, -0.1000],\n",
       "        [ 1.1864, -0.1000],\n",
       "        [ 1.3559, -0.1000],\n",
       "        [ 1.5254, -0.1000],\n",
       "        [ 1.6949, -0.1000],\n",
       "        [ 1.8644, -0.1000],\n",
       "        [ 2.0339, -0.1000],\n",
       "        [ 2.2034, -0.1000],\n",
       "        [ 2.3729, -0.1000],\n",
       "        [ 2.5424, -0.1000],\n",
       "        [ 2.7119, -0.1000],\n",
       "        [ 2.8814, -0.1000],\n",
       "        [ 3.0508, -0.1000],\n",
       "        [ 3.2203, -0.1000],\n",
       "        [ 3.3898, -0.1000],\n",
       "        [ 3.5593, -0.1000],\n",
       "        [ 3.7288, -0.1000],\n",
       "        [ 3.8983, -0.1000],\n",
       "        [ 4.0678, -0.1000],\n",
       "        [ 4.2373, -0.1000],\n",
       "        [ 4.4068, -0.1000],\n",
       "        [ 4.5763, -0.1000],\n",
       "        [ 4.7458, -0.1000],\n",
       "        [ 4.9153, -0.1000],\n",
       "        [ 5.0847, -0.1000],\n",
       "        [ 5.2542, -0.1000],\n",
       "        [ 5.4237, -0.1000],\n",
       "        [ 5.5932, -0.1000],\n",
       "        [ 5.7627, -0.1000],\n",
       "        [ 5.9322, -0.1000],\n",
       "        [ 6.1017, -0.1000],\n",
       "        [ 6.2712, -0.1000],\n",
       "        [ 6.4407, -0.1000],\n",
       "        [ 6.6102, -0.1000],\n",
       "        [ 6.7797, -0.1000],\n",
       "        [ 6.9492, -0.1000],\n",
       "        [ 7.1186, -0.1000],\n",
       "        [ 7.2881, -0.1000],\n",
       "        [ 7.4576, -0.1000],\n",
       "        [ 7.6271, -0.1000],\n",
       "        [ 7.7966, -0.1000],\n",
       "        [ 7.9661, -0.1000],\n",
       "        [ 8.1356, -0.1000],\n",
       "        [ 8.3051, -0.1000],\n",
       "        [ 8.4746, -0.1000],\n",
       "        [ 8.6441, -0.1000],\n",
       "        [ 8.8136, -0.1000],\n",
       "        [ 8.9831, -0.1000],\n",
       "        [ 9.1525, -0.1000],\n",
       "        [ 9.3220, -0.1000],\n",
       "        [ 9.4915, -0.1000],\n",
       "        [ 9.6610, -0.1000],\n",
       "        [ 9.8305, -0.1000],\n",
       "        [10.0000, -0.1000]])"
      ]
     },
     "execution_count": 165,
     "metadata": {},
     "output_type": "execute_result"
    }
   ],
   "source": [
    "X"
   ]
  },
  {
   "cell_type": "code",
   "execution_count": 166,
   "metadata": {},
   "outputs": [],
   "source": [
    "torch.save(ANN.state_dict(),'oscilador_dict')"
   ]
  },
  {
   "cell_type": "code",
   "execution_count": 167,
   "metadata": {},
   "outputs": [
    {
     "data": {
      "text/plain": [
       "OrderedDict([('0.weight',\n",
       "              tensor([[-0.0503, -0.7429],\n",
       "                      [ 0.9826,  0.1893],\n",
       "                      [ 0.1018, -0.4426],\n",
       "                      [ 0.0964,  0.8514],\n",
       "                      [ 0.0247, -0.0747],\n",
       "                      [-0.1479, -0.0502],\n",
       "                      [ 0.0399, -0.6940],\n",
       "                      [-0.1785, -0.2274],\n",
       "                      [-0.1794, -0.1360],\n",
       "                      [-0.1723,  0.0442],\n",
       "                      [ 0.2074, -0.2322],\n",
       "                      [-0.0214, -0.0337],\n",
       "                      [ 0.0682, -0.2028],\n",
       "                      [-0.2063,  0.1072],\n",
       "                      [ 0.0763, -0.0302],\n",
       "                      [-0.0728, -0.1455],\n",
       "                      [ 0.0732,  0.0549],\n",
       "                      [ 1.4922, -1.2189],\n",
       "                      [ 0.1417,  0.0246],\n",
       "                      [ 0.8518,  0.3032],\n",
       "                      [ 1.1196,  1.0317],\n",
       "                      [ 0.0808,  0.3923],\n",
       "                      [-0.0674, -0.2163],\n",
       "                      [-0.0771, -0.9255],\n",
       "                      [ 0.0795,  0.1836],\n",
       "                      [ 0.0616,  0.4419],\n",
       "                      [ 0.3229, -0.1037],\n",
       "                      [-0.1131, -0.1267],\n",
       "                      [-0.1243, -0.1697],\n",
       "                      [ 0.8128,  0.5767],\n",
       "                      [-0.0250, -1.1382],\n",
       "                      [ 0.0425, -0.2952],\n",
       "                      [-0.0955,  0.3551],\n",
       "                      [ 0.1755,  0.3236],\n",
       "                      [-0.0822, -0.1001]])),\n",
       "             ('0.bias',\n",
       "              tensor([ 0.0087,  0.4316, -0.0196, -0.5133,  0.2694,  0.7813,  0.4717,  1.1579,\n",
       "                       1.1588,  1.0969, -1.5085,  0.3540,  0.3804,  1.3640,  0.8087, -1.0109,\n",
       "                      -0.6233, -1.4818, -0.4501,  0.5930, -0.4656,  0.4568, -0.2648,  0.0156,\n",
       "                       0.8005,  0.4294, -0.3062,  0.4760,  0.4648,  0.0936,  0.6833,  0.3104,\n",
       "                       0.3246, -1.2237,  0.1390])),\n",
       "             ('2.weight',\n",
       "              tensor([[-0.1362,  0.2528,  0.0033,  ..., -0.1817,  0.1997, -0.0560],\n",
       "                      [-0.0468,  0.3080, -0.0165,  ..., -0.2566, -0.0202, -0.1781],\n",
       "                      [ 0.0675,  0.2045,  0.2019,  ..., -0.1088, -0.0195, -0.0390],\n",
       "                      ...,\n",
       "                      [-0.0504, -0.0158, -0.0506,  ...,  0.1968, -0.4543,  0.0009],\n",
       "                      [ 0.1803, -0.3238, -0.0378,  ..., -0.0424, -0.1149,  0.0120],\n",
       "                      [-0.1129,  0.0925,  0.2131,  ..., -0.1432,  0.0894,  0.0597]])),\n",
       "             ('2.bias',\n",
       "              tensor([ 0.3115,  0.3043,  0.1889, -0.2884, -0.1651, -0.3339,  0.1440, -0.2134,\n",
       "                       0.0809, -0.2516, -0.3257,  0.0673,  0.2295, -0.0979, -0.0147,  0.3513,\n",
       "                      -0.0477,  0.1389,  0.1386, -0.2181, -0.2693, -0.2557,  0.0785,  0.3514,\n",
       "                       0.2460,  0.0545,  0.0523,  0.0361,  0.2856,  0.0732, -0.0957, -0.1146,\n",
       "                       0.1328, -0.1966,  0.1744])),\n",
       "             ('4.weight',\n",
       "              tensor([[-0.3934, -0.4495, -0.3866,  0.2130,  0.2715,  0.3982, -0.2131,  0.3493,\n",
       "                       -0.1856,  0.3187,  0.3361,  0.3147, -0.2836,  0.3171, -0.4292, -0.4314,\n",
       "                        0.2304,  0.3545, -0.3496,  0.3803,  0.4317,  0.3767,  0.3456,  0.4123,\n",
       "                       -0.3333, -0.3384, -0.2163,  0.3640,  0.4021,  0.3503,  0.2713,  0.4187,\n",
       "                        0.4198,  0.3807, -0.3661]])),\n",
       "             ('4.bias', tensor([-0.0868]))])"
      ]
     },
     "execution_count": 167,
     "metadata": {},
     "output_type": "execute_result"
    }
   ],
   "source": [
    "ANN.state_dict()"
   ]
  },
  {
   "cell_type": "code",
   "execution_count": 168,
   "metadata": {},
   "outputs": [
    {
     "name": "stderr",
     "output_type": "stream",
     "text": [
      "/home/kingsman/.local/lib/python3.10/site-packages/torch/nn/_reduction.py:42: UserWarning: size_average and reduce args will be deprecated, please use reduction='mean' instead.\n",
      "  warnings.warn(warning.format(ret))\n"
     ]
    },
    {
     "data": {
      "text/plain": [
       "MSELoss()"
      ]
     },
     "execution_count": 168,
     "metadata": {},
     "output_type": "execute_result"
    }
   ],
   "source": [
    "torch.nn.MSELoss(ANN)"
   ]
  },
  {
   "cell_type": "code",
   "execution_count": 169,
   "metadata": {},
   "outputs": [
    {
     "ename": "IndexError",
     "evalue": "Dimension out of range (expected to be in range of [-2, 1], but got 2)",
     "output_type": "error",
     "traceback": [
      "\u001b[0;31m---------------------------------------------------------------------------\u001b[0m",
      "\u001b[0;31mIndexError\u001b[0m                                Traceback (most recent call last)",
      "Cell \u001b[0;32mIn[169], line 1\u001b[0m\n\u001b[0;32m----> 1\u001b[0m \u001b[43mtorch\u001b[49m\u001b[38;5;241;43m.\u001b[39;49m\u001b[43msum\u001b[49m\u001b[43m(\u001b[49m\u001b[43mtorch\u001b[49m\u001b[38;5;241;43m.\u001b[39;49m\u001b[43mtensor\u001b[49m\u001b[43m(\u001b[49m\u001b[43m[\u001b[49m\u001b[43m[\u001b[49m\u001b[38;5;241;43m1\u001b[39;49m\u001b[43m,\u001b[49m\u001b[38;5;241;43m2\u001b[39;49m\u001b[43m,\u001b[49m\u001b[38;5;241;43m3\u001b[39;49m\u001b[43m]\u001b[49m\u001b[43m]\u001b[49m\u001b[43m)\u001b[49m\u001b[43m,\u001b[49m\u001b[38;5;241;43m2\u001b[39;49m\u001b[43m)\u001b[49m\n",
      "\u001b[0;31mIndexError\u001b[0m: Dimension out of range (expected to be in range of [-2, 1], but got 2)"
     ]
    }
   ],
   "source": [
    "torch.sum(torch.tensor([[1,2,3]]),2)"
   ]
  },
  {
   "cell_type": "code",
   "execution_count": null,
   "metadata": {},
   "outputs": [
    {
     "data": {
      "text/plain": [
       "tensor(-1.2626, grad_fn=<SumBackward0>)"
      ]
     },
     "execution_count": 707,
     "metadata": {},
     "output_type": "execute_result"
    }
   ],
   "source": [
    "torch.sum(Param(T))"
   ]
  },
  {
   "cell_type": "code",
   "execution_count": null,
   "metadata": {},
   "outputs": [],
   "source": []
  }
 ],
 "metadata": {
  "kernelspec": {
   "display_name": "Python 3",
   "language": "python",
   "name": "python3"
  },
  "language_info": {
   "codemirror_mode": {
    "name": "ipython",
    "version": 3
   },
   "file_extension": ".py",
   "mimetype": "text/x-python",
   "name": "python",
   "nbconvert_exporter": "python",
   "pygments_lexer": "ipython3",
   "version": "3.10.12"
  }
 },
 "nbformat": 4,
 "nbformat_minor": 2
}
