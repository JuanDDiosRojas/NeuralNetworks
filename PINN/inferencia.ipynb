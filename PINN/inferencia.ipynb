{
 "cells": [
  {
   "cell_type": "markdown",
   "metadata": {},
   "source": [
    "### Statistical inference\n"
   ]
  },
  {
   "cell_type": "code",
   "execution_count": 2,
   "metadata": {},
   "outputs": [],
   "source": [
    "import torch\n",
    "import torch.nn as nn\n",
    "import matplotlib.pyplot as plt\n",
    "import numpy as np\n",
    "from scipy.integrate import odeint\n",
    "import mplcyberpunk\n",
    "import tqdm\n",
    "from functions import nth_derivative\n",
    "import pandas as pd\n",
    "from scipy.integrate import quad"
   ]
  },
  {
   "cell_type": "code",
   "execution_count": 4,
   "metadata": {},
   "outputs": [],
   "source": [
    "plt.style.use('cyberpunk')"
   ]
  },
  {
   "cell_type": "code",
   "execution_count": 5,
   "metadata": {},
   "outputs": [
    {
     "data": {
      "text/plain": [
       "array([[0.03177108],\n",
       "       [0.00575443],\n",
       "       [0.00031006],\n",
       "       ...,\n",
       "       [0.00588703],\n",
       "       [0.00875111],\n",
       "       [0.04499005]])"
      ]
     },
     "execution_count": 5,
     "metadata": {},
     "output_type": "execute_result"
    }
   ],
   "source": [
    "cov=pd.read_csv('pantheon+_sys_full_long.txt').to_numpy()\n",
    "cov\n"
   ]
  },
  {
   "cell_type": "code",
   "execution_count": 6,
   "metadata": {},
   "outputs": [
    {
     "data": {
      "text/plain": [
       "array([[ 3.177108e-02,  5.754430e-03,  3.100600e-04, ...,  2.945500e-04,\n",
       "        -8.595000e-05, -2.701100e-04],\n",
       "       [ 5.754430e-03,  3.456656e-02,  6.595500e-04, ..., -2.863200e-04,\n",
       "        -2.456300e-04, -2.363400e-04],\n",
       "       [ 3.100600e-04,  6.595500e-04,  6.125745e-02, ...,  1.936450e-03,\n",
       "         3.214810e-03,  4.000510e-03],\n",
       "       ...,\n",
       "       [ 2.945500e-04, -2.863200e-04,  1.936450e-03, ...,  4.157373e-02,\n",
       "         4.902260e-03,  5.887030e-03],\n",
       "       [-8.595000e-05, -2.456300e-04,  3.214810e-03, ...,  4.902260e-03,\n",
       "         6.742823e-02,  8.751110e-03],\n",
       "       [-2.701100e-04, -2.363400e-04,  4.000510e-03, ...,  5.887030e-03,\n",
       "         8.751110e-03,  4.499005e-02]])"
      ]
     },
     "execution_count": 6,
     "metadata": {},
     "output_type": "execute_result"
    }
   ],
   "source": [
    "cov.reshape((1701,1701))"
   ]
  },
  {
   "cell_type": "code",
   "execution_count": 7,
   "metadata": {},
   "outputs": [
    {
     "data": {
      "text/html": [
       "<div>\n",
       "<style scoped>\n",
       "    .dataframe tbody tr th:only-of-type {\n",
       "        vertical-align: middle;\n",
       "    }\n",
       "\n",
       "    .dataframe tbody tr th {\n",
       "        vertical-align: top;\n",
       "    }\n",
       "\n",
       "    .dataframe thead th {\n",
       "        text-align: right;\n",
       "    }\n",
       "</style>\n",
       "<table border=\"1\" class=\"dataframe\">\n",
       "  <thead>\n",
       "    <tr style=\"text-align: right;\">\n",
       "      <th></th>\n",
       "      <th>CID</th>\n",
       "      <th>zHD</th>\n",
       "      <th>zHEL</th>\n",
       "      <th>zHELERR</th>\n",
       "      <th>m_b_corr</th>\n",
       "      <th>m_b_corr_err_DIAG</th>\n",
       "      <th>MU_SH0ES</th>\n",
       "      <th>MU_SH0ES_ERR_DIAG</th>\n",
       "      <th>CEPH_DIST</th>\n",
       "      <th>IS_CALIBRATOR</th>\n",
       "      <th>...</th>\n",
       "      <th>PKMJDERR</th>\n",
       "      <th>NDOF</th>\n",
       "      <th>FITCHI2</th>\n",
       "      <th>FITPROB</th>\n",
       "      <th>m_b_corr_err_RAW</th>\n",
       "      <th>m_b_corr_err_VPEC</th>\n",
       "      <th>biasCor_m_b</th>\n",
       "      <th>biasCorErr_m_b</th>\n",
       "      <th>biasCor_m_b_COVSCALE</th>\n",
       "      <th>biasCor_m_b_COVADD</th>\n",
       "    </tr>\n",
       "  </thead>\n",
       "  <tbody>\n",
       "    <tr>\n",
       "      <th>0</th>\n",
       "      <td>2011fe</td>\n",
       "      <td>0.00122</td>\n",
       "      <td>0.00082</td>\n",
       "      <td>0.00002</td>\n",
       "      <td>9.74571</td>\n",
       "      <td>1.516210</td>\n",
       "      <td>28.9987</td>\n",
       "      <td>1.516450</td>\n",
       "      <td>29.1770</td>\n",
       "      <td>1</td>\n",
       "      <td>...</td>\n",
       "      <td>0.1071</td>\n",
       "      <td>36</td>\n",
       "      <td>26.88590</td>\n",
       "      <td>0.864470</td>\n",
       "      <td>0.0991</td>\n",
       "      <td>1.4960</td>\n",
       "      <td>0.0381</td>\n",
       "      <td>0.005</td>\n",
       "      <td>1.000</td>\n",
       "      <td>0.003</td>\n",
       "    </tr>\n",
       "    <tr>\n",
       "      <th>1</th>\n",
       "      <td>2011fe</td>\n",
       "      <td>0.00122</td>\n",
       "      <td>0.00082</td>\n",
       "      <td>0.00002</td>\n",
       "      <td>9.80286</td>\n",
       "      <td>1.517230</td>\n",
       "      <td>29.0559</td>\n",
       "      <td>1.517470</td>\n",
       "      <td>29.1770</td>\n",
       "      <td>1</td>\n",
       "      <td>...</td>\n",
       "      <td>0.0579</td>\n",
       "      <td>101</td>\n",
       "      <td>88.30640</td>\n",
       "      <td>0.812220</td>\n",
       "      <td>0.0971</td>\n",
       "      <td>1.4960</td>\n",
       "      <td>-0.0252</td>\n",
       "      <td>0.003</td>\n",
       "      <td>1.000</td>\n",
       "      <td>0.004</td>\n",
       "    </tr>\n",
       "    <tr>\n",
       "      <th>2</th>\n",
       "      <td>2012cg</td>\n",
       "      <td>0.00256</td>\n",
       "      <td>0.00144</td>\n",
       "      <td>0.00002</td>\n",
       "      <td>11.47030</td>\n",
       "      <td>0.781906</td>\n",
       "      <td>30.7233</td>\n",
       "      <td>0.782372</td>\n",
       "      <td>30.8433</td>\n",
       "      <td>1</td>\n",
       "      <td>...</td>\n",
       "      <td>0.0278</td>\n",
       "      <td>165</td>\n",
       "      <td>233.50000</td>\n",
       "      <td>0.000358</td>\n",
       "      <td>0.0399</td>\n",
       "      <td>0.7134</td>\n",
       "      <td>0.0545</td>\n",
       "      <td>0.019</td>\n",
       "      <td>1.000</td>\n",
       "      <td>0.036</td>\n",
       "    </tr>\n",
       "    <tr>\n",
       "      <th>3</th>\n",
       "      <td>2012cg</td>\n",
       "      <td>0.00256</td>\n",
       "      <td>0.00144</td>\n",
       "      <td>0.00002</td>\n",
       "      <td>11.49190</td>\n",
       "      <td>0.798612</td>\n",
       "      <td>30.7449</td>\n",
       "      <td>0.799068</td>\n",
       "      <td>30.8433</td>\n",
       "      <td>1</td>\n",
       "      <td>...</td>\n",
       "      <td>0.0667</td>\n",
       "      <td>55</td>\n",
       "      <td>100.12200</td>\n",
       "      <td>0.000193</td>\n",
       "      <td>0.0931</td>\n",
       "      <td>0.7134</td>\n",
       "      <td>0.0622</td>\n",
       "      <td>0.028</td>\n",
       "      <td>1.000</td>\n",
       "      <td>0.040</td>\n",
       "    </tr>\n",
       "    <tr>\n",
       "      <th>4</th>\n",
       "      <td>1994DRichmond</td>\n",
       "      <td>0.00299</td>\n",
       "      <td>0.00187</td>\n",
       "      <td>0.00004</td>\n",
       "      <td>11.52270</td>\n",
       "      <td>0.880798</td>\n",
       "      <td>30.7757</td>\n",
       "      <td>0.881212</td>\n",
       "      <td>-9.0000</td>\n",
       "      <td>0</td>\n",
       "      <td>...</td>\n",
       "      <td>0.0522</td>\n",
       "      <td>146</td>\n",
       "      <td>109.83900</td>\n",
       "      <td>0.988740</td>\n",
       "      <td>0.0567</td>\n",
       "      <td>0.6110</td>\n",
       "      <td>0.0650</td>\n",
       "      <td>0.009</td>\n",
       "      <td>1.000</td>\n",
       "      <td>0.006</td>\n",
       "    </tr>\n",
       "    <tr>\n",
       "      <th>...</th>\n",
       "      <td>...</td>\n",
       "      <td>...</td>\n",
       "      <td>...</td>\n",
       "      <td>...</td>\n",
       "      <td>...</td>\n",
       "      <td>...</td>\n",
       "      <td>...</td>\n",
       "      <td>...</td>\n",
       "      <td>...</td>\n",
       "      <td>...</td>\n",
       "      <td>...</td>\n",
       "      <td>...</td>\n",
       "      <td>...</td>\n",
       "      <td>...</td>\n",
       "      <td>...</td>\n",
       "      <td>...</td>\n",
       "      <td>...</td>\n",
       "      <td>...</td>\n",
       "      <td>...</td>\n",
       "      <td>...</td>\n",
       "      <td>...</td>\n",
       "    </tr>\n",
       "    <tr>\n",
       "      <th>1696</th>\n",
       "      <td>rutledge</td>\n",
       "      <td>1.61505</td>\n",
       "      <td>1.61399</td>\n",
       "      <td>0.00500</td>\n",
       "      <td>25.90650</td>\n",
       "      <td>0.331927</td>\n",
       "      <td>45.1595</td>\n",
       "      <td>0.333024</td>\n",
       "      <td>-9.0000</td>\n",
       "      <td>0</td>\n",
       "      <td>...</td>\n",
       "      <td>1.7256</td>\n",
       "      <td>8</td>\n",
       "      <td>2.92493</td>\n",
       "      <td>0.938980</td>\n",
       "      <td>0.2230</td>\n",
       "      <td>0.0106</td>\n",
       "      <td>-0.0203</td>\n",
       "      <td>0.005</td>\n",
       "      <td>1.000</td>\n",
       "      <td>0.002</td>\n",
       "    </tr>\n",
       "    <tr>\n",
       "      <th>1697</th>\n",
       "      <td>geta</td>\n",
       "      <td>1.69706</td>\n",
       "      <td>1.70000</td>\n",
       "      <td>0.04000</td>\n",
       "      <td>26.03330</td>\n",
       "      <td>0.379521</td>\n",
       "      <td>45.2863</td>\n",
       "      <td>0.380480</td>\n",
       "      <td>-9.0000</td>\n",
       "      <td>0</td>\n",
       "      <td>...</td>\n",
       "      <td>1.8973</td>\n",
       "      <td>12</td>\n",
       "      <td>9.15387</td>\n",
       "      <td>0.689730</td>\n",
       "      <td>0.3209</td>\n",
       "      <td>0.0748</td>\n",
       "      <td>0.2680</td>\n",
       "      <td>0.005</td>\n",
       "      <td>0.633</td>\n",
       "      <td>0.000</td>\n",
       "    </tr>\n",
       "    <tr>\n",
       "      <th>1698</th>\n",
       "      <td>stone</td>\n",
       "      <td>1.80119</td>\n",
       "      <td>1.80000</td>\n",
       "      <td>0.02000</td>\n",
       "      <td>26.23350</td>\n",
       "      <td>0.280685</td>\n",
       "      <td>45.4865</td>\n",
       "      <td>0.281981</td>\n",
       "      <td>-9.0000</td>\n",
       "      <td>0</td>\n",
       "      <td>...</td>\n",
       "      <td>1.1631</td>\n",
       "      <td>11</td>\n",
       "      <td>11.69320</td>\n",
       "      <td>0.387140</td>\n",
       "      <td>0.2370</td>\n",
       "      <td>0.0358</td>\n",
       "      <td>-0.0968</td>\n",
       "      <td>0.004</td>\n",
       "      <td>0.641</td>\n",
       "      <td>0.000</td>\n",
       "    </tr>\n",
       "    <tr>\n",
       "      <th>1699</th>\n",
       "      <td>wilson</td>\n",
       "      <td>1.91165</td>\n",
       "      <td>1.91401</td>\n",
       "      <td>0.00100</td>\n",
       "      <td>26.17030</td>\n",
       "      <td>0.357624</td>\n",
       "      <td>45.4233</td>\n",
       "      <td>0.358642</td>\n",
       "      <td>-9.0000</td>\n",
       "      <td>0</td>\n",
       "      <td>...</td>\n",
       "      <td>1.4902</td>\n",
       "      <td>9</td>\n",
       "      <td>5.54378</td>\n",
       "      <td>0.784570</td>\n",
       "      <td>0.3168</td>\n",
       "      <td>0.0044</td>\n",
       "      <td>-0.3835</td>\n",
       "      <td>0.013</td>\n",
       "      <td>0.604</td>\n",
       "      <td>0.000</td>\n",
       "    </tr>\n",
       "    <tr>\n",
       "      <th>1700</th>\n",
       "      <td>colfax</td>\n",
       "      <td>2.26137</td>\n",
       "      <td>2.26000</td>\n",
       "      <td>0.02000</td>\n",
       "      <td>26.92980</td>\n",
       "      <td>0.280011</td>\n",
       "      <td>46.1828</td>\n",
       "      <td>0.281309</td>\n",
       "      <td>-9.0000</td>\n",
       "      <td>0</td>\n",
       "      <td>...</td>\n",
       "      <td>5.6828</td>\n",
       "      <td>13</td>\n",
       "      <td>10.19320</td>\n",
       "      <td>0.678070</td>\n",
       "      <td>0.4455</td>\n",
       "      <td>0.0297</td>\n",
       "      <td>-0.5356</td>\n",
       "      <td>0.009</td>\n",
       "      <td>0.164</td>\n",
       "      <td>0.000</td>\n",
       "    </tr>\n",
       "  </tbody>\n",
       "</table>\n",
       "<p>1701 rows × 43 columns</p>\n",
       "</div>"
      ],
      "text/plain": [
       "                CID      zHD     zHEL  zHELERR  m_b_corr  m_b_corr_err_DIAG  \\\n",
       "0            2011fe  0.00122  0.00082  0.00002   9.74571           1.516210   \n",
       "1            2011fe  0.00122  0.00082  0.00002   9.80286           1.517230   \n",
       "2            2012cg  0.00256  0.00144  0.00002  11.47030           0.781906   \n",
       "3            2012cg  0.00256  0.00144  0.00002  11.49190           0.798612   \n",
       "4     1994DRichmond  0.00299  0.00187  0.00004  11.52270           0.880798   \n",
       "...             ...      ...      ...      ...       ...                ...   \n",
       "1696       rutledge  1.61505  1.61399  0.00500  25.90650           0.331927   \n",
       "1697           geta  1.69706  1.70000  0.04000  26.03330           0.379521   \n",
       "1698          stone  1.80119  1.80000  0.02000  26.23350           0.280685   \n",
       "1699         wilson  1.91165  1.91401  0.00100  26.17030           0.357624   \n",
       "1700         colfax  2.26137  2.26000  0.02000  26.92980           0.280011   \n",
       "\n",
       "      MU_SH0ES  MU_SH0ES_ERR_DIAG  CEPH_DIST  IS_CALIBRATOR  ...  PKMJDERR  \\\n",
       "0      28.9987           1.516450    29.1770              1  ...    0.1071   \n",
       "1      29.0559           1.517470    29.1770              1  ...    0.0579   \n",
       "2      30.7233           0.782372    30.8433              1  ...    0.0278   \n",
       "3      30.7449           0.799068    30.8433              1  ...    0.0667   \n",
       "4      30.7757           0.881212    -9.0000              0  ...    0.0522   \n",
       "...        ...                ...        ...            ...  ...       ...   \n",
       "1696   45.1595           0.333024    -9.0000              0  ...    1.7256   \n",
       "1697   45.2863           0.380480    -9.0000              0  ...    1.8973   \n",
       "1698   45.4865           0.281981    -9.0000              0  ...    1.1631   \n",
       "1699   45.4233           0.358642    -9.0000              0  ...    1.4902   \n",
       "1700   46.1828           0.281309    -9.0000              0  ...    5.6828   \n",
       "\n",
       "      NDOF    FITCHI2   FITPROB  m_b_corr_err_RAW  m_b_corr_err_VPEC  \\\n",
       "0       36   26.88590  0.864470            0.0991             1.4960   \n",
       "1      101   88.30640  0.812220            0.0971             1.4960   \n",
       "2      165  233.50000  0.000358            0.0399             0.7134   \n",
       "3       55  100.12200  0.000193            0.0931             0.7134   \n",
       "4      146  109.83900  0.988740            0.0567             0.6110   \n",
       "...    ...        ...       ...               ...                ...   \n",
       "1696     8    2.92493  0.938980            0.2230             0.0106   \n",
       "1697    12    9.15387  0.689730            0.3209             0.0748   \n",
       "1698    11   11.69320  0.387140            0.2370             0.0358   \n",
       "1699     9    5.54378  0.784570            0.3168             0.0044   \n",
       "1700    13   10.19320  0.678070            0.4455             0.0297   \n",
       "\n",
       "      biasCor_m_b  biasCorErr_m_b  biasCor_m_b_COVSCALE  biasCor_m_b_COVADD  \n",
       "0          0.0381           0.005                 1.000               0.003  \n",
       "1         -0.0252           0.003                 1.000               0.004  \n",
       "2          0.0545           0.019                 1.000               0.036  \n",
       "3          0.0622           0.028                 1.000               0.040  \n",
       "4          0.0650           0.009                 1.000               0.006  \n",
       "...           ...             ...                   ...                 ...  \n",
       "1696      -0.0203           0.005                 1.000               0.002  \n",
       "1697       0.2680           0.005                 0.633               0.000  \n",
       "1698      -0.0968           0.004                 0.641               0.000  \n",
       "1699      -0.3835           0.013                 0.604               0.000  \n",
       "1700      -0.5356           0.009                 0.164               0.000  \n",
       "\n",
       "[1701 rows x 43 columns]"
      ]
     },
     "execution_count": 7,
     "metadata": {},
     "output_type": "execute_result"
    }
   ],
   "source": [
    "shoes=pd.read_csv('pantheon+_lcparam_full_long_zhel.txt', delimiter=' ')\n",
    "shoes"
   ]
  },
  {
   "cell_type": "code",
   "execution_count": 9,
   "metadata": {},
   "outputs": [
    {
     "data": {
      "text/plain": [
       "[<matplotlib.lines.Line2D at 0x7fb3b1c01de0>]"
      ]
     },
     "execution_count": 9,
     "metadata": {},
     "output_type": "execute_result"
    },
    {
     "data": {
      "image/png": "[encoded data removed]",
      "text/plain": [
       "<Figure size 640x480 with 1 Axes>"
      ]
     },
     "metadata": {},
     "output_type": "display_data"
    }
   ],
   "source": [
    "redshift=shoes['zHD']\n",
    "mu=shoes['MU_SH0ES']\n",
    "\n",
    "plt.plot(redshift, mu,'.')"
   ]
  },
  {
   "attachments": {
    "image.png": {
     "image/png": "[encoded data removed]"
    }
   },
   "cell_type": "markdown",
   "metadata": {},
   "source": [
    "![image.png](attachment:image.png)"
   ]
  },
  {
   "cell_type": "code",
   "execution_count": 10,
   "metadata": {},
   "outputs": [
    {
     "data": {
      "text/plain": [
       "Sequential(\n",
       "  (0): Linear(in_features=3, out_features=20, bias=True)\n",
       "  (1): Tanh()\n",
       "  (2): Linear(in_features=20, out_features=20, bias=True)\n",
       "  (3): Tanh()\n",
       "  (4): Linear(in_features=20, out_features=20, bias=True)\n",
       "  (5): Tanh()\n",
       "  (6): Linear(in_features=20, out_features=1, bias=True)\n",
       ")"
      ]
     },
     "execution_count": 10,
     "metadata": {},
     "output_type": "execute_result"
    }
   ],
   "source": [
    "#importing model\n",
    "nodos=20\n",
    "ANN_Dl =  nn.Sequential(nn.Linear(3, nodos), nn.Tanh(), nn.Linear(nodos,nodos),\n",
    "                    nn.Tanh(), nn.Linear(nodos,nodos),\n",
    "                    #nn.Tanh(), nn.Linear(nodos,nodos),\n",
    "                    #nn.Tanh(), nn.Linear(nodos,nodos),\n",
    "                    # nn.Tanh(), nn.Linear(nodos,nodos)\n",
    "                    nn.Tanh(),nn.Linear(nodos,1))\n",
    "\n",
    "ANN_Dl.load_state_dict(torch.load('CPL_param_dict_50'))\n",
    "ANN_Dl.eval()"
   ]
  },
  {
   "cell_type": "code",
   "execution_count": 11,
   "metadata": {},
   "outputs": [
    {
     "data": {
      "text/plain": [
       "tensor([0.9716], grad_fn=<ViewBackward0>)"
      ]
     },
     "execution_count": 11,
     "metadata": {},
     "output_type": "execute_result"
    }
   ],
   "source": [
    "ANN_Dl(torch.tensor([0.1,0.1,0.1]))"
   ]
  },
  {
   "attachments": {
    "image-2.png": {
     "image/png": "[encoded data removed]"
    },
    "image.png": {
     "image/png": "[encoded data removed]"
    }
   },
   "cell_type": "markdown",
   "metadata": {},
   "source": [
    "![image.png](attachment:image.png)\n",
    "\n",
    "![image-2.png](attachment:image-2.png)"
   ]
  },
  {
   "cell_type": "code",
   "execution_count": 12,
   "metadata": {},
   "outputs": [],
   "source": [
    "#DL numérica\n",
    "Omega_m0 = 0.3\n",
    "Omega_Lambda0 = 0.7\n",
    "omega_0, omega_a = 1,1\n",
    "\n",
    "zi=0.0\n",
    "#zf=3.0\n",
    "\n",
    "def integrand(z, omega_0, omega_a):\n",
    "    return 1 / np.sqrt(Omega_m0 * (1 + z)**3 + Omega_Lambda0 * (1 + z)**(3 * (1 + omega_0 + omega_a)) * np.exp(-3 * omega_a * z / (1 + z)))\n",
    "\n",
    "def DL(omega_0, omega_a):\n",
    "    resultado, _ =  quad(integrand, zi, zf,args=(omega_0, omega_a))\n",
    "    return resultado  "
   ]
  },
  {
   "cell_type": "code",
   "execution_count": 13,
   "metadata": {},
   "outputs": [
    {
     "data": {
      "text/plain": [
       "0       0.00122\n",
       "1       0.00122\n",
       "2       0.00256\n",
       "3       0.00256\n",
       "4       0.00299\n",
       "         ...   \n",
       "1696    1.61505\n",
       "1697    1.69706\n",
       "1698    1.80119\n",
       "1699    1.91165\n",
       "1700    2.26137\n",
       "Name: zHD, Length: 1701, dtype: float64"
      ]
     },
     "execution_count": 13,
     "metadata": {},
     "output_type": "execute_result"
    }
   ],
   "source": [
    "redshift"
   ]
  },
  {
   "cell_type": "code",
   "execution_count": null,
   "metadata": {},
   "outputs": [],
   "source": []
  },
  {
   "cell_type": "code",
   "execution_count": 1,
   "metadata": {},
   "outputs": [
    {
     "ename": "NameError",
     "evalue": "name 'DL' is not defined",
     "output_type": "error",
     "traceback": [
      "\u001b[0;31m---------------------------------------------------------------------------\u001b[0m",
      "\u001b[0;31mNameError\u001b[0m                                 Traceback (most recent call last)",
      "Cell \u001b[0;32mIn[1], line 1\u001b[0m\n\u001b[0;32m----> 1\u001b[0m \u001b[43mget_ipython\u001b[49m\u001b[43m(\u001b[49m\u001b[43m)\u001b[49m\u001b[38;5;241;43m.\u001b[39;49m\u001b[43mrun_line_magic\u001b[49m\u001b[43m(\u001b[49m\u001b[38;5;124;43m'\u001b[39;49m\u001b[38;5;124;43mtimeit\u001b[39;49m\u001b[38;5;124;43m'\u001b[39;49m\u001b[43m,\u001b[49m\u001b[43m \u001b[49m\u001b[38;5;124;43m'\u001b[39;49m\u001b[38;5;124;43mDL([12])\u001b[39;49m\u001b[38;5;124;43m'\u001b[39;49m\u001b[43m)\u001b[49m\n",
      "File \u001b[0;32m~/.local/lib/python3.10/site-packages/IPython/core/interactiveshell.py:2456\u001b[0m, in \u001b[0;36mInteractiveShell.run_line_magic\u001b[0;34m(self, magic_name, line, _stack_depth)\u001b[0m\n\u001b[1;32m   2454\u001b[0m     kwargs[\u001b[38;5;124m'\u001b[39m\u001b[38;5;124mlocal_ns\u001b[39m\u001b[38;5;124m'\u001b[39m] \u001b[38;5;241m=\u001b[39m \u001b[38;5;28mself\u001b[39m\u001b[38;5;241m.\u001b[39mget_local_scope(stack_depth)\n\u001b[1;32m   2455\u001b[0m \u001b[38;5;28;01mwith\u001b[39;00m \u001b[38;5;28mself\u001b[39m\u001b[38;5;241m.\u001b[39mbuiltin_trap:\n\u001b[0;32m-> 2456\u001b[0m     result \u001b[38;5;241m=\u001b[39m \u001b[43mfn\u001b[49m\u001b[43m(\u001b[49m\u001b[38;5;241;43m*\u001b[39;49m\u001b[43margs\u001b[49m\u001b[43m,\u001b[49m\u001b[43m \u001b[49m\u001b[38;5;241;43m*\u001b[39;49m\u001b[38;5;241;43m*\u001b[39;49m\u001b[43mkwargs\u001b[49m\u001b[43m)\u001b[49m\n\u001b[1;32m   2458\u001b[0m \u001b[38;5;66;03m# The code below prevents the output from being displayed\u001b[39;00m\n\u001b[1;32m   2459\u001b[0m \u001b[38;5;66;03m# when using magics with decorator @output_can_be_silenced\u001b[39;00m\n\u001b[1;32m   2460\u001b[0m \u001b[38;5;66;03m# when the last Python token in the expression is a ';'.\u001b[39;00m\n\u001b[1;32m   2461\u001b[0m \u001b[38;5;28;01mif\u001b[39;00m \u001b[38;5;28mgetattr\u001b[39m(fn, magic\u001b[38;5;241m.\u001b[39mMAGIC_OUTPUT_CAN_BE_SILENCED, \u001b[38;5;28;01mFalse\u001b[39;00m):\n",
      "File \u001b[0;32m~/.local/lib/python3.10/site-packages/IPython/core/magics/execution.py:1185\u001b[0m, in \u001b[0;36mExecutionMagics.timeit\u001b[0;34m(self, line, cell, local_ns)\u001b[0m\n\u001b[1;32m   1183\u001b[0m \u001b[38;5;28;01mfor\u001b[39;00m index \u001b[38;5;129;01min\u001b[39;00m \u001b[38;5;28mrange\u001b[39m(\u001b[38;5;241m0\u001b[39m, \u001b[38;5;241m10\u001b[39m):\n\u001b[1;32m   1184\u001b[0m     number \u001b[38;5;241m=\u001b[39m \u001b[38;5;241m10\u001b[39m \u001b[38;5;241m*\u001b[39m\u001b[38;5;241m*\u001b[39m index\n\u001b[0;32m-> 1185\u001b[0m     time_number \u001b[38;5;241m=\u001b[39m \u001b[43mtimer\u001b[49m\u001b[38;5;241;43m.\u001b[39;49m\u001b[43mtimeit\u001b[49m\u001b[43m(\u001b[49m\u001b[43mnumber\u001b[49m\u001b[43m)\u001b[49m\n\u001b[1;32m   1186\u001b[0m     \u001b[38;5;28;01mif\u001b[39;00m time_number \u001b[38;5;241m>\u001b[39m\u001b[38;5;241m=\u001b[39m \u001b[38;5;241m0.2\u001b[39m:\n\u001b[1;32m   1187\u001b[0m         \u001b[38;5;28;01mbreak\u001b[39;00m\n",
      "File \u001b[0;32m~/.local/lib/python3.10/site-packages/IPython/core/magics/execution.py:173\u001b[0m, in \u001b[0;36mTimer.timeit\u001b[0;34m(self, number)\u001b[0m\n\u001b[1;32m    171\u001b[0m gc\u001b[38;5;241m.\u001b[39mdisable()\n\u001b[1;32m    172\u001b[0m \u001b[38;5;28;01mtry\u001b[39;00m:\n\u001b[0;32m--> 173\u001b[0m     timing \u001b[38;5;241m=\u001b[39m \u001b[38;5;28;43mself\u001b[39;49m\u001b[38;5;241;43m.\u001b[39;49m\u001b[43minner\u001b[49m\u001b[43m(\u001b[49m\u001b[43mit\u001b[49m\u001b[43m,\u001b[49m\u001b[43m \u001b[49m\u001b[38;5;28;43mself\u001b[39;49m\u001b[38;5;241;43m.\u001b[39;49m\u001b[43mtimer\u001b[49m\u001b[43m)\u001b[49m\n\u001b[1;32m    174\u001b[0m \u001b[38;5;28;01mfinally\u001b[39;00m:\n\u001b[1;32m    175\u001b[0m     \u001b[38;5;28;01mif\u001b[39;00m gcold:\n",
      "File \u001b[0;32m<magic-timeit>:1\u001b[0m, in \u001b[0;36minner\u001b[0;34m(_it, _timer)\u001b[0m\n",
      "\u001b[0;31mNameError\u001b[0m: name 'DL' is not defined"
     ]
    }
   ],
   "source": [
    "%timeit DL([12])"
   ]
  },
  {
   "cell_type": "code",
   "execution_count": null,
   "metadata": {},
   "outputs": [
    {
     "name": "stdout",
     "output_type": "stream",
     "text": [
      "134 µs ± 3.45 µs per loop (mean ± std. dev. of 7 runs, 10,000 loops each)\n"
     ]
    }
   ],
   "source": [
    "%timeit ANN_Dl(torch.tensor([0.0,1.0,1.0]))"
   ]
  },
  {
   "cell_type": "code",
   "execution_count": null,
   "metadata": {},
   "outputs": [],
   "source": []
  }
 ],
 "metadata": {
  "kernelspec": {
   "display_name": "Python 3",
   "language": "python",
   "name": "python3"
  },
  "language_info": {
   "codemirror_mode": {
    "name": "ipython",
    "version": 3
   },
   "file_extension": ".py",
   "mimetype": "text/x-python",
   "name": "python",
   "nbconvert_exporter": "python",
   "pygments_lexer": "ipython3",
   "version": "3.10.12"
  }
 },
 "nbformat": 4,
 "nbformat_minor": 2
}
