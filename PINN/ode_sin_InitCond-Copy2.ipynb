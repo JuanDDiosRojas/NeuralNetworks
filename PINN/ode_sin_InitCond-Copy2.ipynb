{
 "cells": [
  {
   "cell_type": "code",
   "execution_count": 1,
   "id": "07b0dc54-1352-4ab2-9ac9-837ba9d858a0",
   "metadata": {},
   "outputs": [],
   "source": [
    "import torch\n",
    "import torch.nn as nn\n",
    "import matplotlib.pyplot as plt\n",
    "import numpy as np\n",
    "from scipy.integrate import odeint\n",
    "from functions import nth_derivative, partial\n",
    "from torch.autograd.functional import jacobian\n",
    "from torch.autograd.functional import hessian\n",
    "import mplcyberpunk"
   ]
  },
  {
   "cell_type": "code",
   "execution_count": 2,
   "id": "f522a9a4-4230-46bb-b4fd-c0d4ed39465f",
   "metadata": {},
   "outputs": [],
   "source": [
    "plt.style.use('cyberpunk')\n",
    "#mplcyberpunk.make_lines_glow()"
   ]
  },
  {
   "cell_type": "code",
   "execution_count": 4,
   "id": "4d161485-8ef6-454f-8cde-71379580780e",
   "metadata": {},
   "outputs": [],
   "source": [
    "def F(X):\n",
    "    return X[0]**2 + X[0]*X[1]"
   ]
  },
  {
   "cell_type": "code",
   "execution_count": 5,
   "id": "a72c626a-1d50-497d-94f8-051f188f3e49",
   "metadata": {},
   "outputs": [],
   "source": [
    "X=torch.tensor([2.0,3.0], requires_grad=True)"
   ]
  },
  {
   "cell_type": "code",
   "execution_count": 6,
   "id": "3da90947-acf1-4542-8d68-05f83268fd99",
   "metadata": {},
   "outputs": [
    {
     "data": {
      "text/plain": [
       "tensor([7., 2.])"
      ]
     },
     "execution_count": 6,
     "metadata": {},
     "output_type": "execute_result"
    }
   ],
   "source": [
    "torch.autograd.grad(F(X), X)[0]"
   ]
  },
  {
   "cell_type": "markdown",
   "id": "5356d693-0fb6-4ca0-b6c0-35c881b4ff3d",
   "metadata": {},
   "source": [
    "$$\\frac{dx}{dt} = \\sin(t)$$\n",
    "\n",
    "$$x(0) = 0$$\n",
    "\n",
    "And the input of the network are now: $t,x_0$\n",
    "\n",
    "And the output is $ANN$"
   ]
  },
  {
   "cell_type": "markdown",
   "id": "c53bdc67-91d0-488a-8574-4a1d3ca3041b",
   "metadata": {},
   "source": [
    "The reparametrization fos this initial value problem is:\n",
    "\n",
    "$$\\hat{x}(t,x_0) = x_0 + (1-e^{-(t-t_0)})ANN(t,x_0)$$"
   ]
  },
  {
   "cell_type": "code",
   "execution_count": 11,
   "id": "ca5eb0c1-b7ec-496c-ad54-53a16655550e",
   "metadata": {},
   "outputs": [],
   "source": [
    "# x0_i=0.0\n",
    "\n",
    "# x0_f=5.0\n",
    "\n",
    "lna_i=0.1\n",
    "lna_f=5.0"
   ]
  },
  {
   "cell_type": "markdown",
   "id": "39740d34-64db-4b44-b9e7-d3c8e6ee73ff",
   "metadata": {},
   "source": [
    "#### Differential equation"
   ]
  },
  {
   "cell_type": "markdown",
   "id": "c074042f-6124-49fc-b554-a279450df68e",
   "metadata": {},
   "source": [
    "#1 Define the fucntion that describes the differential equation F(t;x,x',...)=0\n",
    "\n",
    "#In this case, the solutions depends on many variables, then the derivative is actually a partial derivative:\n",
    "# We're going to use \n",
    "def oscilador(net,T):\n",
    "    return partial(net, T, (0,)) - torch.sin(T[:,0])"
   ]
  },
  {
   "cell_type": "markdown",
   "id": "0e478fa5-3a4d-469f-a593-0ae5e4147431",
   "metadata": {},
   "source": [
    "#### Architecture "
   ]
  },
  {
   "cell_type": "code",
   "execution_count": 12,
   "id": "250f91c5-a564-45b0-8e02-d71085d8eec7",
   "metadata": {},
   "outputs": [
    {
     "name": "stdout",
     "output_type": "stream",
     "text": [
      "Sequential(\n",
      "  (0): Linear(in_features=1, out_features=40, bias=True)\n",
      "  (1): Tanh()\n",
      "  (2): Linear(in_features=40, out_features=40, bias=True)\n",
      "  (3): Tanh()\n",
      "  (4): Linear(in_features=40, out_features=1, bias=True)\n",
      ")\n"
     ]
    }
   ],
   "source": [
    "nodos=40\n",
    "ANN = nn.Sequential(nn.Linear(1, nodos), nn.Tanh(), nn.Linear(nodos,nodos),\n",
    "                    # nn.Tanh(), nn.Linear(nodos,nodos),\n",
    "                    # nn.Tanh(), nn.Linear(nodos,nodos),\n",
    "                    # nn.Tanh(), nn.Linear(nodos,nodos),\n",
    "                    # nn.Tanh(), nn.Linear(nodos,nodos),\n",
    "                    nn.Tanh(),nn.Linear(nodos,1))\n",
    "print(ANN)"
   ]
  },
  {
   "cell_type": "markdown",
   "id": "348f6beb-99f1-4a05-989c-7d60885868ac",
   "metadata": {},
   "source": [
    "*** Esta función nos entrega el gradiente de la función que recibe:\n",
    "$$F(x_1,x_2) \\longrightarrow \\nabla F(x_1,x_2)$$"
   ]
  },
  {
   "cell_type": "code",
   "execution_count": 13,
   "id": "e597b82d-d3e3-4ee5-be0a-b49481fa8b2c",
   "metadata": {},
   "outputs": [],
   "source": [
    "# def nth_derivative(net, x):\n",
    "#     output = net(x)\n",
    "\n",
    "#     #grad_tensor = torch.ones(output.size(), dtype=torch.float32, requires_grad=True)\n",
    "#     #gradients=torch.autograd.grad(output, x, grad_outputs=grad_tensor)[0]\n",
    "#     gradients=torch.autograd.grad(output, x)[0]\n",
    "#     # Calcular las derivadas parciales\n",
    "#     #gradients = torch.autograd.grad(output, x)[0]\n",
    "#     return gradients"
   ]
  },
  {
   "cell_type": "code",
   "execution_count": 14,
   "id": "e0d9408b-d78e-463e-b418-e831de56aee3",
   "metadata": {},
   "outputs": [],
   "source": [
    "def nth_derivative(net, x, n):\n",
    "    # Initialize the gradient tensor to 1.0, as the 0th derivative is the function itself.\n",
    "    ann=net(x)\n",
    "    grad_tensor = torch.ones(ann.size(), dtype=torch.float32, requires_grad=True)\n",
    "    for _ in range(n):\n",
    "        # Compute the gradient of the network's output with respect to the input.\n",
    "        ann = torch.autograd.grad(ann, x, grad_outputs=grad_tensor, create_graph=True)[0]\n",
    "    return ann"
   ]
  },
  {
   "cell_type": "code",
   "execution_count": 19,
   "id": "5c565b6d-0fa4-4e88-87e9-c9d5ffea385d",
   "metadata": {},
   "outputs": [],
   "source": [
    "#5 el intervalo que queremos para x\n",
    "#x0 = torch.linspace(0,2,5)\n",
    "T = torch.linspace(lna_i,lna_f,30)\n",
    "# T = torch.cartesian_prod(t,x0)\n",
    "T.requires_grad=True"
   ]
  },
  {
   "cell_type": "code",
   "execution_count": 23,
   "id": "e6444ea9-5071-405d-9540-9e4aa870905d",
   "metadata": {},
   "outputs": [],
   "source": [
    "T=T.reshape([30,1])"
   ]
  },
  {
   "cell_type": "code",
   "execution_count": 24,
   "id": "5346c1a1-6f64-42de-87b6-afb00afa02cb",
   "metadata": {},
   "outputs": [
    {
     "data": {
      "text/plain": [
       "tensor([[-0.0030],\n",
       "        [-0.0006],\n",
       "        [ 0.0034],\n",
       "        [ 0.0057],\n",
       "        [ 0.0037],\n",
       "        [-0.0036],\n",
       "        [-0.0148],\n",
       "        [-0.0275],\n",
       "        [-0.0390],\n",
       "        [-0.0475],\n",
       "        [-0.0524],\n",
       "        [-0.0536],\n",
       "        [-0.0516],\n",
       "        [-0.0474],\n",
       "        [-0.0418],\n",
       "        [-0.0355],\n",
       "        [-0.0292],\n",
       "        [-0.0232],\n",
       "        [-0.0178],\n",
       "        [-0.0131],\n",
       "        [-0.0091],\n",
       "        [-0.0059],\n",
       "        [-0.0032],\n",
       "        [-0.0012],\n",
       "        [ 0.0004],\n",
       "        [ 0.0015],\n",
       "        [ 0.0023],\n",
       "        [ 0.0029],\n",
       "        [ 0.0032],\n",
       "        [ 0.0033]], grad_fn=<MmBackward0>)"
      ]
     },
     "execution_count": 24,
     "metadata": {},
     "output_type": "execute_result"
    }
   ],
   "source": [
    "nth_derivative(ANN,T,1)"
   ]
  },
  {
   "cell_type": "markdown",
   "id": "6f2277b9-371c-4a1e-9819-37405a7325c9",
   "metadata": {},
   "source": [
    "#### Reparametrization"
   ]
  },
  {
   "cell_type": "code",
   "execution_count": 25,
   "id": "3c2cf9ed-b096-4bdc-90df-99a2512a9e92",
   "metadata": {},
   "outputs": [],
   "source": [
    "def Param(T,net=ANN):\n",
    "    out = net(T)\n",
    "    b=1-torch.exp(ti-T[:,0])\n",
    "    \n",
    "    #return torch.reshape(T[:,1],out.size()) + b*out\n",
    "    return torch.reshape(T[:,1],out.shape) + b.reshape(out.shape)*out"
   ]
  },
  {
   "cell_type": "code",
   "execution_count": 26,
   "id": "729a72e9-23b6-46b4-a4b0-31254cc835af",
   "metadata": {},
   "outputs": [
    {
     "ename": "IndexError",
     "evalue": "index 1 is out of bounds for dimension 1 with size 1",
     "output_type": "error",
     "traceback": [
      "\u001b[0;31m---------------------------------------------------------------------------\u001b[0m",
      "\u001b[0;31mIndexError\u001b[0m                                Traceback (most recent call last)",
      "Cell \u001b[0;32mIn[26], line 1\u001b[0m\n\u001b[0;32m----> 1\u001b[0m \u001b[43mParam\u001b[49m\u001b[43m(\u001b[49m\u001b[43mT\u001b[49m\u001b[43m)\u001b[49m\n",
      "Cell \u001b[0;32mIn[25], line 6\u001b[0m, in \u001b[0;36mParam\u001b[0;34m(T, net)\u001b[0m\n\u001b[1;32m      3\u001b[0m b\u001b[38;5;241m=\u001b[39m\u001b[38;5;241m1\u001b[39m\u001b[38;5;241m-\u001b[39mtorch\u001b[38;5;241m.\u001b[39mexp(ti\u001b[38;5;241m-\u001b[39mT[:,\u001b[38;5;241m0\u001b[39m])\n\u001b[1;32m      5\u001b[0m \u001b[38;5;66;03m#return torch.reshape(T[:,1],out.size()) + b*out\u001b[39;00m\n\u001b[0;32m----> 6\u001b[0m \u001b[38;5;28;01mreturn\u001b[39;00m torch\u001b[38;5;241m.\u001b[39mreshape(\u001b[43mT\u001b[49m\u001b[43m[\u001b[49m\u001b[43m:\u001b[49m\u001b[43m,\u001b[49m\u001b[38;5;241;43m1\u001b[39;49m\u001b[43m]\u001b[49m,out\u001b[38;5;241m.\u001b[39mshape) \u001b[38;5;241m+\u001b[39m b\u001b[38;5;241m.\u001b[39mreshape(out\u001b[38;5;241m.\u001b[39mshape)\u001b[38;5;241m*\u001b[39mout\n",
      "\u001b[0;31mIndexError\u001b[0m: index 1 is out of bounds for dimension 1 with size 1"
     ]
    }
   ],
   "source": [
    "Param(T)"
   ]
  },
  {
   "cell_type": "markdown",
   "id": "ff4dbfb7-e2eb-496c-8b0f-f343edc8a962",
   "metadata": {},
   "source": [
    "#### Cost function\n"
   ]
  },
  {
   "cell_type": "code",
   "execution_count": 81,
   "id": "a7961343-242b-4d47-8b62-76aa7c62d8be",
   "metadata": {},
   "outputs": [],
   "source": [
    "#Now the cost function\n",
    "def cost(t):\n",
    "    t.requires_grad=True\n",
    "    Dt = nth_derivative(Param, t,1)[:,0] #Las derivadas parciales\n",
    "    osc = Dt-torch.sin(T[:,0])\n",
    "    return torch.linalg.norm(osc)"
   ]
  },
  {
   "cell_type": "markdown",
   "id": "8acbdabb-5540-4ea5-a0b1-b8120d37a4fb",
   "metadata": {},
   "source": [
    "*** $\\texttt{cost}$ debería poder ser evaluada en un conjunto con la forma de $\\textbf{T}$ ***\n",
    "\n",
    "### Nuestras funciones deberían estar vectorizadas"
   ]
  },
  {
   "cell_type": "code",
   "execution_count": 82,
   "id": "c05d34e6-4ecd-4c1d-a3cf-74a2d2952986",
   "metadata": {
    "scrolled": true
   },
   "outputs": [
    {
     "data": {
      "text/plain": [
       "tensor(8.5304, grad_fn=<LinalgVectorNormBackward0>)"
      ]
     },
     "execution_count": 82,
     "metadata": {},
     "output_type": "execute_result"
    }
   ],
   "source": [
    "cost(T)"
   ]
  },
  {
   "cell_type": "code",
   "execution_count": 97,
   "id": "32aa239d-82ac-4945-b6f9-6bd6958bb729",
   "metadata": {},
   "outputs": [],
   "source": [
    "#4 Error and optimizer\n",
    "learning_rate=0.01\n",
    "epocas=100\n",
    "\n",
    "#optimizer=torch.optim.SGD(ANN.parameters(),lr=learning_rate,momentum=0.9)\n",
    "optimizer=optimizer = torch.optim.Adam(ANN.parameters(), lr=learning_rate)\n",
    "#optimizer = torch.optim.Adadelta(ANN.parameters(), lr=learning_rate)"
   ]
  },
  {
   "cell_type": "code",
   "execution_count": 98,
   "id": "b4d95c12-3fc1-48c3-8651-0bd8a69dd7ca",
   "metadata": {},
   "outputs": [
    {
     "name": "stdout",
     "output_type": "stream",
     "text": [
      "época=0.00 , loss=4.37\n",
      "época=1.00 , loss=4.25\n",
      "época=2.00 , loss=3.79\n",
      "época=3.00 , loss=3.89\n",
      "época=4.00 , loss=3.75\n",
      "época=5.00 , loss=3.34\n",
      "época=6.00 , loss=3.32\n",
      "época=7.00 , loss=3.45\n",
      "época=8.00 , loss=3.37\n",
      "época=9.00 , loss=3.17\n",
      "época=10.00 , loss=3.11\n",
      "época=11.00 , loss=3.19\n",
      "época=12.00 , loss=3.22\n",
      "época=13.00 , loss=3.12\n",
      "época=14.00 , loss=3.01\n",
      "época=15.00 , loss=3.00\n",
      "época=16.00 , loss=3.05\n",
      "época=17.00 , loss=3.07\n",
      "época=18.00 , loss=3.00\n",
      "época=19.00 , loss=2.93\n",
      "época=20.00 , loss=2.91\n",
      "época=21.00 , loss=2.93\n",
      "época=22.00 , loss=2.93\n",
      "época=23.00 , loss=2.88\n",
      "época=24.00 , loss=2.84\n",
      "época=25.00 , loss=2.84\n",
      "época=26.00 , loss=2.84\n",
      "época=27.00 , loss=2.81\n",
      "época=28.00 , loss=2.78\n",
      "época=29.00 , loss=2.76\n",
      "época=30.00 , loss=2.76\n",
      "época=31.00 , loss=2.75\n",
      "época=32.00 , loss=2.72\n",
      "época=33.00 , loss=2.70\n",
      "época=34.00 , loss=2.70\n",
      "época=35.00 , loss=2.69\n",
      "época=36.00 , loss=2.66\n",
      "época=37.00 , loss=2.64\n",
      "época=38.00 , loss=2.63\n",
      "época=39.00 , loss=2.62\n",
      "época=40.00 , loss=2.60\n",
      "época=41.00 , loss=2.59\n",
      "época=42.00 , loss=2.58\n",
      "época=43.00 , loss=2.56\n",
      "época=44.00 , loss=2.54\n",
      "época=45.00 , loss=2.53\n",
      "época=46.00 , loss=2.51\n",
      "época=47.00 , loss=2.50\n",
      "época=48.00 , loss=2.47\n",
      "época=49.00 , loss=2.45\n",
      "época=50.00 , loss=2.44\n",
      "época=51.00 , loss=2.40\n",
      "época=52.00 , loss=2.37\n",
      "época=53.00 , loss=2.35\n",
      "época=54.00 , loss=2.33\n",
      "época=55.00 , loss=2.32\n",
      "época=56.00 , loss=2.35\n",
      "época=57.00 , loss=2.30\n",
      "época=58.00 , loss=2.28\n",
      "época=59.00 , loss=2.27\n",
      "época=60.00 , loss=2.22\n",
      "época=61.00 , loss=2.23\n",
      "época=62.00 , loss=2.17\n",
      "época=63.00 , loss=2.18\n",
      "época=64.00 , loss=2.12\n",
      "época=65.00 , loss=2.11\n",
      "época=66.00 , loss=2.07\n",
      "época=67.00 , loss=2.03\n",
      "época=68.00 , loss=2.01\n",
      "época=69.00 , loss=1.96\n",
      "época=70.00 , loss=1.93\n",
      "época=71.00 , loss=1.89\n",
      "época=72.00 , loss=1.83\n",
      "época=73.00 , loss=1.79\n",
      "época=74.00 , loss=1.76\n",
      "época=75.00 , loss=1.71\n",
      "época=76.00 , loss=1.65\n",
      "época=77.00 , loss=1.61\n",
      "época=78.00 , loss=1.56\n",
      "época=79.00 , loss=1.51\n",
      "época=80.00 , loss=1.50\n",
      "época=81.00 , loss=1.67\n",
      "época=82.00 , loss=1.69\n",
      "época=83.00 , loss=1.30\n",
      "época=84.00 , loss=1.52\n",
      "época=85.00 , loss=1.43\n",
      "época=86.00 , loss=1.17\n",
      "época=87.00 , loss=1.43\n",
      "época=88.00 , loss=1.17\n",
      "época=89.00 , loss=1.10\n",
      "época=90.00 , loss=1.28\n",
      "época=91.00 , loss=1.00\n",
      "época=92.00 , loss=1.00\n",
      "época=93.00 , loss=1.09\n",
      "época=94.00 , loss=0.99\n",
      "época=95.00 , loss=0.90\n",
      "época=96.00 , loss=0.87\n",
      "época=97.00 , loss=0.86\n",
      "época=98.00 , loss=1.09\n",
      "época=99.00 , loss=0.74\n"
     ]
    },
    {
     "data": {
      "text/plain": [
       "[<matplotlib.lines.Line2D at 0x7fdadde3af20>]"
      ]
     },
     "execution_count": 98,
     "metadata": {},
     "output_type": "execute_result"
    },
    {
     "data": {
      "image/png": "[encoded data removed]",
      "text/plain": [
       "<Figure size 640x480 with 1 Axes>"
      ]
     },
     "metadata": {},
     "output_type": "display_data"
    }
   ],
   "source": [
    "#loop de entrenamiendo \n",
    "errores=[]\n",
    "for i in range(epocas):\n",
    "    l=cost(T) #coste\n",
    "    l.backward() #gradiente\n",
    "    optimizer.step() #se actualizan los parámetros\n",
    "    optimizer.zero_grad() #vacíamos el gradiente\n",
    "    #print('época=%.2f , loss=%.2f'%(i,l))\n",
    "    errores.append(float(l))\n",
    "    print('época=%.2f , loss=%.2f'%(i,l))\n",
    "plt.plot(range(epocas),errores)"
   ]
  },
  {
   "cell_type": "code",
   "execution_count": 119,
   "id": "a85d2e78-8472-468a-8682-15290de5b6d2",
   "metadata": {},
   "outputs": [
    {
     "data": {
      "text/plain": [
       "<matplotlib.legend.Legend at 0x7fdadc2b11b0>"
      ]
     },
     "execution_count": 119,
     "metadata": {},
     "output_type": "execute_result"
    },
    {
     "data": {
      "image/png": "[encoded data removed]",
      "text/plain": [
       "<Figure size 640x480 with 1 Axes>"
      ]
     },
     "metadata": {},
     "output_type": "display_data"
    }
   ],
   "source": [
    "x = torch.linspace(0,10,50)\n",
    "x=x.reshape(50,1)\n",
    "\n",
    "u = torch.linspace(0,10,50)\n",
    "v = torch.ones(u.size())\n",
    "X = torch.cartesian_prod(u,v)\n",
    "\n",
    "#plt.plot(x,x**2,'ro')\n",
    "plt.plot(x,2-torch.cos(x),label='Analitic solution')\n",
    "plt.plot(X[:,0],Param(X,net=ANN).detach().numpy(),'--r', label='PINN')\n",
    "plt.legend()\n",
    "#mplcyberpunk.make_lines_glow()"
   ]
  },
  {
   "cell_type": "code",
   "execution_count": 115,
   "id": "7bbeae0d-5941-4e8e-b53a-25b636338ea3",
   "metadata": {},
   "outputs": [
    {
     "data": {
      "text/plain": [
       "torch.Size([2500, 2])"
      ]
     },
     "execution_count": 115,
     "metadata": {},
     "output_type": "execute_result"
    }
   ],
   "source": [
    "X.size()"
   ]
  },
  {
   "cell_type": "code",
   "execution_count": 106,
   "id": "a012a393-bd5e-4913-84cd-8484790720dc",
   "metadata": {},
   "outputs": [
    {
     "data": {
      "text/plain": [
       "torch.Size([25, 1])"
      ]
     },
     "execution_count": 106,
     "metadata": {},
     "output_type": "execute_result"
    }
   ],
   "source": [
    "Param(X,net=ANN).shape"
   ]
  },
  {
   "cell_type": "code",
   "execution_count": 46,
   "id": "2e641c4d-e2d5-44c8-98af-dd5441eb9bdf",
   "metadata": {},
   "outputs": [
    {
     "data": {
      "text/plain": [
       "tensor([0., 0.], grad_fn=<SelectBackward0>)"
      ]
     },
     "execution_count": 46,
     "metadata": {},
     "output_type": "execute_result"
    }
   ],
   "source": [
    "T[0]"
   ]
  },
  {
   "cell_type": "code",
   "execution_count": 21,
   "id": "4730cc5a-ce1b-41c1-bf1f-d867c5454220",
   "metadata": {},
   "outputs": [
    {
     "data": {
      "text/plain": [
       "tensor(9., grad_fn=<AddBackward0>)"
      ]
     },
     "execution_count": 21,
     "metadata": {},
     "output_type": "execute_result"
    }
   ],
   "source": [
    "def G(X): # Desempaqueta el tensor X en sus componentes x e y\n",
    "    resultado = X[0]**2 + X[1]**3\n",
    "    return resultado\n",
    "\n",
    "# Ejemplo de uso\n",
    "# Genera un tensor de entrada X en R^2\n",
    "X = torch.tensor([1.0, 2.0], requires_grad=True)\n",
    "\n",
    "G(X)"
   ]
  },
  {
   "cell_type": "code",
   "execution_count": 22,
   "id": "903e8558-cdb9-495c-afe0-a56775baf497",
   "metadata": {},
   "outputs": [
    {
     "data": {
      "text/plain": [
       "tensor([0.0000, 0.1250], grad_fn=<AddBackward0>)"
      ]
     },
     "execution_count": 22,
     "metadata": {},
     "output_type": "execute_result"
    }
   ],
   "source": [
    "G(T)"
   ]
  },
  {
   "cell_type": "code",
   "execution_count": 23,
   "id": "7885b502-076a-4707-bbad-81dc7437d4f5",
   "metadata": {},
   "outputs": [
    {
     "data": {
      "text/plain": [
       "tensor([0.0000, 0.1250], grad_fn=<AddBackward0>)"
      ]
     },
     "execution_count": 23,
     "metadata": {},
     "output_type": "execute_result"
    }
   ],
   "source": [
    "G(T)"
   ]
  },
  {
   "cell_type": "code",
   "execution_count": 114,
   "id": "ba1e2af9-8bc0-4fa3-9750-28eabe077620",
   "metadata": {},
   "outputs": [
    {
     "data": {
      "text/plain": [
       "tensor(12.)"
      ]
     },
     "execution_count": 114,
     "metadata": {},
     "output_type": "execute_result"
    }
   ],
   "source": [
    "partial(G,X,(1,1))"
   ]
  },
  {
   "cell_type": "code",
   "execution_count": 104,
   "id": "eac6dc2d-f08e-44cb-8293-3c9164d996eb",
   "metadata": {},
   "outputs": [],
   "source": [
    "def f(x):\n",
    "    y = torch.sin(x)\n",
    "    return y\n",
    "\n",
    "x = torch.tensor([0.0, 1.0, 2.0], requires_grad=True)\n",
    "J = torch.autograd.functional.jacobian(f, x)"
   ]
  },
  {
   "cell_type": "code",
   "execution_count": 105,
   "id": "ed53b622-c8b5-4ed8-bc74-2083cd738988",
   "metadata": {},
   "outputs": [
    {
     "data": {
      "text/plain": [
       "tensor([0.0000, 0.5403, -0.0000])"
      ]
     },
     "execution_count": 105,
     "metadata": {},
     "output_type": "execute_result"
    }
   ],
   "source": [
    "partial(f,x,(1,))"
   ]
  },
  {
   "cell_type": "code",
   "execution_count": 100,
   "id": "a2f57a94-027a-433f-8325-511adbe0bfed",
   "metadata": {},
   "outputs": [],
   "source": [
    "a=len((1,))"
   ]
  },
  {
   "cell_type": "code",
   "execution_count": 101,
   "id": "f9c1f095-df4c-421c-a1d3-f874b9f3c5ce",
   "metadata": {},
   "outputs": [
    {
     "name": "stdout",
     "output_type": "stream",
     "text": [
      "hi\n"
     ]
    }
   ],
   "source": [
    "if a>1: print('holo')\n",
    "else: print('hi')"
   ]
  },
  {
   "cell_type": "code",
   "execution_count": null,
   "id": "2bca7c12-e926-4586-b6df-89c8d35a5efa",
   "metadata": {},
   "outputs": [],
   "source": []
  }
 ],
 "metadata": {
  "kernelspec": {
   "display_name": "Python 3 (ipykernel)",
   "language": "python",
   "name": "python3"
  },
  "language_info": {
   "codemirror_mode": {
    "name": "ipython",
    "version": 3
   },
   "file_extension": ".py",
   "mimetype": "text/x-python",
   "name": "python",
   "nbconvert_exporter": "python",
   "pygments_lexer": "ipython3",
   "version": "3.10.12"
  }
 },
 "nbformat": 4,
 "nbformat_minor": 5
}
