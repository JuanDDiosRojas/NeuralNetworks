{
 "cells": [
  {
   "cell_type": "code",
   "execution_count": 174,
   "metadata": {},
   "outputs": [],
   "source": [
    "import torch\n",
    "import torch.nn as nn\n",
    "import matplotlib.pyplot as plt\n",
    "import numpy as np\n",
    "from scipy.integrate import odeint\n",
    "import mplcyberpunk\n",
    "import tqdm\n",
    "from functions import nth_derivative, oscilador,sol_x"
   ]
  },
  {
   "cell_type": "code",
   "execution_count": 175,
   "metadata": {},
   "outputs": [],
   "source": [
    "plt.style.use('cyberpunk')\n",
    "#mplcyberpunk.make_lines_glow()"
   ]
  },
  {
   "cell_type": "code",
   "execution_count": 176,
   "metadata": {},
   "outputs": [],
   "source": [
    "#5 el intervalo que queremos para x\n",
    "ti=0.0\n",
    "tf=10.0\n",
    "t=torch.linspace(ti,tf,120).view(-1,1)\n",
    "\n",
    "# x0_i=-0.5\n",
    "# x0_f=0.6\n",
    "\n",
    "# v0_i=0.0\n",
    "# v0_f=0.6\n",
    "\n",
    "# delta_i=0.0\n",
    "# delta_f=0.3\n",
    "\n",
    "# omega_i=0.0\n",
    "# omega_f=0.3\n",
    "\n",
    "# T=torch.cartesian_prod(torch.linspace(ti,tf,100),\n",
    "#                        torch.arange(x0_i,x0_f,0.1))\n",
    "#                      #   torch.arange(x0_i,x0_f,0.1))\n",
    "#                     #    torch.linspace(delta_i,delta_f,8),\n",
    "#                     #    torch.linspace(omega_i,omega_f,8))\n",
    "\n",
    "# T=T[torch.randperm(T.shape[0])]"
   ]
  },
  {
   "cell_type": "code",
   "execution_count": 177,
   "metadata": {},
   "outputs": [
    {
     "data": {
      "text/plain": [
       "tensor([[ 0.0000],\n",
       "        [ 0.0840],\n",
       "        [ 0.1681],\n",
       "        [ 0.2521],\n",
       "        [ 0.3361],\n",
       "        [ 0.4202],\n",
       "        [ 0.5042],\n",
       "        [ 0.5882],\n",
       "        [ 0.6723],\n",
       "        [ 0.7563],\n",
       "        [ 0.8403],\n",
       "        [ 0.9244],\n",
       "        [ 1.0084],\n",
       "        [ 1.0924],\n",
       "        [ 1.1765],\n",
       "        [ 1.2605],\n",
       "        [ 1.3445],\n",
       "        [ 1.4286],\n",
       "        [ 1.5126],\n",
       "        [ 1.5966],\n",
       "        [ 1.6807],\n",
       "        [ 1.7647],\n",
       "        [ 1.8487],\n",
       "        [ 1.9328],\n",
       "        [ 2.0168],\n",
       "        [ 2.1008],\n",
       "        [ 2.1849],\n",
       "        [ 2.2689],\n",
       "        [ 2.3529],\n",
       "        [ 2.4370],\n",
       "        [ 2.5210],\n",
       "        [ 2.6050],\n",
       "        [ 2.6891],\n",
       "        [ 2.7731],\n",
       "        [ 2.8571],\n",
       "        [ 2.9412],\n",
       "        [ 3.0252],\n",
       "        [ 3.1092],\n",
       "        [ 3.1933],\n",
       "        [ 3.2773],\n",
       "        [ 3.3613],\n",
       "        [ 3.4454],\n",
       "        [ 3.5294],\n",
       "        [ 3.6134],\n",
       "        [ 3.6975],\n",
       "        [ 3.7815],\n",
       "        [ 3.8655],\n",
       "        [ 3.9496],\n",
       "        [ 4.0336],\n",
       "        [ 4.1176],\n",
       "        [ 4.2017],\n",
       "        [ 4.2857],\n",
       "        [ 4.3697],\n",
       "        [ 4.4538],\n",
       "        [ 4.5378],\n",
       "        [ 4.6218],\n",
       "        [ 4.7059],\n",
       "        [ 4.7899],\n",
       "        [ 4.8739],\n",
       "        [ 4.9580],\n",
       "        [ 5.0420],\n",
       "        [ 5.1261],\n",
       "        [ 5.2101],\n",
       "        [ 5.2941],\n",
       "        [ 5.3782],\n",
       "        [ 5.4622],\n",
       "        [ 5.5462],\n",
       "        [ 5.6303],\n",
       "        [ 5.7143],\n",
       "        [ 5.7983],\n",
       "        [ 5.8824],\n",
       "        [ 5.9664],\n",
       "        [ 6.0504],\n",
       "        [ 6.1345],\n",
       "        [ 6.2185],\n",
       "        [ 6.3025],\n",
       "        [ 6.3866],\n",
       "        [ 6.4706],\n",
       "        [ 6.5546],\n",
       "        [ 6.6387],\n",
       "        [ 6.7227],\n",
       "        [ 6.8067],\n",
       "        [ 6.8908],\n",
       "        [ 6.9748],\n",
       "        [ 7.0588],\n",
       "        [ 7.1429],\n",
       "        [ 7.2269],\n",
       "        [ 7.3109],\n",
       "        [ 7.3950],\n",
       "        [ 7.4790],\n",
       "        [ 7.5630],\n",
       "        [ 7.6471],\n",
       "        [ 7.7311],\n",
       "        [ 7.8151],\n",
       "        [ 7.8992],\n",
       "        [ 7.9832],\n",
       "        [ 8.0672],\n",
       "        [ 8.1513],\n",
       "        [ 8.2353],\n",
       "        [ 8.3193],\n",
       "        [ 8.4034],\n",
       "        [ 8.4874],\n",
       "        [ 8.5714],\n",
       "        [ 8.6555],\n",
       "        [ 8.7395],\n",
       "        [ 8.8235],\n",
       "        [ 8.9076],\n",
       "        [ 8.9916],\n",
       "        [ 9.0756],\n",
       "        [ 9.1597],\n",
       "        [ 9.2437],\n",
       "        [ 9.3277],\n",
       "        [ 9.4118],\n",
       "        [ 9.4958],\n",
       "        [ 9.5798],\n",
       "        [ 9.6639],\n",
       "        [ 9.7479],\n",
       "        [ 9.8319],\n",
       "        [ 9.9160],\n",
       "        [10.0000]], device='cuda:0')"
      ]
     },
     "execution_count": 177,
     "metadata": {},
     "output_type": "execute_result"
    }
   ],
   "source": [
    "#T.cuda()\n",
    "t.cuda()"
   ]
  },
  {
   "cell_type": "code",
   "execution_count": 178,
   "metadata": {},
   "outputs": [
    {
     "data": {
      "text/plain": [
       "torch.Size([120, 1])"
      ]
     },
     "execution_count": 178,
     "metadata": {},
     "output_type": "execute_result"
    }
   ],
   "source": [
    "t.shape"
   ]
  },
  {
   "cell_type": "code",
   "execution_count": 179,
   "metadata": {},
   "outputs": [
    {
     "name": "stdout",
     "output_type": "stream",
     "text": [
      "Sequential(\n",
      "  (0): Linear(in_features=1, out_features=32, bias=True)\n",
      "  (1): Tanh()\n",
      "  (2): Linear(in_features=32, out_features=32, bias=True)\n",
      "  (3): Tanh()\n",
      "  (4): Linear(in_features=32, out_features=1, bias=True)\n",
      ")\n"
     ]
    }
   ],
   "source": [
    "nodos=32\n",
    "ANN = nn.Sequential(nn.Linear(1, nodos), nn.Tanh(), nn.Linear(nodos,nodos),\n",
    "                    #nn.Tanh(), nn.Linear(nodos,nodos),\n",
    "                    #nn.Tanh(), nn.Linear(nodos,nodos),\n",
    "                    #nn.Tanh(), nn.Linear(nodos,nodos),\n",
    "                    # nn.Tanh(), nn.Linear(nodos,nodos),\n",
    "                    nn.Tanh(),nn.Linear(nodos,1))\n",
    "print(ANN)\n"
   ]
  },
  {
   "cell_type": "code",
   "execution_count": 180,
   "metadata": {},
   "outputs": [
    {
     "data": {
      "text/plain": [
       "tensor([[-7.9488e-03],\n",
       "        [-2.1691e-02],\n",
       "        [-3.2613e-02],\n",
       "        [-4.0928e-02],\n",
       "        [-4.7032e-02],\n",
       "        [-5.1408e-02],\n",
       "        [-5.4538e-02],\n",
       "        [-5.6832e-02],\n",
       "        [-5.8594e-02],\n",
       "        [-6.0002e-02],\n",
       "        [-6.1115e-02],\n",
       "        [-6.1903e-02],\n",
       "        [-6.2271e-02],\n",
       "        [-6.2104e-02],\n",
       "        [-6.1290e-02],\n",
       "        [-5.9747e-02],\n",
       "        [-5.7440e-02],\n",
       "        [-5.4382e-02],\n",
       "        [-5.0631e-02],\n",
       "        [-4.6287e-02],\n",
       "        [-4.1474e-02],\n",
       "        [-3.6334e-02],\n",
       "        [-3.1014e-02],\n",
       "        [-2.5655e-02],\n",
       "        [-2.0385e-02],\n",
       "        [-1.5317e-02],\n",
       "        [-1.0543e-02],\n",
       "        [-6.1331e-03],\n",
       "        [-2.1371e-03],\n",
       "        [ 1.4147e-03],\n",
       "        [ 4.5098e-03],\n",
       "        [ 7.1502e-03],\n",
       "        [ 9.3502e-03],\n",
       "        [ 1.1134e-02],\n",
       "        [ 1.2531e-02],\n",
       "        [ 1.3576e-02],\n",
       "        [ 1.4308e-02],\n",
       "        [ 1.4764e-02],\n",
       "        [ 1.4981e-02],\n",
       "        [ 1.4995e-02],\n",
       "        [ 1.4841e-02],\n",
       "        [ 1.4548e-02],\n",
       "        [ 1.4145e-02],\n",
       "        [ 1.3656e-02],\n",
       "        [ 1.3103e-02],\n",
       "        [ 1.2504e-02],\n",
       "        [ 1.1874e-02],\n",
       "        [ 1.1228e-02],\n",
       "        [ 1.0576e-02],\n",
       "        [ 9.9269e-03],\n",
       "        [ 9.2874e-03],\n",
       "        [ 8.6633e-03],\n",
       "        [ 8.0586e-03],\n",
       "        [ 7.4765e-03],\n",
       "        [ 6.9190e-03],\n",
       "        [ 6.3874e-03],\n",
       "        [ 5.8826e-03],\n",
       "        [ 5.4047e-03],\n",
       "        [ 4.9535e-03],\n",
       "        [ 4.5284e-03],\n",
       "        [ 4.1289e-03],\n",
       "        [ 3.7539e-03],\n",
       "        [ 3.4024e-03],\n",
       "        [ 3.0734e-03],\n",
       "        [ 2.7656e-03],\n",
       "        [ 2.4779e-03],\n",
       "        [ 2.2091e-03],\n",
       "        [ 1.9581e-03],\n",
       "        [ 1.7238e-03],\n",
       "        [ 1.5050e-03],\n",
       "        [ 1.3008e-03],\n",
       "        [ 1.1102e-03],\n",
       "        [ 9.3223e-04],\n",
       "        [ 7.6603e-04],\n",
       "        [ 6.1078e-04],\n",
       "        [ 4.6575e-04],\n",
       "        [ 3.3021e-04],\n",
       "        [ 2.0348e-04],\n",
       "        [ 8.4993e-05],\n",
       "        [-2.5831e-05],\n",
       "        [-1.2954e-04],\n",
       "        [-2.2658e-04],\n",
       "        [-3.1742e-04],\n",
       "        [-4.0247e-04],\n",
       "        [-4.8207e-04],\n",
       "        [-5.5663e-04],\n",
       "        [-6.2644e-04],\n",
       "        [-6.9176e-04],\n",
       "        [-7.5290e-04],\n",
       "        [-8.1014e-04],\n",
       "        [-8.6361e-04],\n",
       "        [-9.1362e-04],\n",
       "        [-9.6034e-04],\n",
       "        [-1.0040e-03],\n",
       "        [-1.0446e-03],\n",
       "        [-1.0824e-03],\n",
       "        [-1.1177e-03],\n",
       "        [-1.1504e-03],\n",
       "        [-1.1807e-03],\n",
       "        [-1.2088e-03],\n",
       "        [-1.2347e-03],\n",
       "        [-1.2586e-03],\n",
       "        [-1.2805e-03],\n",
       "        [-1.3006e-03],\n",
       "        [-1.3189e-03],\n",
       "        [-1.3355e-03],\n",
       "        [-1.3505e-03],\n",
       "        [-1.3640e-03],\n",
       "        [-1.3760e-03],\n",
       "        [-1.3867e-03],\n",
       "        [-1.3960e-03],\n",
       "        [-1.4040e-03],\n",
       "        [-1.4109e-03],\n",
       "        [-1.4166e-03],\n",
       "        [-1.4212e-03],\n",
       "        [-1.4247e-03],\n",
       "        [-1.4273e-03],\n",
       "        [-1.4289e-03],\n",
       "        [-1.4296e-03],\n",
       "        [-1.4295e-03]], grad_fn=<ViewBackward0>)"
      ]
     },
     "execution_count": 180,
     "metadata": {},
     "output_type": "execute_result"
    }
   ],
   "source": [
    "nth_derivative(ANN, t,2)"
   ]
  },
  {
   "cell_type": "code",
   "execution_count": 181,
   "metadata": {},
   "outputs": [],
   "source": [
    "# def Param(T,net=ANN):\n",
    "#     out = net(T)\n",
    "#     b=1-torch.exp(ti-T)\n",
    "\n",
    "#     #return torch.reshape(T[:,1],out.size()) + b*out\n",
    "#     return 2.0 +() +b.reshape(out.shape)**2 * out\n",
    "\n",
    "# def Param(T,net=ANN):\n",
    "#     #T=[t,x0,v0]\n",
    "#     b=1-torch.exp(ti-T[:,0])\n",
    "#     a=(T[:,0]-ti)*T[:,2]\n",
    "#     #return torch.reshape(T[:,1],out.size()) + b*out\n",
    "#     return T[:,1].view(-1,1) + a.view(-1,1) + b.view(-1,1)**2*net(T)\n",
    "\n",
    "# def Param(T,net=ANN):\n",
    "#     out = net(T)\n",
    "#     a=(T[:,0]-ti)*1.0\n",
    "#     b=1-torch.exp(ti-T[:,0])\n",
    "#     #return torch.reshape(T[:,1],out.size()) + b*out\n",
    "#     return T[:,1].view(-1,1) +a.view(-1,1) +b.view(-1,1)**2 * out\n"
   ]
  },
  {
   "cell_type": "code",
   "execution_count": 182,
   "metadata": {},
   "outputs": [],
   "source": [
    "# Param(T)"
   ]
  },
  {
   "cell_type": "code",
   "execution_count": null,
   "metadata": {},
   "outputs": [],
   "source": []
  },
  {
   "cell_type": "code",
   "execution_count": 183,
   "metadata": {},
   "outputs": [],
   "source": [
    "# def cost(t):\n",
    "#     #Dt = nth_derivative(Param, t,1)\n",
    "#     DDt = nth_derivative(Param, t,2) #las derivadas de orden sup sólo respecto a t\n",
    "#     #delta = T[:, 3]\n",
    "#     #delta = delta.view(-1, 1)\n",
    "#     #omega = T[:, 4]\n",
    "\n",
    "#     osc = DDt - torch.sin(T[:,0]).view(-1,1)\n",
    "\n",
    "#     return torch.linalg.norm(osc)\n",
    "#n=len(T)\n",
    "\n",
    "def cost(t):\n",
    "    Dt = nth_derivative(ANN, t,1)\n",
    "    DDt = nth_derivative(ANN, t,2) #las derivadas de orden sup sólo respecto a t\n",
    "    #delta = T[:, 3]\n",
    "    #delta = delta.view(-1, 1)\n",
    "    #omega = T[:, 4]\n",
    "\n",
    "    osc = DDt + 1.5*Dt + 9.0*ANN(t)\n",
    "    #osc = DDt + t[:,3].view(-1,1)*Dt + t[:,4].view(-1,1)*Param(t)\n",
    "    t0=torch.tensor([[ti]], requires_grad=True)\n",
    "    v0 = nth_derivative(ANN, t0,1)\n",
    "    coste = torch.mean(osc**2) + (ANN(t0) - 0.4)**2 + (v0 - 1.0)**2\n",
    "    #return torch.squeeze(coste) \n",
    "    #return torch.sum(torch.pow(osc, 2))\n",
    "    return coste"
   ]
  },
  {
   "cell_type": "code",
   "execution_count": 184,
   "metadata": {},
   "outputs": [
    {
     "data": {
      "text/plain": [
       "tensor([[-0.9127]], grad_fn=<SubBackward0>)"
      ]
     },
     "execution_count": 184,
     "metadata": {},
     "output_type": "execute_result"
    }
   ],
   "source": [
    "t0=torch.tensor([[ti]], requires_grad=True)\n",
    "nth_derivative(ANN, t0,1)-1.0"
   ]
  },
  {
   "cell_type": "code",
   "execution_count": 185,
   "metadata": {},
   "outputs": [
    {
     "data": {
      "text/plain": [
       "tensor([[1.2245]], grad_fn=<AddBackward0>)"
      ]
     },
     "execution_count": 185,
     "metadata": {},
     "output_type": "execute_result"
    }
   ],
   "source": [
    "cost(t)"
   ]
  },
  {
   "cell_type": "code",
   "execution_count": 193,
   "metadata": {},
   "outputs": [],
   "source": [
    "#4 Error and optimizer\n",
    "learning_rate=0.0001\n",
    "epocas=2000\n",
    "\n",
    "#optimizer=torch.optim.SGD(ANN.parameters(),lr=learning_rate,momentum=0.9)\n",
    "optimizer = torch.optim.Adam(ANN.parameters(), lr=learning_rate)\n",
    "#optimizer = torch.optim.Adadelta(ANN.parameters(), lr=learning_rate)"
   ]
  },
  {
   "cell_type": "code",
   "execution_count": 194,
   "metadata": {},
   "outputs": [
    {
     "name": "stderr",
     "output_type": "stream",
     "text": [
      "Training: 100%|\u001b[36m██████████████████████████████████\u001b[0m| 2000/2000 [00:13<00:00, 152.43it/s, loss=2.68e-5]\u001b[0m\n"
     ]
    },
    {
     "data": {
      "image/png": "[encoded data removed]",
      "text/plain": [
       "<Figure size 640x480 with 1 Axes>"
      ]
     },
     "metadata": {},
     "output_type": "display_data"
    }
   ],
   "source": [
    "#loop de entrenamiendo \n",
    "pbar = tqdm.tqdm(range(epocas), desc=\"Training\",  colour='cyan', ncols=100)\n",
    "\n",
    "errores=[]\n",
    "for i in pbar:\n",
    "    l=cost(t) #coste\n",
    "    #l=torch.nn.MSELoss(Param(T))\n",
    "    l.backward() #gradiente\n",
    "    optimizer.step() #se actualizan los parámetros\n",
    "    optimizer.zero_grad() #vacíamos el gradiente\n",
    "    #print('época=%.2f , loss=%.2f'%(i,l))\n",
    "    errores.append(float(l))\n",
    "    #tqdm.set_description('época: %d , loss: %.2f' % (i, l.item()))\n",
    "    pbar.set_postfix({'loss': l.item()})\n",
    "    #pbar.set_refresh(50)\n",
    "    #tqdm.set_description(\"Training\")\n",
    "    #print('época=%.2f , loss=%.2f'%(i,l))\n",
    "\n",
    "plt.plot(range(epocas),errores)\n",
    "plt.yscale('log')"
   ]
  },
  {
   "cell_type": "code",
   "execution_count": 195,
   "metadata": {},
   "outputs": [
    {
     "data": {
      "text/plain": [
       "<matplotlib.legend.Legend at 0x7f6708483370>"
      ]
     },
     "execution_count": 195,
     "metadata": {},
     "output_type": "execute_result"
    },
    {
     "data": {
      "image/png": "[encoded data removed]",
      "text/plain": [
       "<Figure size 640x480 with 1 Axes>"
      ]
     },
     "metadata": {},
     "output_type": "display_data"
    }
   ],
   "source": [
    "pos_ini=0.4\n",
    "vel_ini=1.0\n",
    "d=1.5\n",
    "omega=3\n",
    "\n",
    "t1 = torch.linspace(ti,tf,150)\n",
    "#x0 = pos_ini*torch.ones([t0.shape[0],1])\n",
    "#v0 = vel_ini*torch.ones([t0.shape[0],1])\n",
    "# delta0 = d*torch.ones([t0.shape[0],1])\n",
    "# omega0 = omega*torch.ones([t0.shape[0],1])\n",
    "\n",
    "#X=torch.cat((t0.view(-1,1),x0),1)\n",
    "#X.cuda()\n",
    "#plt.plot(t0, -torch.sin(t0)+2*t0+pos_ini, label='solución real')\n",
    "plt.plot(t1.detach().numpy(), sol_x([pos_ini,vel_ini], t1, d, omega), label='solución real')\n",
    "#plt.plot(X[:,0],Param(X).detach().numpy(),'--r', label='PINN')\n",
    "plt.plot(t1.detach().numpy(),ANN(t1.view(-1,1)).detach().numpy(),'--r', label='PINN')\n",
    "plt.legend()"
   ]
  },
  {
   "cell_type": "code",
   "execution_count": 153,
   "metadata": {},
   "outputs": [
    {
     "name": "stdout",
     "output_type": "stream",
     "text": [
      "125 µs ± 3.24 µs per loop (mean ± std. dev. of 7 runs, 10,000 loops each)\n"
     ]
    }
   ],
   "source": [
    "%timeit ANN(t).detach().numpy()"
   ]
  },
  {
   "cell_type": "code",
   "execution_count": 154,
   "metadata": {},
   "outputs": [
    {
     "name": "stdout",
     "output_type": "stream",
     "text": [
      "1.31 ms ± 71.8 µs per loop (mean ± std. dev. of 7 runs, 1,000 loops each)\n"
     ]
    }
   ],
   "source": [
    "%timeit sol_x([pos_ini,vel_ini], t1, d, omega) #odeint"
   ]
  },
  {
   "cell_type": "code",
   "execution_count": 155,
   "metadata": {},
   "outputs": [
    {
     "data": {
      "text/plain": [
       "12.792792792792794"
      ]
     },
     "execution_count": 155,
     "metadata": {},
     "output_type": "execute_result"
    }
   ],
   "source": [
    "1.42e-3/111.0e-6"
   ]
  },
  {
   "cell_type": "code",
   "execution_count": 156,
   "metadata": {},
   "outputs": [],
   "source": [
    "torch.save(ANN.state_dict(),'oscilador_diferente_costo')"
   ]
  },
  {
   "cell_type": "code",
   "execution_count": 157,
   "metadata": {},
   "outputs": [
    {
     "data": {
      "text/plain": [
       "OrderedDict([('0.weight',\n",
       "              tensor([[ 0.3717],\n",
       "                      [-1.1326],\n",
       "                      [ 0.8250],\n",
       "                      [-1.1885],\n",
       "                      [ 2.3386],\n",
       "                      [-2.5796],\n",
       "                      [-0.2718],\n",
       "                      [-0.3820],\n",
       "                      [-0.4168],\n",
       "                      [ 1.9987],\n",
       "                      [-0.0567],\n",
       "                      [-0.4589],\n",
       "                      [ 0.1218],\n",
       "                      [ 0.8684],\n",
       "                      [ 1.4526],\n",
       "                      [ 0.0285],\n",
       "                      [ 0.2964],\n",
       "                      [ 1.7389],\n",
       "                      [-0.9218],\n",
       "                      [ 1.8240],\n",
       "                      [-0.6996],\n",
       "                      [ 0.9638],\n",
       "                      [-2.6355],\n",
       "                      [ 0.0557],\n",
       "                      [ 0.2653],\n",
       "                      [-0.0244],\n",
       "                      [ 0.4735],\n",
       "                      [ 1.7293],\n",
       "                      [-0.3333],\n",
       "                      [ 0.7477],\n",
       "                      [-1.8373],\n",
       "                      [-0.3583]])),\n",
       "             ('0.bias',\n",
       "              tensor([ 0.1274,  0.4119,  0.0814,  0.4813,  0.4016, -0.4367,  0.7307,  0.3761,\n",
       "                       0.6860, -1.2315, -0.5982, -1.1507,  0.6168,  0.6391,  0.2776,  0.0625,\n",
       "                       0.0734, -0.8153, -0.4345, -3.6699,  0.7283, -0.2912, -0.4448, -0.4623,\n",
       "                       0.5618,  0.2388, -1.1137, -0.7326,  0.3451, -0.3869,  2.8498,  0.6823])),\n",
       "             ('2.weight',\n",
       "              tensor([[ 0.0140,  0.1702, -0.1699,  ..., -0.0823, -0.1067, -0.0618],\n",
       "                      [-0.1351, -0.0741, -0.0237,  ...,  0.0404, -0.1320,  0.1334],\n",
       "                      [-0.1500, -0.0631, -0.1183,  ..., -0.0293,  0.0724,  0.0769],\n",
       "                      ...,\n",
       "                      [-0.1525,  0.1727,  0.1004,  ..., -0.0101, -0.0002,  0.1602],\n",
       "                      [-0.1092, -0.0239, -0.0949,  ..., -0.0721, -0.0098, -0.1251],\n",
       "                      [-0.1357, -0.1561, -0.0932,  ...,  0.1135, -0.0491, -0.1392]])),\n",
       "             ('2.bias',\n",
       "              tensor([ 0.0675,  0.0014, -0.1445, -0.1182, -0.1737, -0.1150,  0.1253, -0.0184,\n",
       "                       0.1713,  0.0610,  0.0349,  0.1197,  0.0667, -0.0071,  0.0333, -0.1780,\n",
       "                      -0.1648,  0.0281, -0.0363, -0.1563, -0.0250,  0.0564, -0.0034, -0.2006,\n",
       "                      -0.1886, -0.0560,  0.1405,  0.1674,  0.1503,  0.1411, -0.2032,  0.1317])),\n",
       "             ('4.weight',\n",
       "              tensor([[ 0.0506,  0.0013, -0.1422,  0.0014, -0.1426, -0.0423,  0.0701, -0.0371,\n",
       "                       -0.0499,  0.0968, -0.0711,  0.1250,  0.0655, -0.0015,  0.0252,  0.0562,\n",
       "                        0.0062, -0.0151,  0.0595, -0.1581, -0.1541, -0.1968, -0.0010,  0.1594,\n",
       "                        0.0318,  0.0532, -0.2381, -0.1830, -0.0253, -0.0432,  0.1359,  0.0920]])),\n",
       "             ('4.bias', tensor([-0.0373]))])"
      ]
     },
     "execution_count": 157,
     "metadata": {},
     "output_type": "execute_result"
    }
   ],
   "source": [
    "ANN.state_dict()"
   ]
  },
  {
   "cell_type": "code",
   "execution_count": null,
   "metadata": {},
   "outputs": [],
   "source": []
  }
 ],
 "metadata": {
  "kernelspec": {
   "display_name": "Python 3",
   "language": "python",
   "name": "python3"
  },
  "language_info": {
   "codemirror_mode": {
    "name": "ipython",
    "version": 3
   },
   "file_extension": ".py",
   "mimetype": "text/x-python",
   "name": "python",
   "nbconvert_exporter": "python",
   "pygments_lexer": "ipython3",
   "version": "3.10.12"
  }
 },
 "nbformat": 4,
 "nbformat_minor": 2
}
